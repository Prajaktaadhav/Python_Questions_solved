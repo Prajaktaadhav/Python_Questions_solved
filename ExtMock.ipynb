{
 "cells": [
  {
   "cell_type": "code",
   "execution_count": 6,
   "id": "874a28ee",
   "metadata": {},
   "outputs": [
    {
     "name": "stdout",
     "output_type": "stream",
     "text": [
      "test\n"
     ]
    }
   ],
   "source": [
    "d = [{'prajakta_test_assignment':1234}]\n",
    "for i in d:\n",
    "    #print(i)\n",
    "    for k,v in i.items():\n",
    "        print(k.split('_')[-2])\n",
    "        "
   ]
  },
  {
   "cell_type": "code",
   "execution_count": 23,
   "id": "dcf847ff",
   "metadata": {},
   "outputs": [
    {
     "name": "stdout",
     "output_type": "stream",
     "text": [
      "{'a': 1, 'd': 1, 'e': 1}\n"
     ]
    }
   ],
   "source": [
    "max_count = max(d.values(), key=list(d.values()).count)\n",
    "filtered_dict = {k: v for k, v in d.items() if v == max_count}\n",
    "\n",
    "print(filtered_dict)"
   ]
  },
  {
   "cell_type": "code",
   "execution_count": 28,
   "id": "206f5db7",
   "metadata": {},
   "outputs": [
    {
     "name": "stdout",
     "output_type": "stream",
     "text": [
      "1\n"
     ]
    },
    {
     "data": {
      "text/plain": [
       "{'a': 1, 'd': 1, 'e': 1}"
      ]
     },
     "execution_count": 28,
     "metadata": {},
     "output_type": "execute_result"
    }
   ],
   "source": [
    "d = {'a':1,'b':2,'c':2,'d':1,'e':1}\n",
    "m = max(d.values(),key=list(d.values()).count)\n",
    "print(m)\n",
    "{k:v for k,v in d.items() if v==m}"
   ]
  },
  {
   "cell_type": "code",
   "execution_count": 31,
   "id": "f05f1195",
   "metadata": {},
   "outputs": [
    {
     "data": {
      "text/plain": [
       "{'a': 1, 'd': 1, 'e': 1}"
      ]
     },
     "execution_count": 31,
     "metadata": {},
     "output_type": "execute_result"
    }
   ],
   "source": [
    "m=max(d.values(),key=list(d.values()).count)\n",
    "{k:v for k,v in d.items() if v==m}"
   ]
  },
  {
   "cell_type": "code",
   "execution_count": 8,
   "id": "31d4971c",
   "metadata": {},
   "outputs": [
    {
     "data": {
      "text/plain": [
       "1"
      ]
     },
     "execution_count": 8,
     "metadata": {},
     "output_type": "execute_result"
    }
   ],
   "source": [
    "l = [1,2,2,2,3,3,5,6,6,7]\n",
    "# target 2\n",
    "\n",
    "n=l.index(2)\n",
    "n"
   ]
  },
  {
   "cell_type": "code",
   "execution_count": 13,
   "id": "c111f5dc",
   "metadata": {},
   "outputs": [
    {
     "data": {
      "text/plain": [
       "3"
      ]
     },
     "execution_count": 13,
     "metadata": {},
     "output_type": "execute_result"
    }
   ],
   "source": [
    "l1=l[::-1]\n",
    "n2=l1.index(2)\n",
    "len(l)-n2-1"
   ]
  },
  {
   "cell_type": "code",
   "execution_count": 48,
   "id": "84fe739e",
   "metadata": {},
   "outputs": [
    {
     "data": {
      "text/plain": [
       "3"
      ]
     },
     "execution_count": 48,
     "metadata": {},
     "output_type": "execute_result"
    }
   ],
   "source": [
    "l[n+l.index(2)+l.index(2)]"
   ]
  },
  {
   "cell_type": "code",
   "execution_count": 57,
   "id": "ce824354",
   "metadata": {},
   "outputs": [
    {
     "name": "stdout",
     "output_type": "stream",
     "text": [
      "{1: 1, 2: 3, 3: 2, 5: 1, 6: 2, 7: 1}\n",
      "2\n"
     ]
    }
   ],
   "source": [
    "l = [1,2,2,2,3,3,5,6,6,7]\n",
    "d1={}\n",
    "for i in l:\n",
    "    d1[i]=l.count(i)\n",
    "print(d1)\n",
    "mx = max(d1.values())\n",
    "for k,v in d1.items():\n",
    "    if v==mx:\n",
    "        print(k)"
   ]
  },
  {
   "cell_type": "code",
   "execution_count": 58,
   "id": "02d3cecd",
   "metadata": {},
   "outputs": [
    {
     "data": {
      "text/plain": [
       "7"
      ]
     },
     "execution_count": 58,
     "metadata": {},
     "output_type": "execute_result"
    }
   ],
   "source": [
    "max(d1.keys())"
   ]
  },
  {
   "cell_type": "code",
   "execution_count": 51,
   "id": "5809fb46",
   "metadata": {},
   "outputs": [
    {
     "name": "stdout",
     "output_type": "stream",
     "text": [
      "[7, 6, 6, 5, 3, 3, 2, 2, 2, 1]\n"
     ]
    }
   ],
   "source": [
    "rev=l[::-1]\n",
    "print(rev)"
   ]
  },
  {
   "cell_type": "code",
   "execution_count": 50,
   "id": "d2340a53",
   "metadata": {},
   "outputs": [
    {
     "data": {
      "text/plain": [
       "6"
      ]
     },
     "execution_count": 50,
     "metadata": {},
     "output_type": "execute_result"
    }
   ],
   "source": [
    "rev.index(2)"
   ]
  },
  {
   "cell_type": "code",
   "execution_count": 54,
   "id": "5f92b852",
   "metadata": {},
   "outputs": [
    {
     "data": {
      "text/plain": [
       "3"
      ]
     },
     "execution_count": 54,
     "metadata": {},
     "output_type": "execute_result"
    }
   ],
   "source": [
    "len(l)-1-rev.index(2)"
   ]
  },
  {
   "cell_type": "code",
   "execution_count": 52,
   "id": "ee6c1ac2",
   "metadata": {},
   "outputs": [
    {
     "name": "stdout",
     "output_type": "stream",
     "text": [
      "3\n"
     ]
    }
   ],
   "source": [
    "l = [1, 2, 2, 2, 3, 3, 5, 6, 6, 7]\n",
    "\n",
    "last_index_of_2 = len(l) - 1 - l[::-1].index(2)\n",
    "\n",
    "print(last_index_of_2)"
   ]
  },
  {
   "cell_type": "code",
   "execution_count": 14,
   "id": "7be165c6",
   "metadata": {},
   "outputs": [
    {
     "name": "stdout",
     "output_type": "stream",
     "text": [
      "Counter({2: 3, 3: 2, 6: 2, 1: 1, 5: 1, 7: 1})\n",
      "2\n",
      "3\n"
     ]
    }
   ],
   "source": [
    "from collections import Counter\n",
    "l = [1, 2, 2, 2, 3, 3, 5, 6, 6, 7]\n",
    "c = Counter(l)\n",
    "print(c)\n",
    "max_val,cnt=c.most_common(1)[0]\n",
    "print(max_val)\n",
    "print(cnt)"
   ]
  },
  {
   "cell_type": "code",
   "execution_count": 16,
   "id": "508db0bf",
   "metadata": {},
   "outputs": [
    {
     "data": {
      "text/plain": [
       "[(2, 3)]"
      ]
     },
     "execution_count": 16,
     "metadata": {},
     "output_type": "execute_result"
    }
   ],
   "source": [
    "c.most_common(1)"
   ]
  },
  {
   "cell_type": "code",
   "execution_count": 76,
   "id": "6ff6107e",
   "metadata": {},
   "outputs": [
    {
     "data": {
      "text/plain": [
       "[1, 2, 2, 2, 3, 3, 5, 6, 6, 7]"
      ]
     },
     "execution_count": 76,
     "metadata": {},
     "output_type": "execute_result"
    }
   ],
   "source": [
    "list(c.elements())"
   ]
  },
  {
   "cell_type": "code",
   "execution_count": 66,
   "id": "8dd67e69",
   "metadata": {},
   "outputs": [
    {
     "name": "stdout",
     "output_type": "stream",
     "text": [
      "Max value: 2\n",
      "Count: 3\n"
     ]
    }
   ],
   "source": [
    "from collections import Counter\n",
    "\n",
    "l = [1, 2, 2, 2, 3, 3, 5, 6, 6, 7]\n",
    "counter = Counter(l)\n",
    "\n",
    "max_element, max_count = counter.most_common(1)[0]\n",
    "\n",
    "print(\"Max value:\", max_element)\n",
    "print(\"Count:\", max_count)"
   ]
  },
  {
   "cell_type": "code",
   "execution_count": 77,
   "id": "58987b31",
   "metadata": {},
   "outputs": [
    {
     "name": "stdout",
     "output_type": "stream",
     "text": [
      "SGoD SNuR\n"
     ]
    }
   ],
   "source": [
    "def reverse_and_swap_case(sentence):\n",
    "    # Reverse the sentence\n",
    "    reversed_sentence = sentence[::-1]\n",
    "\n",
    "    # Swap the cases of each character while preserving the case\n",
    "    swapped_case_sentence = ''.join([char.swapcase() for char in reversed_sentence])\n",
    "\n",
    "    return swapped_case_sentence\n",
    "\n",
    "# Example usage:\n",
    "sentence = 'rUns dOgs'\n",
    "result = reverse_and_swap_case(sentence)\n",
    "print(result)"
   ]
  },
  {
   "cell_type": "code",
   "execution_count": 78,
   "id": "ceeaf030",
   "metadata": {},
   "outputs": [
    {
     "name": "stdout",
     "output_type": "stream",
     "text": [
      "SNuR SGoD\n"
     ]
    }
   ],
   "source": [
    "def reverse_and_swap_case(sentence):\n",
    "    # Split the sentence into words\n",
    "    words = sentence.split()\n",
    "\n",
    "    # Reverse the words and swap the case of each character in the reversed words\n",
    "    reversed_sentence = ' '.join([word[::-1].swapcase() for word in words])\n",
    "\n",
    "    return reversed_sentence\n",
    "\n",
    "# Example usage:\n",
    "sentence = 'rUns dOgs'\n",
    "result = reverse_and_swap_case(sentence)\n",
    "print(result)"
   ]
  },
  {
   "cell_type": "code",
   "execution_count": 79,
   "id": "e6db85a2",
   "metadata": {},
   "outputs": [
    {
     "name": "stdout",
     "output_type": "stream",
     "text": [
      "Gnidoc Si Emoswa\n"
     ]
    }
   ],
   "source": [
    "def reverse_and_swap_case(sentence):\n",
    "    # Reverse the sentence while preserving the case of each character\n",
    "    reversed_sentence = ''.join([char.lower() if char.isupper() else char.upper() for char in sentence[::-1]])\n",
    "\n",
    "    # Capitalize the first character of each word\n",
    "    result = ' '.join([word.capitalize() for word in reversed_sentence.split()])\n",
    "\n",
    "    return result\n",
    "\n",
    "# Example usage:\n",
    "sentence = 'aWSOME is cODING'\n",
    "result = reverse_and_swap_case(sentence)\n",
    "print(result)"
   ]
  },
  {
   "cell_type": "code",
   "execution_count": 83,
   "id": "9cf0bcc3",
   "metadata": {},
   "outputs": [],
   "source": [
    "sentence = 'aWSOME is cODING'\n",
    "l = list(sentence.split())\n",
    "for i in l:\n",
    "    for j in i:\n",
    "        if j.isupper():\n",
    "            j=j.lower()\n",
    "        else:\n",
    "            j=j.upper()"
   ]
  },
  {
   "cell_type": "code",
   "execution_count": 89,
   "id": "c8acfd46",
   "metadata": {},
   "outputs": [
    {
     "name": "stdout",
     "output_type": "stream",
     "text": [
      "Awsome IS Coding\n"
     ]
    }
   ],
   "source": [
    "sentence = 'aWSOME is cODING'\n",
    "words = sentence.split()\n",
    "result = []\n",
    "\n",
    "for word in words:\n",
    "    modified_word = ''\n",
    "    for letter in word:\n",
    "        if letter.isupper():\n",
    "            modified_word += letter.lower()\n",
    "        elif letter.islower():\n",
    "            modified_word += letter.upper()\n",
    "    result.append(modified_word)\n",
    "\n",
    "print(' '.join(result))"
   ]
  },
  {
   "cell_type": "code",
   "execution_count": 90,
   "id": "8a6e7523",
   "metadata": {
    "scrolled": true
   },
   "outputs": [
    {
     "data": {
      "text/plain": [
       "['aWSOME', 'is', 'cODING']"
      ]
     },
     "execution_count": 90,
     "metadata": {},
     "output_type": "execute_result"
    }
   ],
   "source": [
    "sentence = 'aWSOME is cODING'\n",
    "words = sentence.split()\n",
    "result = []\n",
    "words"
   ]
  },
  {
   "cell_type": "code",
   "execution_count": 92,
   "id": "487bc121",
   "metadata": {},
   "outputs": [
    {
     "name": "stdout",
     "output_type": "stream",
     "text": [
      "Coding IS Awsome\n"
     ]
    }
   ],
   "source": [
    "def swap_case_within_words(sentence):\n",
    "    words = sentence.split()\n",
    "    result = []\n",
    "\n",
    "    for word in words:\n",
    "        modified_word = ''\n",
    "        for letter in word:\n",
    "            if letter.isupper():\n",
    "                modified_word += letter.lower()\n",
    "            elif letter.islower():\n",
    "                modified_word += letter.upper()\n",
    "        result.append(modified_word)\n",
    "\n",
    "    return ' '.join(result[::-1])\n",
    "\n",
    "# Example usage:\n",
    "sentence = 'aWSOME is cODING'\n",
    "result = swap_case_within_words(sentence)\n",
    "print(result)"
   ]
  },
  {
   "cell_type": "code",
   "execution_count": 94,
   "id": "270d32ab",
   "metadata": {},
   "outputs": [
    {
     "name": "stdout",
     "output_type": "stream",
     "text": [
      "Car with the maximum speed of 120 km/h\n"
     ]
    }
   ],
   "source": [
    "class Car:\n",
    "    def __init__(self, max_speed, unit):\n",
    "        self.max_speed = max_speed\n",
    "        self.unit = unit\n",
    "\n",
    "    def __str__(self):\n",
    "        return 'Car with the maximum speed of ' + str(self.max_speed) + ' ' + str(self.unit)\n",
    "\n",
    "\n",
    "class Boat:\n",
    "    def __init__(self, max_speed):\n",
    "        self.max_speed = max_speed\n",
    "\n",
    "    def __str__(self):\n",
    "        return 'Boat with the maximum speed of ' + str(self.max_speed) + ' knots'\n",
    "\n",
    "\n",
    "car = Car(120, 'km/h')\n",
    "print(car)"
   ]
  },
  {
   "cell_type": "code",
   "execution_count": 3,
   "id": "a80ebc7c",
   "metadata": {},
   "outputs": [],
   "source": [
    "class calculator:\n",
    "    def add(self,n1,n2):\n",
    "        return n1+n2\n",
    "    \n",
    "    def sub(self,n1,n2):\n",
    "        return n1-n2"
   ]
  },
  {
   "cell_type": "code",
   "execution_count": 6,
   "id": "837640b6",
   "metadata": {},
   "outputs": [
    {
     "name": "stdout",
     "output_type": "stream",
     "text": [
      "8\n",
      "2\n"
     ]
    }
   ],
   "source": [
    "cal=calculator()\n",
    "print(cal.add(5,3))\n",
    "print(cal.sub(5,3))"
   ]
  },
  {
   "cell_type": "markdown",
   "id": "ce502b95",
   "metadata": {},
   "source": [
    "Why Use self?\n",
    "Consistency: self is a convention that makes code more readable and understandable.\n",
    "Flexibility: It allows methods to access and modify the instance's state, making the class more flexible and powerful."
   ]
  },
  {
   "cell_type": "code",
   "execution_count": 95,
   "id": "a85e6270",
   "metadata": {},
   "outputs": [
    {
     "name": "stdout",
     "output_type": "stream",
     "text": [
      "Car with the maximum speed of 120 km/h\n"
     ]
    }
   ],
   "source": [
    "def car_description(max_speed, unit):\n",
    "    return 'Car with the maximum speed of ' + str(max_speed) + ' ' + str(unit)\n",
    "\n",
    "def boat_description(max_speed):\n",
    "    return 'Boat with the maximum speed of ' + str(max_speed) + ' knots'\n",
    "\n",
    "car = car_description(120, 'km/h')\n",
    "print(car)"
   ]
  },
  {
   "cell_type": "code",
   "execution_count": null,
   "id": "3ea55a81",
   "metadata": {},
   "outputs": [],
   "source": [
    "select c.customer_name, CAST(sum(i.total_price) AS DECIMAL(9,6)) as total from customer c\n",
    "inner join invoice i on c.id = i.customer_id\n",
    "group by customer_name\n",
    "having sum(i.total_price)<=0.25*\n",
    "(select avg(total_price) from invoice)\n",
    "order by total desc;"
   ]
  },
  {
   "cell_type": "code",
   "execution_count": 103,
   "id": "61241d79",
   "metadata": {},
   "outputs": [],
   "source": [
    "def swap_case(s):\n",
    "    case=''\n",
    "    for i in s:\n",
    "        if i.isupper():\n",
    "            case+=i.lower()\n",
    "        elif i.islower():\n",
    "            case+=i.upper()\n",
    "        elif not i.isalnum():\n",
    "            case+=i\n",
    "        elif i.isdigit():\n",
    "            case+=i\n",
    "    return case"
   ]
  },
  {
   "cell_type": "code",
   "execution_count": 104,
   "id": "0d4e3575",
   "metadata": {},
   "outputs": [
    {
     "data": {
      "text/plain": [
       "'SeNTeNCE IS.cOM_ 2'"
      ]
     },
     "execution_count": 104,
     "metadata": {},
     "output_type": "execute_result"
    }
   ],
   "source": [
    "swap_case('sEntEnce is.Com_ 2')"
   ]
  },
  {
   "cell_type": "code",
   "execution_count": 111,
   "id": "ed8d9954",
   "metadata": {},
   "outputs": [
    {
     "data": {
      "text/plain": [
       "'this-is-a-string-'"
      ]
     },
     "execution_count": 111,
     "metadata": {},
     "output_type": "execute_result"
    }
   ],
   "source": [
    "s = 'this is a string '\n",
    "l=s.split(' ')\n",
    "l='-'.join(l)\n",
    "l"
   ]
  },
  {
   "cell_type": "code",
   "execution_count": 112,
   "id": "46890cc3",
   "metadata": {},
   "outputs": [
    {
     "name": "stdout",
     "output_type": "stream",
     "text": [
      "this is a string\n",
      "this-is-a-string\n"
     ]
    }
   ],
   "source": [
    "def split_and_join(line):\n",
    "    l=line.split(' ')\n",
    "    l='-'.join(l)\n",
    "    return l\n",
    "\n",
    "if __name__ == '__main__':\n",
    "    line = input()\n",
    "    result = split_and_join(line)\n",
    "    print(result)"
   ]
  },
  {
   "cell_type": "code",
   "execution_count": 115,
   "id": "e7d7fc91",
   "metadata": {},
   "outputs": [],
   "source": [
    "def print_full_name(first, last):\n",
    "    return f'Hello {first} {last} ! You just delved into python'"
   ]
  },
  {
   "cell_type": "code",
   "execution_count": 119,
   "id": "d538f529",
   "metadata": {},
   "outputs": [
    {
     "name": "stdout",
     "output_type": "stream",
     "text": [
      "prajakta\n",
      "adhav\n",
      "Hello prajakta adhav! You just delved into python.\n"
     ]
    }
   ],
   "source": [
    "def print_full_name(first, last):\n",
    "            text = \"Hello {} {}! You just delved into python.\"\n",
    "            print(text.format(first , last))\n",
    "\n",
    "\n",
    "if __name__ == '__main__':\n",
    "    first_name = input()\n",
    "    last_name = input()\n",
    "    print_full_name(first_name, last_name)"
   ]
  },
  {
   "cell_type": "code",
   "execution_count": 128,
   "id": "372bb2f1",
   "metadata": {},
   "outputs": [
    {
     "data": {
      "text/plain": [
       "'abrackdabra'"
      ]
     },
     "execution_count": 128,
     "metadata": {},
     "output_type": "execute_result"
    }
   ],
   "source": [
    "s = 'abracadabra'\n",
    "l=list(s)\n",
    "l[5]= 'k'\n",
    "s=''.join(l)\n",
    "s"
   ]
  },
  {
   "cell_type": "code",
   "execution_count": 129,
   "id": "7ac03533",
   "metadata": {},
   "outputs": [
    {
     "data": {
      "text/plain": [
       "'abrackdabra'"
      ]
     },
     "execution_count": 129,
     "metadata": {},
     "output_type": "execute_result"
    }
   ],
   "source": [
    "s = 'abracadabra'\n",
    "s = s[:5]+'k'+s[6:]\n",
    "s"
   ]
  },
  {
   "cell_type": "code",
   "execution_count": 132,
   "id": "08c6a42b",
   "metadata": {},
   "outputs": [
    {
     "data": {
      "text/plain": [
       "1"
      ]
     },
     "execution_count": 132,
     "metadata": {},
     "output_type": "execute_result"
    }
   ],
   "source": [
    "a='ABCDCDC'\n",
    "a.count('CDC')"
   ]
  },
  {
   "cell_type": "code",
   "execution_count": 141,
   "id": "29be3604",
   "metadata": {},
   "outputs": [],
   "source": [
    "def count_substring(string, sub_string):\n",
    "    count = 0\n",
    "    l = len(sub_string)\n",
    "    \n",
    "    for i in range(0, len(string)):\n",
    "        if string[i:l + i] == sub_string:\n",
    "            count += 1\n",
    "        print(string[i:l + i] )\n",
    "        \n",
    "    return count"
   ]
  },
  {
   "cell_type": "code",
   "execution_count": 142,
   "id": "a48ec0ae",
   "metadata": {},
   "outputs": [
    {
     "name": "stdout",
     "output_type": "stream",
     "text": [
      "ABC\n",
      "BCD\n",
      "CDC\n",
      "DCD\n",
      "CDC\n",
      "DC\n",
      "C\n"
     ]
    },
    {
     "data": {
      "text/plain": [
       "2"
      ]
     },
     "execution_count": 142,
     "metadata": {},
     "output_type": "execute_result"
    }
   ],
   "source": [
    "count_substring('ABCDCDC','CDC')"
   ]
  },
  {
   "cell_type": "code",
   "execution_count": 56,
   "id": "94123525",
   "metadata": {},
   "outputs": [
    {
     "name": "stdout",
     "output_type": "stream",
     "text": [
      "True\n",
      "True\n",
      "True\n",
      "True\n",
      "True\n"
     ]
    }
   ],
   "source": [
    "s = 'a2J'\n",
    "\n",
    "a = any(char.isalnum() for char in s)\n",
    "b = any(char.isalpha() for char in s)\n",
    "c = any(char.isdigit() for char in s)\n",
    "d = any(char.islower() for char in s)\n",
    "e = any(char.isupper() for char in s)\n",
    "\n",
    "print(a)\n",
    "print(b)\n",
    "print(c)\n",
    "print(d)\n",
    "print(e)"
   ]
  },
  {
   "cell_type": "code",
   "execution_count": 160,
   "id": "8de156ce",
   "metadata": {},
   "outputs": [
    {
     "name": "stdout",
     "output_type": "stream",
     "text": [
      "----------HackerRank\n",
      "HackerRank----------\n",
      "-----HackerRank-----\n"
     ]
    }
   ],
   "source": [
    "width = 20\n",
    "print ('HackerRank'.rjust(width,'-'))\n",
    "print ('HackerRank'.ljust(width,'-'))\n",
    "print ('HackerRank'.center(width,'-'))"
   ]
  },
  {
   "cell_type": "code",
   "execution_count": 54,
   "id": "bbfb012b",
   "metadata": {},
   "outputs": [
    {
     "data": {
      "text/plain": [
       "'----------HackerRank'"
      ]
     },
     "execution_count": 54,
     "metadata": {},
     "output_type": "execute_result"
    }
   ],
   "source": [
    "'HackerRank'.rjust(20,'-')"
   ]
  },
  {
   "cell_type": "code",
   "execution_count": 163,
   "id": "660610dd",
   "metadata": {
    "scrolled": true
   },
   "outputs": [
    {
     "name": "stdout",
     "output_type": "stream",
     "text": [
      "2\n",
      "12\n",
      "-860454829093830431\n"
     ]
    }
   ],
   "source": [
    "n = int(input())\n",
    "integer_list = map(int, input().split())\n",
    "print(hash(tuple(integer_list)))"
   ]
  },
  {
   "cell_type": "code",
   "execution_count": 53,
   "id": "2222a322",
   "metadata": {},
   "outputs": [
    {
     "name": "stdout",
     "output_type": "stream",
     "text": [
      "ABCD\n",
      "EFGH\n",
      "IJKL\n",
      "IMNO\n",
      "QRST\n",
      "UVWX\n",
      "YZ\n"
     ]
    }
   ],
   "source": [
    "import textwrap\n",
    "\n",
    "# Define the string\n",
    "s = 'ABCDEFGHIJKLIMNOQRSTUVWXYZ'\n",
    "\n",
    "# Define the wrap function\n",
    "def wrap(string, max_width):\n",
    "    words = textwrap.fill(text=string, width=max_width)\n",
    "    return words\n",
    "\n",
    "# Call the wrap function\n",
    "result = wrap(s, 4)\n",
    "print(result)"
   ]
  },
  {
   "cell_type": "code",
   "execution_count": 63,
   "id": "28102158",
   "metadata": {},
   "outputs": [
    {
     "name": "stdout",
     "output_type": "stream",
     "text": [
      "Counter({'a': 3, 'p': 1, 'r': 1, 'j': 1, 'k': 1, 't': 1})\n"
     ]
    }
   ],
   "source": [
    "from collections import Counter\n",
    "s='prajakta'\n",
    "print(Counter(s))"
   ]
  },
  {
   "cell_type": "code",
   "execution_count": 69,
   "id": "4d83f03b",
   "metadata": {},
   "outputs": [
    {
     "name": "stdout",
     "output_type": "stream",
     "text": [
      "[5, 4, 3, 2, 1]\n"
     ]
    }
   ],
   "source": [
    "l = [1,2,3,4,5]\n",
    "l1=l\n",
    "l1.reverse()\n",
    "print(l1)"
   ]
  },
  {
   "cell_type": "code",
   "execution_count": 92,
   "id": "af32cff3",
   "metadata": {},
   "outputs": [
    {
     "name": "stdout",
     "output_type": "stream",
     "text": [
      "1   1   1 1\n",
      "2   2   2 10\n",
      "3   3   3 11\n",
      "4   4   4 100\n",
      "5   5   5 101\n",
      "6   6   6 110\n",
      "7   7   7 111\n",
      "8   10   8 1000\n",
      "9   11   9 1001\n",
      "10   12   A 1010\n",
      "11   13   B 1011\n",
      "12   14   C 1100\n",
      "13   15   D 1101\n",
      "14   16   E 1110\n",
      "15   17   F 1111\n",
      "16   20   10 10000\n",
      "17   21   11 10001\n"
     ]
    }
   ],
   "source": [
    "for i in range (1,18):\n",
    "    print(i,' ',oct(i)[2:],' ',hex(i)[2:].upper(),bin(i)[2:], )"
   ]
  },
  {
   "cell_type": "code",
   "execution_count": 105,
   "id": "f669bb45",
   "metadata": {},
   "outputs": [
    {
     "data": {
      "text/plain": [
       "'Prajakta Adhav'"
      ]
     },
     "execution_count": 105,
     "metadata": {},
     "output_type": "execute_result"
    }
   ],
   "source": [
    "s='prajakta adhav'\n",
    "l=[]\n",
    "for i in s.split():\n",
    "    l.append(i.capitalize())\n",
    "    a=' '.join(l)\n",
    "a"
   ]
  },
  {
   "cell_type": "code",
   "execution_count": 106,
   "id": "ae3b9cef",
   "metadata": {},
   "outputs": [],
   "source": [
    "def minion_game(string):\n",
    "    string_len = len(string)\n",
    "    stuart_score = 0\n",
    "    kevin_score = 0\n",
    "\n",
    "    for letter in range(string_len):\n",
    "        if string[letter] in 'AEIOU':\n",
    "            kevin_score += (string_len - letter)\n",
    "        else:\n",
    "            stuart_score += (string_len - letter)\n",
    "\n",
    "    if stuart_score > kevin_score:\n",
    "        print(\"Stuart\", stuart_score)\n",
    "    elif kevin_score > stuart_score:\n",
    "        print(\"Kevin\", kevin_score)\n",
    "    else:\n",
    "        print(\"Draw\")"
   ]
  },
  {
   "cell_type": "code",
   "execution_count": 107,
   "id": "c98a0ab8",
   "metadata": {},
   "outputs": [
    {
     "name": "stdout",
     "output_type": "stream",
     "text": [
      "Stuart 21\n"
     ]
    }
   ],
   "source": [
    "minion_game('banana')"
   ]
  },
  {
   "cell_type": "code",
   "execution_count": 5,
   "id": "1ebd3897",
   "metadata": {},
   "outputs": [
    {
     "data": {
      "text/plain": [
       "[('apple', 2), ('orange', 2)]"
      ]
     },
     "execution_count": 5,
     "metadata": {},
     "output_type": "execute_result"
    }
   ],
   "source": [
    "d1 = {'mango':1,'apple':2,'orange':2,'banana':1,'guava':1}\n",
    "sorted(d1.items(),key=lambda x:x[1], reverse=True)[:2]"
   ]
  },
  {
   "cell_type": "code",
   "execution_count": 20,
   "id": "4f66f927",
   "metadata": {},
   "outputs": [
    {
     "name": "stdout",
     "output_type": "stream",
     "text": [
      "[2, 2, 1, 1, 1]\n",
      "2\n",
      "apple 2\n",
      "orange 2\n"
     ]
    }
   ],
   "source": [
    "ls=[]\n",
    "for k,v in d1.items():\n",
    "    ls.append(v)\n",
    "    ls.sort(reverse=True)\n",
    "print(ls)\n",
    "print(max(ls))\n",
    "n=max(ls)\n",
    "\n",
    "for k,v in d1.items():\n",
    "    if v==n:\n",
    "        print(k,v)"
   ]
  },
  {
   "cell_type": "code",
   "execution_count": 23,
   "id": "954a748c",
   "metadata": {},
   "outputs": [
    {
     "ename": "SyntaxError",
     "evalue": "invalid syntax (1978305889.py, line 1)",
     "output_type": "error",
     "traceback": [
      "\u001b[1;36m  Cell \u001b[1;32mIn[23], line 1\u001b[1;36m\u001b[0m\n\u001b[1;33m    d2 = ('data':('id':1, 'name':'xyz','age':25),('id':2,'name':'ssd','age':26))\u001b[0m\n\u001b[1;37m                ^\u001b[0m\n\u001b[1;31mSyntaxError\u001b[0m\u001b[1;31m:\u001b[0m invalid syntax\n"
     ]
    }
   ],
   "source": [
    "d2 = ('data':('id':1, 'name':'xyz','age':25),('id':2,'name':'ssd','age':26))\n",
    "d2"
   ]
  },
  {
   "cell_type": "code",
   "execution_count": 26,
   "id": "dc45d9a3",
   "metadata": {},
   "outputs": [
    {
     "name": "stdout",
     "output_type": "stream",
     "text": [
      "[4]\n"
     ]
    }
   ],
   "source": [
    "l1 =[1,2,3,5,6]\n",
    "missing =[]\n",
    "for i in range(min(l1),max(l1)+1):\n",
    "    if i not in l1:\n",
    "        missing.append(i)\n",
    "print(missing)"
   ]
  },
  {
   "cell_type": "code",
   "execution_count": 2,
   "id": "81df0497",
   "metadata": {},
   "outputs": [
    {
     "name": "stdout",
     "output_type": "stream",
     "text": [
      "[97, 89, 83, 79, 73, 71, 67, 61, 59, 53]\n"
     ]
    }
   ],
   "source": [
    "l=[]\n",
    "for i in range (50,101):\n",
    "    for j in range (2,i):\n",
    "        if i%j==0:\n",
    "            break\n",
    "    else:\n",
    "        l.append(i)\n",
    "print(l[::-1])"
   ]
  },
  {
   "cell_type": "code",
   "execution_count": null,
   "id": "329ea066",
   "metadata": {},
   "outputs": [],
   "source": [
    "def class calculator(n1,n2):\n",
    "    "
   ]
  },
  {
   "cell_type": "code",
   "execution_count": 17,
   "id": "cea32aa5",
   "metadata": {},
   "outputs": [
    {
     "name": "stdout",
     "output_type": "stream",
     "text": [
      "Hello Python Fun "
     ]
    }
   ],
   "source": [
    "s='Hello World Python is Fun'\n",
    "l=s.split()\n",
    "n=''\n",
    "for j in range (len(l)):\n",
    "    if j%2==0:\n",
    "        n=''.join(l[j])\n",
    "        print(n,end=' ')"
   ]
  },
  {
   "cell_type": "code",
   "execution_count": 22,
   "id": "c5595934",
   "metadata": {},
   "outputs": [],
   "source": [
    "n = 123\n",
    "\n",
    "def is_palindrome(n):\n",
    "    rev =0\n",
    "    while n!=0:\n",
    "        rem=n%10\n",
    "        rev= rev*10+rem\n",
    "        n= n//10\n",
    "    if n==rev:\n",
    "        return True\n",
    "    else:\n",
    "        return False"
   ]
  },
  {
   "cell_type": "code",
   "execution_count": 23,
   "id": "056a79d5",
   "metadata": {},
   "outputs": [
    {
     "data": {
      "text/plain": [
       "False"
      ]
     },
     "execution_count": 23,
     "metadata": {},
     "output_type": "execute_result"
    }
   ],
   "source": [
    "is_palindrome(123)"
   ]
  },
  {
   "cell_type": "code",
   "execution_count": 24,
   "id": "5d5cdeb7",
   "metadata": {},
   "outputs": [
    {
     "name": "stdout",
     "output_type": "stream",
     "text": [
      "{'b': 1, 'o': 2, 'k': 1}\n"
     ]
    }
   ],
   "source": [
    "s='book'\n",
    "d={}\n",
    "for i in s:\n",
    "    d[i]=s.count(i)\n",
    "print(d)    "
   ]
  },
  {
   "cell_type": "code",
   "execution_count": 31,
   "id": "a855ec66",
   "metadata": {},
   "outputs": [
    {
     "data": {
      "text/plain": [
       "True"
      ]
     },
     "execution_count": 31,
     "metadata": {},
     "output_type": "execute_result"
    }
   ],
   "source": [
    "\n",
    "# A pangram is a sentence that contains every letter of the alphabet at least once.\n",
    "\n",
    "def is_pangram(s):\n",
    "    a= set(s)\n",
    "    l=[]\n",
    "    for i in a:\n",
    "        if i.isalpha():\n",
    "            l.append(i)\n",
    "    if len(l)==27:\n",
    "        return True\n",
    "    else:\n",
    "        return False      \n",
    "\n",
    "s='The quick brown fox jumps over the lazy dog'\n",
    "is_pangram(s)"
   ]
  },
  {
   "cell_type": "code",
   "execution_count": 32,
   "id": "3172d0e2",
   "metadata": {},
   "outputs": [
    {
     "data": {
      "text/plain": [
       "False"
      ]
     },
     "execution_count": 32,
     "metadata": {},
     "output_type": "execute_result"
    }
   ],
   "source": [
    "is_pangram('hello world')"
   ]
  },
  {
   "cell_type": "code",
   "execution_count": 55,
   "id": "f09c2c51",
   "metadata": {},
   "outputs": [],
   "source": [
    "def perfect_sq(n):\n",
    "    import math\n",
    "    no = math.sqrt(n)\n",
    "    if no.is_integer():\n",
    "        return True\n",
    "    else:\n",
    "        return False"
   ]
  },
  {
   "cell_type": "code",
   "execution_count": 56,
   "id": "77ccbfe0",
   "metadata": {},
   "outputs": [
    {
     "data": {
      "text/plain": [
       "True"
      ]
     },
     "execution_count": 56,
     "metadata": {},
     "output_type": "execute_result"
    }
   ],
   "source": [
    "perfect_sq(16)"
   ]
  },
  {
   "cell_type": "code",
   "execution_count": 57,
   "id": "794c5885",
   "metadata": {},
   "outputs": [
    {
     "data": {
      "text/plain": [
       "False"
      ]
     },
     "execution_count": 57,
     "metadata": {},
     "output_type": "execute_result"
    }
   ],
   "source": [
    "perfect_sq(2)"
   ]
  },
  {
   "cell_type": "code",
   "execution_count": 61,
   "id": "b0b13c23",
   "metadata": {},
   "outputs": [
    {
     "name": "stdout",
     "output_type": "stream",
     "text": [
      "o\n",
      "l\n"
     ]
    }
   ],
   "source": [
    "string1 = 'hello'\n",
    "string2 = 'world'\n",
    "s=set()\n",
    "for i in string1:\n",
    "    if i in string2:\n",
    "        s.add(i)\n",
    "for j in s:\n",
    "    print(j)"
   ]
  },
  {
   "cell_type": "code",
   "execution_count": 73,
   "id": "368d7fb3",
   "metadata": {},
   "outputs": [],
   "source": [
    "s = 'racecar@@'\n",
    "\n",
    "\n",
    "def is_palindrome(s):\n",
    "    n=''\n",
    "    for i in s:\n",
    "        if not i.isalnum():\n",
    "            pass\n",
    "        elif i.isdigit():\n",
    "            pass\n",
    "        else:\n",
    "            n+=i\n",
    "    if n==n[::-1]:\n",
    "        return True\n",
    "    else:\n",
    "        return False"
   ]
  },
  {
   "cell_type": "code",
   "execution_count": 74,
   "id": "6b0b3850",
   "metadata": {},
   "outputs": [
    {
     "data": {
      "text/plain": [
       "True"
      ]
     },
     "execution_count": 74,
     "metadata": {},
     "output_type": "execute_result"
    }
   ],
   "source": [
    "is_palindrome('ma3laya5lam')"
   ]
  },
  {
   "cell_type": "markdown",
   "id": "7173b3d1",
   "metadata": {},
   "source": [
    "#### You are given a list of numbers as input. Write a program to find the sum of all the numbers in the list using recursion."
   ]
  },
  {
   "cell_type": "code",
   "execution_count": 89,
   "id": "04011a24",
   "metadata": {},
   "outputs": [
    {
     "name": "stdout",
     "output_type": "stream",
     "text": [
      "15\n"
     ]
    }
   ],
   "source": [
    "def lst_sm(l):\n",
    "    if len(l) == 0:\n",
    "        return 0\n",
    "    else:\n",
    "        return l[0] + lst_sm(l[1:])\n",
    "\n",
    "l = [1, 2, 3, 4, 5]    \n",
    "print(lst_sm(l))\n"
   ]
  },
  {
   "cell_type": "code",
   "execution_count": 90,
   "id": "c21395e0",
   "metadata": {},
   "outputs": [
    {
     "name": "stdout",
     "output_type": "stream",
     "text": [
      "1 2 3 4 5\n"
     ]
    }
   ],
   "source": [
    "numbers = input().split()"
   ]
  },
  {
   "cell_type": "code",
   "execution_count": 91,
   "id": "72f724a3",
   "metadata": {},
   "outputs": [
    {
     "data": {
      "text/plain": [
       "list"
      ]
     },
     "execution_count": 91,
     "metadata": {},
     "output_type": "execute_result"
    }
   ],
   "source": [
    "type(numbers)"
   ]
  },
  {
   "cell_type": "code",
   "execution_count": 93,
   "id": "ddbaf482",
   "metadata": {},
   "outputs": [
    {
     "data": {
      "text/plain": [
       "['2', '3', '4', '5']"
      ]
     },
     "execution_count": 93,
     "metadata": {},
     "output_type": "execute_result"
    }
   ],
   "source": [
    "numbers[1:]"
   ]
  },
  {
   "cell_type": "code",
   "execution_count": 101,
   "id": "effd8238",
   "metadata": {
    "scrolled": true
   },
   "outputs": [
    {
     "name": "stdout",
     "output_type": "stream",
     "text": [
      "[6, 3, 1, 7, 12, 10, 2, 9, 8, 4, 11]\n"
     ]
    }
   ],
   "source": [
    "List1 = [6, 3, 1, 8, 9, 2, 10, 12, 7, 4, 11]\n",
    "start = 3\n",
    "end = 8\n",
    "l = []\n",
    "l.extend(List1[:3])\n",
    "l.extend(List1[3:9][::-1])\n",
    "l.extend(List1[9:])\n",
    "print(l)"
   ]
  },
  {
   "cell_type": "code",
   "execution_count": 123,
   "id": "6c66eeb0",
   "metadata": {},
   "outputs": [
    {
     "name": "stdout",
     "output_type": "stream",
     "text": [
      "{<class 'str'>, <class 'dict'>, <class 'tuple'>, <class 'int'>}\n"
     ]
    }
   ],
   "source": [
    "m = [[4, 3, 1], ['python', 3, {4:2}], [3, 1, 'java'], [9, (2, 3)]]\n",
    "s = set()\n",
    "\n",
    "for i in m:\n",
    "    for j in range(len(i)):\n",
    "        # Append the type of each item to the set\n",
    "        s.add(type(i[j]))\n",
    "\n",
    "# Print the set of unique data types\n",
    "print(s)\n",
    "     "
   ]
  },
  {
   "cell_type": "markdown",
   "id": "bf181e23",
   "metadata": {},
   "source": [
    "You are given a number n as input. Write a program to print a half-diamond pattern of numbers with a star border.\n",
    "\n",
    "Sample Input:\n",
    "5\n",
    "Sample Output:\n",
    "*\n",
    "*1*\n",
    "*121*\n",
    "*12321*\n",
    "*1234321*"
   ]
  },
  {
   "cell_type": "code",
   "execution_count": 138,
   "id": "14a6d169",
   "metadata": {},
   "outputs": [
    {
     "name": "stdout",
     "output_type": "stream",
     "text": [
      "*1*\n",
      "*121*\n",
      "*12321*\n",
      "*1234321*\n"
     ]
    }
   ],
   "source": [
    "n=5\n",
    "for i in range(1, n):\n",
    "    row = \"*\"  # Start each row with a star\n",
    "        # Append numbers from 1 to i\n",
    "    for j in range(1, i + 1):\n",
    "        row += str(j)\n",
    "        # Append numbers from i - 1 down to 1\n",
    "    for j in range(i - 1, 0, -1):\n",
    "        row += str(j)\n",
    "    row += \"*\"  # End each row with a star\n",
    "    print(row)"
   ]
  },
  {
   "cell_type": "markdown",
   "id": "1ef51285",
   "metadata": {},
   "source": [
    "You are given a string as input. Write a program to find the start and end indices of each word in the string."
   ]
  },
  {
   "cell_type": "code",
   "execution_count": 71,
   "id": "51778951",
   "metadata": {},
   "outputs": [
    {
     "data": {
      "text/plain": [
       "[(0, 7), (9, 13), (15, 19)]"
      ]
     },
     "execution_count": 71,
     "metadata": {},
     "output_type": "execute_result"
    }
   ],
   "source": [
    "s = 'Prajakta adhav adhav'\n",
    "words=s.split()\n",
    "ci = 0\n",
    "result=[]\n",
    "\n",
    "for i in words:\n",
    "    si = s.find(i,ci)\n",
    "    ei=si+len(i)-1\n",
    "    result.append((si,ei))\n",
    "    ci= ei+1\n",
    "result\n",
    "    "
   ]
  },
  {
   "cell_type": "code",
   "execution_count": 73,
   "id": "642cfc71",
   "metadata": {},
   "outputs": [
    {
     "data": {
      "text/plain": [
       "15"
      ]
     },
     "execution_count": 73,
     "metadata": {},
     "output_type": "execute_result"
    }
   ],
   "source": [
    "s.find('adhav',14)"
   ]
  },
  {
   "cell_type": "code",
   "execution_count": 66,
   "id": "63451b3f",
   "metadata": {},
   "outputs": [],
   "source": [
    "def find_word_indices(input_string):\n",
    "    words = input_string.split()\n",
    "    current_index = 0\n",
    "    result = []\n",
    "\n",
    "    for word in words:\n",
    "        start_index = input_string.find(word, current_index)\n",
    "        end_index = start_index + len(word) - 1\n",
    "        result.append((start_index, end_index))\n",
    "        current_index = end_index + 1\n",
    "    \n",
    "    return result"
   ]
  },
  {
   "cell_type": "code",
   "execution_count": 67,
   "id": "b0ce7e1c",
   "metadata": {},
   "outputs": [
    {
     "name": "stdout",
     "output_type": "stream",
     "text": [
      "Word starts at 0 and ends at 3\n",
      "Word starts at 5 and ends at 6\n",
      "Word starts at 8 and ends at 8\n",
      "Word starts at 10 and ends at 15\n",
      "Word starts at 17 and ends at 22\n"
     ]
    }
   ],
   "source": [
    "input_string = \"This is a sample string\"\n",
    "indices = find_word_indices(input_string)\n",
    "for start, end in indices:\n",
    "    print(f\"Word starts at {start} and ends at {end}\")"
   ]
  },
  {
   "cell_type": "code",
   "execution_count": 90,
   "id": "b58fdfdd",
   "metadata": {},
   "outputs": [
    {
     "name": "stdout",
     "output_type": "stream",
     "text": [
      "alpha\n",
      "beta\n"
     ]
    }
   ],
   "source": [
    "r = [['chi',20],['beta',50],['alpha',50]]\n",
    "r.sort()\n",
    "l=[]\n",
    "for i in r:\n",
    "    l.append(i[1])\n",
    "maximum=max(l)\n",
    "for i in r:\n",
    "    if i[1]==maximum:\n",
    "        print(i[0])\n",
    "    \n",
    "        "
   ]
  },
  {
   "cell_type": "code",
   "execution_count": 81,
   "id": "81f2a981",
   "metadata": {},
   "outputs": [
    {
     "data": {
      "text/plain": [
       "[['alpha', 50], ['beta', 50], ['chi', 20]]"
      ]
     },
     "execution_count": 81,
     "metadata": {},
     "output_type": "execute_result"
    }
   ],
   "source": [
    "sorted(r)"
   ]
  },
  {
   "cell_type": "code",
   "execution_count": 11,
   "id": "ed2bc7df",
   "metadata": {},
   "outputs": [
    {
     "name": "stdout",
     "output_type": "stream",
     "text": [
      "enter your name:p\n",
      "enter your age:9\n",
      "enter your name:i\n",
      "enter your age:3\n"
     ]
    },
    {
     "data": {
      "text/html": [
       "<div>\n",
       "<style scoped>\n",
       "    .dataframe tbody tr th:only-of-type {\n",
       "        vertical-align: middle;\n",
       "    }\n",
       "\n",
       "    .dataframe tbody tr th {\n",
       "        vertical-align: top;\n",
       "    }\n",
       "\n",
       "    .dataframe thead th {\n",
       "        text-align: right;\n",
       "    }\n",
       "</style>\n",
       "<table border=\"1\" class=\"dataframe\">\n",
       "  <thead>\n",
       "    <tr style=\"text-align: right;\">\n",
       "      <th></th>\n",
       "      <th>Name</th>\n",
       "      <th>Age</th>\n",
       "    </tr>\n",
       "  </thead>\n",
       "  <tbody>\n",
       "    <tr>\n",
       "      <th>0</th>\n",
       "      <td>p</td>\n",
       "      <td>9</td>\n",
       "    </tr>\n",
       "    <tr>\n",
       "      <th>1</th>\n",
       "      <td>i</td>\n",
       "      <td>3</td>\n",
       "    </tr>\n",
       "  </tbody>\n",
       "</table>\n",
       "</div>"
      ],
      "text/plain": [
       "  Name Age\n",
       "0    p   9\n",
       "1    i   3"
      ]
     },
     "execution_count": 11,
     "metadata": {},
     "output_type": "execute_result"
    }
   ],
   "source": [
    "import pandas as pd\n",
    "\n",
    "df = pd.DataFrame(columns=['Name', 'Age'])\n",
    "\n",
    "# Write your code below\n",
    "\n",
    "def add_to_df(df):\n",
    "    name = input('enter your name:')\n",
    "    age =int(input('enter your age:'))\n",
    "    new_row =pd.DataFrame({'Name':[name], 'Age':[age]})\n",
    "    df= pd.concat([df,new_row],ignore_index=True)\n",
    "    return df\n",
    "\n",
    "df=add_to_df(df)\n",
    "df=add_to_df(df)\n",
    "df"
   ]
  },
  {
   "cell_type": "code",
   "execution_count": 8,
   "id": "3e36a2c8",
   "metadata": {},
   "outputs": [
    {
     "name": "stdout",
     "output_type": "stream",
     "text": [
      "enter your name:p\n",
      "enter your age:78\n",
      "enter your name:h\n",
      "enter your age:65\n"
     ]
    },
    {
     "data": {
      "text/html": [
       "<div>\n",
       "<style scoped>\n",
       "    .dataframe tbody tr th:only-of-type {\n",
       "        vertical-align: middle;\n",
       "    }\n",
       "\n",
       "    .dataframe tbody tr th {\n",
       "        vertical-align: top;\n",
       "    }\n",
       "\n",
       "    .dataframe thead th {\n",
       "        text-align: right;\n",
       "    }\n",
       "</style>\n",
       "<table border=\"1\" class=\"dataframe\">\n",
       "  <thead>\n",
       "    <tr style=\"text-align: right;\">\n",
       "      <th></th>\n",
       "      <th>Name</th>\n",
       "      <th>Age</th>\n",
       "    </tr>\n",
       "  </thead>\n",
       "  <tbody>\n",
       "    <tr>\n",
       "      <th>0</th>\n",
       "      <td>p</td>\n",
       "      <td>78</td>\n",
       "    </tr>\n",
       "    <tr>\n",
       "      <th>1</th>\n",
       "      <td>h</td>\n",
       "      <td>65</td>\n",
       "    </tr>\n",
       "  </tbody>\n",
       "</table>\n",
       "</div>"
      ],
      "text/plain": [
       "  Name  Age\n",
       "0    p   78\n",
       "1    h   65"
      ]
     },
     "execution_count": 8,
     "metadata": {},
     "output_type": "execute_result"
    }
   ],
   "source": [
    "def add_to_df(df):\n",
    "    name = input('enter your name:')\n",
    "    age = int(input('enter your age:'))\n",
    "    df.loc[len(df)] = [name, age]\n",
    "    return df\n",
    "\n",
    "add_to_df(df)\n",
    "add_to_df(df)"
   ]
  },
  {
   "cell_type": "code",
   "execution_count": 9,
   "id": "80623199",
   "metadata": {},
   "outputs": [
    {
     "data": {
      "text/plain": [
       "2"
      ]
     },
     "execution_count": 9,
     "metadata": {},
     "output_type": "execute_result"
    }
   ],
   "source": [
    "len(df)"
   ]
  },
  {
   "cell_type": "markdown",
   "id": "23400f1d",
   "metadata": {},
   "source": [
    "You are given a DataFrame with integer values. Write a program to find the maximum value in the DataFrame. The DataFrame will be provided by the user as input."
   ]
  },
  {
   "cell_type": "code",
   "execution_count": 25,
   "id": "81c420cf",
   "metadata": {},
   "outputs": [
    {
     "name": "stdout",
     "output_type": "stream",
     "text": [
      "0,3,5,7,3,9,5,6,4\n"
     ]
    }
   ],
   "source": [
    "input_data = input()\n",
    "data = [list(map(int, row.split())) for row in input_data.split(',')]\n",
    "df = pd.DataFrame(data)"
   ]
  },
  {
   "cell_type": "code",
   "execution_count": 29,
   "id": "09ec25ff",
   "metadata": {},
   "outputs": [
    {
     "data": {
      "text/plain": [
       "9"
      ]
     },
     "execution_count": 29,
     "metadata": {},
     "output_type": "execute_result"
    }
   ],
   "source": [
    "df.max()[0]"
   ]
  },
  {
   "cell_type": "code",
   "execution_count": 27,
   "id": "27bb0195",
   "metadata": {},
   "outputs": [
    {
     "name": "stdout",
     "output_type": "stream",
     "text": [
      "1,2,3,4,5\n"
     ]
    },
    {
     "data": {
      "text/plain": [
       "['1', '2', '3', '4', '5']"
      ]
     },
     "execution_count": 27,
     "metadata": {},
     "output_type": "execute_result"
    }
   ],
   "source": [
    "input_data = input()\n",
    "input_data.split(',')"
   ]
  },
  {
   "cell_type": "code",
   "execution_count": 28,
   "id": "fb0a9ae2",
   "metadata": {},
   "outputs": [
    {
     "data": {
      "text/plain": [
       "[[1], [2], [3], [4], [5]]"
      ]
     },
     "execution_count": 28,
     "metadata": {},
     "output_type": "execute_result"
    }
   ],
   "source": [
    "data = [list(map(int, row.split())) for row in input_data.split(',')]\n",
    "data"
   ]
  },
  {
   "cell_type": "code",
   "execution_count": 31,
   "id": "128af401",
   "metadata": {},
   "outputs": [
    {
     "data": {
      "text/html": [
       "<div>\n",
       "<style scoped>\n",
       "    .dataframe tbody tr th:only-of-type {\n",
       "        vertical-align: middle;\n",
       "    }\n",
       "\n",
       "    .dataframe tbody tr th {\n",
       "        vertical-align: top;\n",
       "    }\n",
       "\n",
       "    .dataframe thead th {\n",
       "        text-align: right;\n",
       "    }\n",
       "</style>\n",
       "<table border=\"1\" class=\"dataframe\">\n",
       "  <thead>\n",
       "    <tr style=\"text-align: right;\">\n",
       "      <th></th>\n",
       "      <th>c1</th>\n",
       "      <th>c2</th>\n",
       "    </tr>\n",
       "  </thead>\n",
       "  <tbody>\n",
       "    <tr>\n",
       "      <th>0</th>\n",
       "      <td>1</td>\n",
       "      <td>2</td>\n",
       "    </tr>\n",
       "    <tr>\n",
       "      <th>1</th>\n",
       "      <td>2</td>\n",
       "      <td>3</td>\n",
       "    </tr>\n",
       "    <tr>\n",
       "      <th>2</th>\n",
       "      <td>3</td>\n",
       "      <td>8</td>\n",
       "    </tr>\n",
       "    <tr>\n",
       "      <th>3</th>\n",
       "      <td>9</td>\n",
       "      <td>7</td>\n",
       "    </tr>\n",
       "    <tr>\n",
       "      <th>4</th>\n",
       "      <td>8</td>\n",
       "      <td>5</td>\n",
       "    </tr>\n",
       "    <tr>\n",
       "      <th>5</th>\n",
       "      <td>7</td>\n",
       "      <td>4</td>\n",
       "    </tr>\n",
       "  </tbody>\n",
       "</table>\n",
       "</div>"
      ],
      "text/plain": [
       "   c1  c2\n",
       "0   1   2\n",
       "1   2   3\n",
       "2   3   8\n",
       "3   9   7\n",
       "4   8   5\n",
       "5   7   4"
      ]
     },
     "execution_count": 31,
     "metadata": {},
     "output_type": "execute_result"
    }
   ],
   "source": [
    "d=pd.DataFrame({'c1':[1,2,3,9,8,7],'c2':[2,3,8,7,5,4]})\n",
    "d"
   ]
  },
  {
   "cell_type": "code",
   "execution_count": 33,
   "id": "9e4e0ba6",
   "metadata": {},
   "outputs": [
    {
     "data": {
      "text/plain": [
       "9"
      ]
     },
     "execution_count": 33,
     "metadata": {},
     "output_type": "execute_result"
    }
   ],
   "source": [
    "d.max().max()                # Double max function to find max among all rows and columns."
   ]
  },
  {
   "cell_type": "code",
   "execution_count": null,
   "id": "10901133",
   "metadata": {},
   "outputs": [],
   "source": []
  },
  {
   "cell_type": "code",
   "execution_count": 35,
   "id": "3acc92c4",
   "metadata": {},
   "outputs": [
    {
     "name": "stdout",
     "output_type": "stream",
     "text": [
      "h\n",
      "9\n"
     ]
    },
    {
     "name": "stderr",
     "output_type": "stream",
     "text": [
      "C:\\Users\\91973\\AppData\\Local\\Temp\\ipykernel_2708\\2490799322.py:8: FutureWarning: The frame.append method is deprecated and will be removed from pandas in a future version. Use pandas.concat instead.\n",
      "  df.append(row,ignore_index=True)\n"
     ]
    },
    {
     "data": {
      "text/html": [
       "<div>\n",
       "<style scoped>\n",
       "    .dataframe tbody tr th:only-of-type {\n",
       "        vertical-align: middle;\n",
       "    }\n",
       "\n",
       "    .dataframe tbody tr th {\n",
       "        vertical-align: top;\n",
       "    }\n",
       "\n",
       "    .dataframe thead th {\n",
       "        text-align: right;\n",
       "    }\n",
       "</style>\n",
       "<table border=\"1\" class=\"dataframe\">\n",
       "  <thead>\n",
       "    <tr style=\"text-align: right;\">\n",
       "      <th></th>\n",
       "      <th>Name</th>\n",
       "      <th>Age</th>\n",
       "    </tr>\n",
       "  </thead>\n",
       "  <tbody>\n",
       "    <tr>\n",
       "      <th>0</th>\n",
       "      <td>Alice</td>\n",
       "      <td>20</td>\n",
       "    </tr>\n",
       "    <tr>\n",
       "      <th>1</th>\n",
       "      <td>Bob</td>\n",
       "      <td>30</td>\n",
       "    </tr>\n",
       "    <tr>\n",
       "      <th>2</th>\n",
       "      <td>h</td>\n",
       "      <td>9</td>\n",
       "    </tr>\n",
       "  </tbody>\n",
       "</table>\n",
       "</div>"
      ],
      "text/plain": [
       "    Name  Age\n",
       "0  Alice   20\n",
       "1    Bob   30\n",
       "2      h    9"
      ]
     },
     "execution_count": 35,
     "metadata": {},
     "output_type": "execute_result"
    }
   ],
   "source": [
    "import pandas as pd\n",
    "\n",
    "df = pd.DataFrame({'Name': ['Alice', 'Bob'], 'Age': [20, 30]})\n",
    "\n",
    "name = input()\n",
    "age = int(input())\n",
    "row = {'Name':name,'Age':age}\n",
    "df.append(row,ignore_index=True)"
   ]
  },
  {
   "cell_type": "code",
   "execution_count": 39,
   "id": "919211a7",
   "metadata": {},
   "outputs": [],
   "source": [
    "df1 = pd.DataFrame({'A': [1, 2, 3], 'B': [4, 5, 6]})\n",
    "df2 = pd.DataFrame({'C': [7, 8, 9], 'D': [10, 11, 12]})\n",
    "df = pd.concat([df1,df2],axis=1)"
   ]
  },
  {
   "cell_type": "code",
   "execution_count": 40,
   "id": "f53431de",
   "metadata": {},
   "outputs": [
    {
     "data": {
      "text/html": [
       "<div>\n",
       "<style scoped>\n",
       "    .dataframe tbody tr th:only-of-type {\n",
       "        vertical-align: middle;\n",
       "    }\n",
       "\n",
       "    .dataframe tbody tr th {\n",
       "        vertical-align: top;\n",
       "    }\n",
       "\n",
       "    .dataframe thead th {\n",
       "        text-align: right;\n",
       "    }\n",
       "</style>\n",
       "<table border=\"1\" class=\"dataframe\">\n",
       "  <thead>\n",
       "    <tr style=\"text-align: right;\">\n",
       "      <th></th>\n",
       "      <th>A</th>\n",
       "      <th>B</th>\n",
       "      <th>C</th>\n",
       "      <th>D</th>\n",
       "    </tr>\n",
       "  </thead>\n",
       "  <tbody>\n",
       "    <tr>\n",
       "      <th>0</th>\n",
       "      <td>1</td>\n",
       "      <td>4</td>\n",
       "      <td>7</td>\n",
       "      <td>10</td>\n",
       "    </tr>\n",
       "    <tr>\n",
       "      <th>1</th>\n",
       "      <td>2</td>\n",
       "      <td>5</td>\n",
       "      <td>8</td>\n",
       "      <td>11</td>\n",
       "    </tr>\n",
       "    <tr>\n",
       "      <th>2</th>\n",
       "      <td>3</td>\n",
       "      <td>6</td>\n",
       "      <td>9</td>\n",
       "      <td>12</td>\n",
       "    </tr>\n",
       "  </tbody>\n",
       "</table>\n",
       "</div>"
      ],
      "text/plain": [
       "   A  B  C   D\n",
       "0  1  4  7  10\n",
       "1  2  5  8  11\n",
       "2  3  6  9  12"
      ]
     },
     "execution_count": 40,
     "metadata": {},
     "output_type": "execute_result"
    }
   ],
   "source": [
    "df"
   ]
  },
  {
   "cell_type": "code",
   "execution_count": 44,
   "id": "ed2454e3",
   "metadata": {},
   "outputs": [],
   "source": [
    "df1 = pd.DataFrame({'key': ['A', 'B', 'C'], 'value1': [1, 2, 3]})\n",
    "df2 = pd.DataFrame({'key': ['B', 'C', 'D'], 'value2': [4, 5, 6]})"
   ]
  },
  {
   "cell_type": "code",
   "execution_count": 45,
   "id": "06e82bd2",
   "metadata": {},
   "outputs": [
    {
     "data": {
      "text/html": [
       "<div>\n",
       "<style scoped>\n",
       "    .dataframe tbody tr th:only-of-type {\n",
       "        vertical-align: middle;\n",
       "    }\n",
       "\n",
       "    .dataframe tbody tr th {\n",
       "        vertical-align: top;\n",
       "    }\n",
       "\n",
       "    .dataframe thead th {\n",
       "        text-align: right;\n",
       "    }\n",
       "</style>\n",
       "<table border=\"1\" class=\"dataframe\">\n",
       "  <thead>\n",
       "    <tr style=\"text-align: right;\">\n",
       "      <th></th>\n",
       "      <th>key</th>\n",
       "      <th>value1</th>\n",
       "      <th>value2</th>\n",
       "    </tr>\n",
       "  </thead>\n",
       "  <tbody>\n",
       "    <tr>\n",
       "      <th>0</th>\n",
       "      <td>B</td>\n",
       "      <td>2</td>\n",
       "      <td>4</td>\n",
       "    </tr>\n",
       "    <tr>\n",
       "      <th>1</th>\n",
       "      <td>C</td>\n",
       "      <td>3</td>\n",
       "      <td>5</td>\n",
       "    </tr>\n",
       "  </tbody>\n",
       "</table>\n",
       "</div>"
      ],
      "text/plain": [
       "  key  value1  value2\n",
       "0   B       2       4\n",
       "1   C       3       5"
      ]
     },
     "execution_count": 45,
     "metadata": {},
     "output_type": "execute_result"
    }
   ],
   "source": [
    "df1.merge(df2, how='inner', on='key')"
   ]
  },
  {
   "cell_type": "code",
   "execution_count": 46,
   "id": "19498de5",
   "metadata": {},
   "outputs": [
    {
     "name": "stdout",
     "output_type": "stream",
     "text": [
      "A\n",
      "Minimum: 1\n",
      "Maximum: 5\n",
      "Average: 3.0\n"
     ]
    }
   ],
   "source": [
    "import pandas as pd\n",
    "\n",
    "def calculate_stats(df, column_name):\n",
    "    mi = df[column_name].min()\n",
    "    ma = df[column_name].max()\n",
    "    av = df[column_name].mean()\n",
    "    return f'Minimum: {mi}\\nMaximum: {ma}\\nAverage: {av}'\n",
    "\n",
    "df = pd.DataFrame({'A': [1, 2, 3, 4, 5], 'B': [6, 7, 8, 9, 10]})\n",
    "column_name = input()\n",
    "print(calculate_stats(df, column_name))"
   ]
  },
  {
   "cell_type": "code",
   "execution_count": 51,
   "id": "5b80db8d",
   "metadata": {},
   "outputs": [
    {
     "name": "stdout",
     "output_type": "stream",
     "text": [
      "      Score\n",
      "Name       \n",
      "John     90\n",
      "Mary     85\n",
      "Alex     95\n"
     ]
    }
   ],
   "source": [
    "df = pd.DataFrame({'Name': ['John', 'Mary', 'Alex'], 'Score': [90, 85, 95]})\n",
    "df.set_index('Name',inplace=True)\n",
    "print(df)"
   ]
  },
  {
   "cell_type": "code",
   "execution_count": 52,
   "id": "85fe4754",
   "metadata": {},
   "outputs": [
    {
     "name": "stdout",
     "output_type": "stream",
     "text": [
      "praju:23\n"
     ]
    }
   ],
   "source": []
  },
  {
   "cell_type": "code",
   "execution_count": 57,
   "id": "dfe00090",
   "metadata": {},
   "outputs": [],
   "source": [
    "l=input_str.split(':')"
   ]
  },
  {
   "cell_type": "code",
   "execution_count": 63,
   "id": "90202724",
   "metadata": {},
   "outputs": [
    {
     "name": "stdout",
     "output_type": "stream",
     "text": [
      "p: 37 , dk:39\n"
     ]
    },
    {
     "data": {
      "text/plain": [
       "{'p': '37 , dk', '39': None}"
      ]
     },
     "execution_count": 63,
     "metadata": {},
     "output_type": "execute_result"
    }
   ],
   "source": [
    "input_str = input()\n",
    "l = input_str.split(':')\n",
    "d = {}\n",
    "\n",
    "for i in range(0, len(l), 2):\n",
    "    k = l[i].strip()\n",
    "    if i+1 < len(l):\n",
    "        v = l[i+1].strip()\n",
    "    else:\n",
    "        v = None\n",
    "    d[k] = v\n",
    "\n",
    "d"
   ]
  },
  {
   "cell_type": "code",
   "execution_count": 64,
   "id": "23675de8",
   "metadata": {},
   "outputs": [
    {
     "name": "stdout",
     "output_type": "stream",
     "text": [
      "p: 37 , dk:39\n",
      "{'p': '37 , dk', '39': None}\n"
     ]
    }
   ],
   "source": [
    "input_str = input()\n",
    "l = input_str.split(':')\n",
    "d = {}\n",
    "\n",
    "for i in range(0, len(l) - 1, 2):\n",
    "    k = l[i].strip()\n",
    "    v = l[i + 1].strip()\n",
    "    d[k] = v\n",
    "\n",
    "# Handle case where there is an odd number of elements\n",
    "if len(l) % 2 != 0:\n",
    "    d[l[-1].strip()] = None\n",
    "\n",
    "print(d)"
   ]
  },
  {
   "cell_type": "code",
   "execution_count": null,
   "id": "581db022",
   "metadata": {},
   "outputs": [],
   "source": []
  },
  {
   "cell_type": "code",
   "execution_count": null,
   "id": "b9694cdb",
   "metadata": {},
   "outputs": [],
   "source": []
  },
  {
   "cell_type": "code",
   "execution_count": null,
   "id": "46e06361",
   "metadata": {},
   "outputs": [],
   "source": []
  },
  {
   "cell_type": "code",
   "execution_count": null,
   "id": "db37729c",
   "metadata": {},
   "outputs": [],
   "source": []
  },
  {
   "cell_type": "code",
   "execution_count": null,
   "id": "a3c6d804",
   "metadata": {},
   "outputs": [],
   "source": []
  },
  {
   "cell_type": "code",
   "execution_count": null,
   "id": "4292a9f7",
   "metadata": {},
   "outputs": [],
   "source": []
  },
  {
   "cell_type": "code",
   "execution_count": null,
   "id": "2bf40398",
   "metadata": {},
   "outputs": [],
   "source": []
  },
  {
   "cell_type": "code",
   "execution_count": null,
   "id": "04c42501",
   "metadata": {},
   "outputs": [],
   "source": []
  },
  {
   "cell_type": "code",
   "execution_count": null,
   "id": "cbb36b59",
   "metadata": {},
   "outputs": [],
   "source": []
  },
  {
   "cell_type": "code",
   "execution_count": null,
   "id": "21ea7fa8",
   "metadata": {},
   "outputs": [],
   "source": []
  },
  {
   "cell_type": "code",
   "execution_count": null,
   "id": "c502a463",
   "metadata": {},
   "outputs": [],
   "source": []
  },
  {
   "cell_type": "code",
   "execution_count": null,
   "id": "68a443aa",
   "metadata": {},
   "outputs": [],
   "source": []
  },
  {
   "cell_type": "code",
   "execution_count": 2,
   "id": "fa585631",
   "metadata": {},
   "outputs": [
    {
     "data": {
      "text/html": [
       "<div>\n",
       "<style scoped>\n",
       "    .dataframe tbody tr th:only-of-type {\n",
       "        vertical-align: middle;\n",
       "    }\n",
       "\n",
       "    .dataframe tbody tr th {\n",
       "        vertical-align: top;\n",
       "    }\n",
       "\n",
       "    .dataframe thead th {\n",
       "        text-align: right;\n",
       "    }\n",
       "</style>\n",
       "<table border=\"1\" class=\"dataframe\">\n",
       "  <thead>\n",
       "    <tr style=\"text-align: right;\">\n",
       "      <th></th>\n",
       "      <th>ID</th>\n",
       "      <th>Last Name</th>\n",
       "      <th>First Name</th>\n",
       "      <th>City</th>\n",
       "      <th>State</th>\n",
       "      <th>Gender</th>\n",
       "      <th>Student Status</th>\n",
       "      <th>Major</th>\n",
       "      <th>Country</th>\n",
       "      <th>Age</th>\n",
       "      <th>Actual Marks</th>\n",
       "      <th>scaled score (grade)</th>\n",
       "      <th>Height (in)</th>\n",
       "      <th>Newspaper readership (times/wk)</th>\n",
       "    </tr>\n",
       "  </thead>\n",
       "  <tbody>\n",
       "    <tr>\n",
       "      <th>0</th>\n",
       "      <td>1</td>\n",
       "      <td>DOE01</td>\n",
       "      <td>JANE01</td>\n",
       "      <td>Los Angeles</td>\n",
       "      <td>California</td>\n",
       "      <td>Female</td>\n",
       "      <td>Graduate</td>\n",
       "      <td>Politics</td>\n",
       "      <td>US</td>\n",
       "      <td>30</td>\n",
       "      <td>2263</td>\n",
       "      <td>67.000000</td>\n",
       "      <td>61</td>\n",
       "      <td>5</td>\n",
       "    </tr>\n",
       "    <tr>\n",
       "      <th>1</th>\n",
       "      <td>2</td>\n",
       "      <td>DOE02</td>\n",
       "      <td>JANE02</td>\n",
       "      <td>Sedona</td>\n",
       "      <td>Arizona</td>\n",
       "      <td>Female</td>\n",
       "      <td>Undergraduate</td>\n",
       "      <td>Math</td>\n",
       "      <td>US</td>\n",
       "      <td>19</td>\n",
       "      <td>2006</td>\n",
       "      <td>63.000000</td>\n",
       "      <td>64</td>\n",
       "      <td>7</td>\n",
       "    </tr>\n",
       "    <tr>\n",
       "      <th>2</th>\n",
       "      <td>3</td>\n",
       "      <td>DOE01</td>\n",
       "      <td>JOE01</td>\n",
       "      <td>Elmira</td>\n",
       "      <td>New York</td>\n",
       "      <td>Male</td>\n",
       "      <td>Graduate</td>\n",
       "      <td>Math</td>\n",
       "      <td>US</td>\n",
       "      <td>26</td>\n",
       "      <td>2221</td>\n",
       "      <td>78.113285</td>\n",
       "      <td>73</td>\n",
       "      <td>6</td>\n",
       "    </tr>\n",
       "    <tr>\n",
       "      <th>3</th>\n",
       "      <td>4</td>\n",
       "      <td>DOE02</td>\n",
       "      <td>JOE02</td>\n",
       "      <td>Lackawana</td>\n",
       "      <td>New York</td>\n",
       "      <td>Male</td>\n",
       "      <td>Graduate</td>\n",
       "      <td>Econ</td>\n",
       "      <td>US</td>\n",
       "      <td>33</td>\n",
       "      <td>1716</td>\n",
       "      <td>77.808587</td>\n",
       "      <td>68</td>\n",
       "      <td>3</td>\n",
       "    </tr>\n",
       "    <tr>\n",
       "      <th>4</th>\n",
       "      <td>5</td>\n",
       "      <td>DOE03</td>\n",
       "      <td>JOE03</td>\n",
       "      <td>Defiance</td>\n",
       "      <td>Ohio</td>\n",
       "      <td>Male</td>\n",
       "      <td>Graduate</td>\n",
       "      <td>Econ</td>\n",
       "      <td>US</td>\n",
       "      <td>37</td>\n",
       "      <td>1701</td>\n",
       "      <td>65.000000</td>\n",
       "      <td>71</td>\n",
       "      <td>6</td>\n",
       "    </tr>\n",
       "  </tbody>\n",
       "</table>\n",
       "</div>"
      ],
      "text/plain": [
       "   ID Last Name First Name         City       State  Gender Student Status  \\\n",
       "0   1     DOE01     JANE01  Los Angeles  California  Female       Graduate   \n",
       "1   2     DOE02     JANE02       Sedona     Arizona  Female  Undergraduate   \n",
       "2   3     DOE01      JOE01       Elmira    New York    Male       Graduate   \n",
       "3   4     DOE02      JOE02    Lackawana    New York    Male       Graduate   \n",
       "4   5     DOE03      JOE03     Defiance        Ohio    Male       Graduate   \n",
       "\n",
       "      Major Country  Age  Actual Marks    scaled score (grade)  Height (in)  \\\n",
       "0  Politics      US   30           2263              67.000000           61   \n",
       "1      Math      US   19           2006              63.000000           64   \n",
       "2      Math      US   26           2221              78.113285           73   \n",
       "3      Econ      US   33           1716              77.808587           68   \n",
       "4      Econ      US   37           1701              65.000000           71   \n",
       "\n",
       "   Newspaper readership (times/wk)  \n",
       "0                                5  \n",
       "1                                7  \n",
       "2                                6  \n",
       "3                                3  \n",
       "4                                6  "
      ]
     },
     "execution_count": 2,
     "metadata": {},
     "output_type": "execute_result"
    }
   ],
   "source": [
    "import numpy as np\n",
    "import pandas as pd\n",
    "import seaborn as sns\n",
    "\n",
    "df= pd.read_excel('ScoreCard.xlsx')\n",
    "df.head()"
   ]
  },
  {
   "cell_type": "code",
   "execution_count": 3,
   "id": "fd9020f5",
   "metadata": {},
   "outputs": [
    {
     "data": {
      "text/plain": [
       "25.2"
      ]
     },
     "execution_count": 3,
     "metadata": {},
     "output_type": "execute_result"
    }
   ],
   "source": [
    "df['Age'].mean()"
   ]
  },
  {
   "cell_type": "code",
   "execution_count": 5,
   "id": "9cf7f5c2",
   "metadata": {},
   "outputs": [
    {
     "data": {
      "text/plain": [
       "Index(['ID', 'Last Name', 'First Name', 'City', 'State', 'Gender',\n",
       "       'Student Status', 'Major', 'Country', 'Age', 'Actual Marks ',\n",
       "       ' scaled score (grade)', 'Height (in)',\n",
       "       'Newspaper readership (times/wk)'],\n",
       "      dtype='object')"
      ]
     },
     "execution_count": 5,
     "metadata": {},
     "output_type": "execute_result"
    }
   ],
   "source": [
    "df.columns"
   ]
  },
  {
   "cell_type": "code",
   "execution_count": 9,
   "id": "a59e195e",
   "metadata": {},
   "outputs": [
    {
     "name": "stderr",
     "output_type": "stream",
     "text": [
      "C:\\Users\\91973\\AppData\\Local\\Temp\\ipykernel_12348\\3698961737.py:1: FutureWarning: The default value of numeric_only in DataFrame.mean is deprecated. In a future version, it will default to False. In addition, specifying 'numeric_only=None' is deprecated. Select only valid columns or specify the value of numeric_only to silence this warning.\n",
      "  df.mean()\n"
     ]
    },
    {
     "data": {
      "text/plain": [
       "ID                                   15.500000\n",
       "Age                                  25.200000\n",
       "Actual Marks                       1848.900000\n",
       " scaled score (grade)                80.400915\n",
       "Height (in)                          66.433333\n",
       "Newspaper readership (times/wk)       4.866667\n",
       "dtype: float64"
      ]
     },
     "execution_count": 9,
     "metadata": {},
     "output_type": "execute_result"
    }
   ],
   "source": [
    "df.mean()"
   ]
  },
  {
   "cell_type": "code",
   "execution_count": 12,
   "id": "230f4ff2",
   "metadata": {},
   "outputs": [
    {
     "data": {
      "text/plain": [
       "80.84112266561891"
      ]
     },
     "execution_count": 12,
     "metadata": {},
     "output_type": "execute_result"
    }
   ],
   "source": [
    "df[df['Student Status']=='Graduate'][' scaled score (grade)'].mean()"
   ]
  },
  {
   "cell_type": "code",
   "execution_count": 13,
   "id": "c11cb43b",
   "metadata": {},
   "outputs": [
    {
     "data": {
      "text/plain": [
       "79.96070697313499"
      ]
     },
     "execution_count": 13,
     "metadata": {},
     "output_type": "execute_result"
    }
   ],
   "source": [
    "df[df['Student Status']=='Undergraduate'][' scaled score (grade)'].mean()"
   ]
  },
  {
   "cell_type": "code",
   "execution_count": 16,
   "id": "9fa3274b",
   "metadata": {},
   "outputs": [
    {
     "data": {
      "text/plain": [
       "63.0"
      ]
     },
     "execution_count": 16,
     "metadata": {},
     "output_type": "execute_result"
    }
   ],
   "source": [
    "df[df['Gender']=='Female']['Height (in)'].median()"
   ]
  },
  {
   "cell_type": "code",
   "execution_count": 18,
   "id": "7da78541",
   "metadata": {},
   "outputs": [
    {
     "data": {
      "text/plain": [
       "11.0"
      ]
     },
     "execution_count": 18,
     "metadata": {},
     "output_type": "execute_result"
    }
   ],
   "source": [
    "q1=df['Age'].quantile(0.25)\n",
    "q3=df['Age'].quantile(0.75)\n",
    "q3-q1"
   ]
  },
  {
   "cell_type": "code",
   "execution_count": 20,
   "id": "2177cf9f",
   "metadata": {},
   "outputs": [
    {
     "data": {
      "text/plain": [
       "21"
      ]
     },
     "execution_count": 20,
     "metadata": {},
     "output_type": "execute_result"
    }
   ],
   "source": [
    "max(df['Age'])-min(df['Age'])"
   ]
  },
  {
   "cell_type": "code",
   "execution_count": 22,
   "id": "54ffaa64",
   "metadata": {},
   "outputs": [
    {
     "data": {
      "text/plain": [
       "21"
      ]
     },
     "execution_count": 22,
     "metadata": {},
     "output_type": "execute_result"
    }
   ],
   "source": [
    "df['Age'].max()-df['Age'].min()"
   ]
  },
  {
   "cell_type": "code",
   "execution_count": 30,
   "id": "25d55298",
   "metadata": {},
   "outputs": [
    {
     "data": {
      "text/plain": [
       "Gender\n",
       "Female    5.4\n",
       "Male      4.6\n",
       "Name: Newspaper readership (times/wk), dtype: float64"
      ]
     },
     "execution_count": 30,
     "metadata": {},
     "output_type": "execute_result"
    }
   ],
   "source": [
    "d=df[df['Country']=='US']\n",
    "d.groupby('Gender')['Newspaper readership (times/wk)'].mean()"
   ]
  },
  {
   "cell_type": "code",
   "execution_count": 33,
   "id": "652570c4",
   "metadata": {},
   "outputs": [
    {
     "data": {
      "text/plain": [
       "Major\n",
       "Econ        23.8\n",
       "Math        23.0\n",
       "Politics    28.8\n",
       "Name: Age, dtype: float64"
      ]
     },
     "execution_count": 33,
     "metadata": {},
     "output_type": "execute_result"
    }
   ],
   "source": [
    "df.groupby(['Major'])['Age'].mean()"
   ]
  },
  {
   "cell_type": "markdown",
   "id": "a83fb8fe",
   "metadata": {},
   "source": [
    "How much is the difference between the average marks ( Actual Marks column) for the students who read the newspaper for 7 times/week vs the ones who read the newspaper for 3 times/week?"
   ]
  },
  {
   "cell_type": "code",
   "execution_count": 36,
   "id": "0c42e920",
   "metadata": {},
   "outputs": [
    {
     "data": {
      "text/plain": [
       "Index(['ID', 'Last Name', 'First Name', 'City', 'State', 'Gender',\n",
       "       'Student Status', 'Major', 'Country', 'Age', 'Actual Marks ',\n",
       "       ' scaled score (grade)', 'Height (in)',\n",
       "       'Newspaper readership (times/wk)'],\n",
       "      dtype='object')"
      ]
     },
     "execution_count": 36,
     "metadata": {},
     "output_type": "execute_result"
    }
   ],
   "source": [
    "df.columns"
   ]
  },
  {
   "cell_type": "code",
   "execution_count": 37,
   "id": "fe40935e",
   "metadata": {
    "scrolled": true
   },
   "outputs": [
    {
     "data": {
      "text/plain": [
       "Newspaper readership (times/wk)\n",
       "3    1834.000000\n",
       "4    1822.000000\n",
       "5    1859.000000\n",
       "6    1852.285714\n",
       "7    1885.333333\n",
       "Name: Actual Marks , dtype: float64"
      ]
     },
     "execution_count": 37,
     "metadata": {},
     "output_type": "execute_result"
    }
   ],
   "source": [
    "df.groupby('Newspaper readership (times/wk)')['Actual Marks '].mean()"
   ]
  },
  {
   "cell_type": "code",
   "execution_count": 38,
   "id": "b3ad4596",
   "metadata": {},
   "outputs": [
    {
     "data": {
      "text/plain": [
       "51.33333300000004"
      ]
     },
     "execution_count": 38,
     "metadata": {},
     "output_type": "execute_result"
    }
   ],
   "source": [
    " 1885.333333-1834.000000"
   ]
  },
  {
   "cell_type": "markdown",
   "id": "981f1180",
   "metadata": {},
   "source": [
    "What is the average height of the students who got more than 2000 as actual marks?"
   ]
  },
  {
   "cell_type": "code",
   "execution_count": 42,
   "id": "9cc2acf8",
   "metadata": {},
   "outputs": [
    {
     "data": {
      "text/plain": [
       "66.88888888888889"
      ]
     },
     "execution_count": 42,
     "metadata": {},
     "output_type": "execute_result"
    }
   ],
   "source": [
    "df[df['Actual Marks ']>2000]['Height (in)'].mean()"
   ]
  },
  {
   "cell_type": "markdown",
   "id": "a5ca7c92",
   "metadata": {},
   "source": [
    "Are there more number of undergraduates than graduates in economics as a major"
   ]
  },
  {
   "cell_type": "code",
   "execution_count": 48,
   "id": "4f082534",
   "metadata": {
    "scrolled": true
   },
   "outputs": [
    {
     "data": {
      "text/html": [
       "<div>\n",
       "<style scoped>\n",
       "    .dataframe tbody tr th:only-of-type {\n",
       "        vertical-align: middle;\n",
       "    }\n",
       "\n",
       "    .dataframe tbody tr th {\n",
       "        vertical-align: top;\n",
       "    }\n",
       "\n",
       "    .dataframe thead th {\n",
       "        text-align: right;\n",
       "    }\n",
       "</style>\n",
       "<table border=\"1\" class=\"dataframe\">\n",
       "  <thead>\n",
       "    <tr style=\"text-align: right;\">\n",
       "      <th></th>\n",
       "      <th>ID</th>\n",
       "      <th>Last Name</th>\n",
       "      <th>First Name</th>\n",
       "      <th>City</th>\n",
       "      <th>State</th>\n",
       "      <th>Gender</th>\n",
       "      <th>Major</th>\n",
       "      <th>Country</th>\n",
       "      <th>Age</th>\n",
       "      <th>Actual Marks</th>\n",
       "      <th>scaled score (grade)</th>\n",
       "      <th>Height (in)</th>\n",
       "      <th>Newspaper readership (times/wk)</th>\n",
       "    </tr>\n",
       "    <tr>\n",
       "      <th>Student Status</th>\n",
       "      <th></th>\n",
       "      <th></th>\n",
       "      <th></th>\n",
       "      <th></th>\n",
       "      <th></th>\n",
       "      <th></th>\n",
       "      <th></th>\n",
       "      <th></th>\n",
       "      <th></th>\n",
       "      <th></th>\n",
       "      <th></th>\n",
       "      <th></th>\n",
       "      <th></th>\n",
       "    </tr>\n",
       "  </thead>\n",
       "  <tbody>\n",
       "    <tr>\n",
       "      <th>Graduate</th>\n",
       "      <td>4</td>\n",
       "      <td>4</td>\n",
       "      <td>4</td>\n",
       "      <td>4</td>\n",
       "      <td>4</td>\n",
       "      <td>4</td>\n",
       "      <td>4</td>\n",
       "      <td>4</td>\n",
       "      <td>4</td>\n",
       "      <td>4</td>\n",
       "      <td>4</td>\n",
       "      <td>4</td>\n",
       "      <td>4</td>\n",
       "    </tr>\n",
       "    <tr>\n",
       "      <th>Undergraduate</th>\n",
       "      <td>6</td>\n",
       "      <td>6</td>\n",
       "      <td>6</td>\n",
       "      <td>6</td>\n",
       "      <td>6</td>\n",
       "      <td>6</td>\n",
       "      <td>6</td>\n",
       "      <td>6</td>\n",
       "      <td>6</td>\n",
       "      <td>6</td>\n",
       "      <td>6</td>\n",
       "      <td>6</td>\n",
       "      <td>6</td>\n",
       "    </tr>\n",
       "  </tbody>\n",
       "</table>\n",
       "</div>"
      ],
      "text/plain": [
       "                ID  Last Name  First Name  City  State  Gender  Major  \\\n",
       "Student Status                                                          \n",
       "Graduate         4          4           4     4      4       4      4   \n",
       "Undergraduate    6          6           6     6      6       6      6   \n",
       "\n",
       "                Country  Age  Actual Marks    scaled score (grade)  \\\n",
       "Student Status                                                       \n",
       "Graduate              4    4              4                      4   \n",
       "Undergraduate         6    6              6                      6   \n",
       "\n",
       "                Height (in)  Newspaper readership (times/wk)  \n",
       "Student Status                                                \n",
       "Graduate                  4                                4  \n",
       "Undergraduate             6                                6  "
      ]
     },
     "execution_count": 48,
     "metadata": {},
     "output_type": "execute_result"
    }
   ],
   "source": [
    "dd=df[df['Major']=='Econ']\n",
    "dd.groupby('Student Status').count()"
   ]
  },
  {
   "cell_type": "code",
   "execution_count": 52,
   "id": "3065f40f",
   "metadata": {
    "scrolled": true
   },
   "outputs": [
    {
     "data": {
      "text/html": [
       "<div>\n",
       "<style scoped>\n",
       "    .dataframe tbody tr th:only-of-type {\n",
       "        vertical-align: middle;\n",
       "    }\n",
       "\n",
       "    .dataframe tbody tr th {\n",
       "        vertical-align: top;\n",
       "    }\n",
       "\n",
       "    .dataframe thead th {\n",
       "        text-align: right;\n",
       "    }\n",
       "</style>\n",
       "<table border=\"1\" class=\"dataframe\">\n",
       "  <thead>\n",
       "    <tr style=\"text-align: right;\">\n",
       "      <th></th>\n",
       "      <th>ID</th>\n",
       "      <th>Last Name</th>\n",
       "      <th>First Name</th>\n",
       "      <th>City</th>\n",
       "      <th>State</th>\n",
       "      <th>Gender</th>\n",
       "      <th>Student Status</th>\n",
       "      <th>Major</th>\n",
       "      <th>Country</th>\n",
       "      <th>Age</th>\n",
       "      <th>Actual Marks</th>\n",
       "      <th>scaled score (grade)</th>\n",
       "      <th>Height (in)</th>\n",
       "      <th>Newspaper readership (times/wk)</th>\n",
       "    </tr>\n",
       "  </thead>\n",
       "  <tbody>\n",
       "    <tr>\n",
       "      <th>27</th>\n",
       "      <td>28</td>\n",
       "      <td>DOE15</td>\n",
       "      <td>JANE15</td>\n",
       "      <td>Loco</td>\n",
       "      <td>Oklahoma</td>\n",
       "      <td>Female</td>\n",
       "      <td>Undergraduate</td>\n",
       "      <td>Econ</td>\n",
       "      <td>US</td>\n",
       "      <td>20</td>\n",
       "      <td>2309</td>\n",
       "      <td>64.0</td>\n",
       "      <td>68</td>\n",
       "      <td>6</td>\n",
       "    </tr>\n",
       "  </tbody>\n",
       "</table>\n",
       "</div>"
      ],
      "text/plain": [
       "    ID Last Name First Name  City     State  Gender Student Status Major  \\\n",
       "27  28     DOE15     JANE15  Loco  Oklahoma  Female  Undergraduate  Econ   \n",
       "\n",
       "   Country  Age  Actual Marks    scaled score (grade)  Height (in)  \\\n",
       "27      US   20           2309                   64.0           68   \n",
       "\n",
       "    Newspaper readership (times/wk)  \n",
       "27                                6  "
      ]
     },
     "execution_count": 52,
     "metadata": {},
     "output_type": "execute_result"
    }
   ],
   "source": [
    "# The student who got the highest Actual Marks is from which country?\n",
    "df[df['Actual Marks ']==2309]"
   ]
  },
  {
   "cell_type": "code",
   "execution_count": 55,
   "id": "45e7c821",
   "metadata": {
    "scrolled": true
   },
   "outputs": [
    {
     "data": {
      "text/html": [
       "<div>\n",
       "<style scoped>\n",
       "    .dataframe tbody tr th:only-of-type {\n",
       "        vertical-align: middle;\n",
       "    }\n",
       "\n",
       "    .dataframe tbody tr th {\n",
       "        vertical-align: top;\n",
       "    }\n",
       "\n",
       "    .dataframe thead th {\n",
       "        text-align: right;\n",
       "    }\n",
       "</style>\n",
       "<table border=\"1\" class=\"dataframe\">\n",
       "  <thead>\n",
       "    <tr style=\"text-align: right;\">\n",
       "      <th></th>\n",
       "      <th>ID</th>\n",
       "      <th>Last Name</th>\n",
       "      <th>First Name</th>\n",
       "      <th>City</th>\n",
       "      <th>State</th>\n",
       "      <th>Gender</th>\n",
       "      <th>Student Status</th>\n",
       "      <th>Major</th>\n",
       "      <th>Country</th>\n",
       "      <th>Age</th>\n",
       "      <th>Actual Marks</th>\n",
       "      <th>scaled score (grade)</th>\n",
       "      <th>Height (in)</th>\n",
       "      <th>Newspaper readership (times/wk)</th>\n",
       "    </tr>\n",
       "  </thead>\n",
       "  <tbody>\n",
       "    <tr>\n",
       "      <th>27</th>\n",
       "      <td>28</td>\n",
       "      <td>DOE15</td>\n",
       "      <td>JANE15</td>\n",
       "      <td>Loco</td>\n",
       "      <td>Oklahoma</td>\n",
       "      <td>Female</td>\n",
       "      <td>Undergraduate</td>\n",
       "      <td>Econ</td>\n",
       "      <td>US</td>\n",
       "      <td>20</td>\n",
       "      <td>2309</td>\n",
       "      <td>64.000000</td>\n",
       "      <td>68</td>\n",
       "      <td>6</td>\n",
       "    </tr>\n",
       "    <tr>\n",
       "      <th>28</th>\n",
       "      <td>29</td>\n",
       "      <td>DOE14</td>\n",
       "      <td>JOE14</td>\n",
       "      <td>Buenos Aires</td>\n",
       "      <td>Argentina</td>\n",
       "      <td>Male</td>\n",
       "      <td>Graduate</td>\n",
       "      <td>Politics</td>\n",
       "      <td>Argentina</td>\n",
       "      <td>30</td>\n",
       "      <td>2279</td>\n",
       "      <td>85.000000</td>\n",
       "      <td>72</td>\n",
       "      <td>3</td>\n",
       "    </tr>\n",
       "    <tr>\n",
       "      <th>0</th>\n",
       "      <td>1</td>\n",
       "      <td>DOE01</td>\n",
       "      <td>JANE01</td>\n",
       "      <td>Los Angeles</td>\n",
       "      <td>California</td>\n",
       "      <td>Female</td>\n",
       "      <td>Graduate</td>\n",
       "      <td>Politics</td>\n",
       "      <td>US</td>\n",
       "      <td>30</td>\n",
       "      <td>2263</td>\n",
       "      <td>67.000000</td>\n",
       "      <td>61</td>\n",
       "      <td>5</td>\n",
       "    </tr>\n",
       "    <tr>\n",
       "      <th>18</th>\n",
       "      <td>19</td>\n",
       "      <td>DOE11</td>\n",
       "      <td>JANE11</td>\n",
       "      <td>Caracas</td>\n",
       "      <td>Venezuela</td>\n",
       "      <td>Female</td>\n",
       "      <td>Undergraduate</td>\n",
       "      <td>Math</td>\n",
       "      <td>Venezuela</td>\n",
       "      <td>18</td>\n",
       "      <td>2252</td>\n",
       "      <td>92.000000</td>\n",
       "      <td>68</td>\n",
       "      <td>5</td>\n",
       "    </tr>\n",
       "    <tr>\n",
       "      <th>17</th>\n",
       "      <td>18</td>\n",
       "      <td>DOE10</td>\n",
       "      <td>JANE10</td>\n",
       "      <td>Mexico</td>\n",
       "      <td>Mexico</td>\n",
       "      <td>Female</td>\n",
       "      <td>Graduate</td>\n",
       "      <td>Politics</td>\n",
       "      <td>Mexico</td>\n",
       "      <td>31</td>\n",
       "      <td>2248</td>\n",
       "      <td>95.423560</td>\n",
       "      <td>59</td>\n",
       "      <td>4</td>\n",
       "    </tr>\n",
       "    <tr>\n",
       "      <th>2</th>\n",
       "      <td>3</td>\n",
       "      <td>DOE01</td>\n",
       "      <td>JOE01</td>\n",
       "      <td>Elmira</td>\n",
       "      <td>New York</td>\n",
       "      <td>Male</td>\n",
       "      <td>Graduate</td>\n",
       "      <td>Math</td>\n",
       "      <td>US</td>\n",
       "      <td>26</td>\n",
       "      <td>2221</td>\n",
       "      <td>78.113285</td>\n",
       "      <td>73</td>\n",
       "      <td>6</td>\n",
       "    </tr>\n",
       "    <tr>\n",
       "      <th>26</th>\n",
       "      <td>27</td>\n",
       "      <td>DOE13</td>\n",
       "      <td>JOE13</td>\n",
       "      <td>Intercourse</td>\n",
       "      <td>Pennsylvania</td>\n",
       "      <td>Male</td>\n",
       "      <td>Undergraduate</td>\n",
       "      <td>Math</td>\n",
       "      <td>US</td>\n",
       "      <td>20</td>\n",
       "      <td>2119</td>\n",
       "      <td>88.000000</td>\n",
       "      <td>71</td>\n",
       "      <td>5</td>\n",
       "    </tr>\n",
       "    <tr>\n",
       "      <th>9</th>\n",
       "      <td>10</td>\n",
       "      <td>DOE05</td>\n",
       "      <td>JANE05</td>\n",
       "      <td>New York</td>\n",
       "      <td>New York</td>\n",
       "      <td>Female</td>\n",
       "      <td>Graduate</td>\n",
       "      <td>Math</td>\n",
       "      <td>US</td>\n",
       "      <td>33</td>\n",
       "      <td>2041</td>\n",
       "      <td>71.000000</td>\n",
       "      <td>66</td>\n",
       "      <td>5</td>\n",
       "    </tr>\n",
       "    <tr>\n",
       "      <th>1</th>\n",
       "      <td>2</td>\n",
       "      <td>DOE02</td>\n",
       "      <td>JANE02</td>\n",
       "      <td>Sedona</td>\n",
       "      <td>Arizona</td>\n",
       "      <td>Female</td>\n",
       "      <td>Undergraduate</td>\n",
       "      <td>Math</td>\n",
       "      <td>US</td>\n",
       "      <td>19</td>\n",
       "      <td>2006</td>\n",
       "      <td>63.000000</td>\n",
       "      <td>64</td>\n",
       "      <td>7</td>\n",
       "    </tr>\n",
       "    <tr>\n",
       "      <th>19</th>\n",
       "      <td>20</td>\n",
       "      <td>DOE09</td>\n",
       "      <td>JOE09</td>\n",
       "      <td>San Juan</td>\n",
       "      <td>Puerto Rico</td>\n",
       "      <td>Male</td>\n",
       "      <td>Graduate</td>\n",
       "      <td>Politics</td>\n",
       "      <td>US</td>\n",
       "      <td>33</td>\n",
       "      <td>1923</td>\n",
       "      <td>95.000000</td>\n",
       "      <td>63</td>\n",
       "      <td>7</td>\n",
       "    </tr>\n",
       "    <tr>\n",
       "      <th>24</th>\n",
       "      <td>25</td>\n",
       "      <td>DOE11</td>\n",
       "      <td>JOE11</td>\n",
       "      <td>Stockholm</td>\n",
       "      <td>Sweden</td>\n",
       "      <td>Male</td>\n",
       "      <td>Undergraduate</td>\n",
       "      <td>Politics</td>\n",
       "      <td>Sweden</td>\n",
       "      <td>19</td>\n",
       "      <td>1919</td>\n",
       "      <td>88.000000</td>\n",
       "      <td>64</td>\n",
       "      <td>4</td>\n",
       "    </tr>\n",
       "    <tr>\n",
       "      <th>29</th>\n",
       "      <td>30</td>\n",
       "      <td>DOE15</td>\n",
       "      <td>JOE15</td>\n",
       "      <td>Acme</td>\n",
       "      <td>Louisiana</td>\n",
       "      <td>Male</td>\n",
       "      <td>Undergraduate</td>\n",
       "      <td>Econ</td>\n",
       "      <td>US</td>\n",
       "      <td>19</td>\n",
       "      <td>1907</td>\n",
       "      <td>79.499360</td>\n",
       "      <td>74</td>\n",
       "      <td>3</td>\n",
       "    </tr>\n",
       "    <tr>\n",
       "      <th>21</th>\n",
       "      <td>22</td>\n",
       "      <td>DOE10</td>\n",
       "      <td>JOE10</td>\n",
       "      <td>New York</td>\n",
       "      <td>New York</td>\n",
       "      <td>Male</td>\n",
       "      <td>Undergraduate</td>\n",
       "      <td>Econ</td>\n",
       "      <td>US</td>\n",
       "      <td>21</td>\n",
       "      <td>1872</td>\n",
       "      <td>82.000000</td>\n",
       "      <td>73</td>\n",
       "      <td>4</td>\n",
       "    </tr>\n",
       "    <tr>\n",
       "      <th>7</th>\n",
       "      <td>8</td>\n",
       "      <td>DOE03</td>\n",
       "      <td>JANE03</td>\n",
       "      <td>Liberal</td>\n",
       "      <td>Kansas</td>\n",
       "      <td>Female</td>\n",
       "      <td>Undergraduate</td>\n",
       "      <td>Politics</td>\n",
       "      <td>US</td>\n",
       "      <td>21</td>\n",
       "      <td>1842</td>\n",
       "      <td>87.000000</td>\n",
       "      <td>62</td>\n",
       "      <td>5</td>\n",
       "    </tr>\n",
       "    <tr>\n",
       "      <th>15</th>\n",
       "      <td>16</td>\n",
       "      <td>DOE08</td>\n",
       "      <td>JANE08</td>\n",
       "      <td>Mexican Hat</td>\n",
       "      <td>Utah</td>\n",
       "      <td>Female</td>\n",
       "      <td>Undergraduate</td>\n",
       "      <td>Econ</td>\n",
       "      <td>US</td>\n",
       "      <td>18</td>\n",
       "      <td>1821</td>\n",
       "      <td>80.000000</td>\n",
       "      <td>63</td>\n",
       "      <td>3</td>\n",
       "    </tr>\n",
       "    <tr>\n",
       "      <th>8</th>\n",
       "      <td>9</td>\n",
       "      <td>DOE04</td>\n",
       "      <td>JANE04</td>\n",
       "      <td>Montreal</td>\n",
       "      <td>Canada</td>\n",
       "      <td>Female</td>\n",
       "      <td>Undergraduate</td>\n",
       "      <td>Math</td>\n",
       "      <td>Canada</td>\n",
       "      <td>18</td>\n",
       "      <td>1813</td>\n",
       "      <td>91.000000</td>\n",
       "      <td>62</td>\n",
       "      <td>6</td>\n",
       "    </tr>\n",
       "    <tr>\n",
       "      <th>10</th>\n",
       "      <td>11</td>\n",
       "      <td>DOE06</td>\n",
       "      <td>JOE06</td>\n",
       "      <td>Hot Coffe</td>\n",
       "      <td>Mississippi</td>\n",
       "      <td>Male</td>\n",
       "      <td>Undergraduate</td>\n",
       "      <td>Econ</td>\n",
       "      <td>US</td>\n",
       "      <td>18</td>\n",
       "      <td>1787</td>\n",
       "      <td>81.525285</td>\n",
       "      <td>67</td>\n",
       "      <td>3</td>\n",
       "    </tr>\n",
       "    <tr>\n",
       "      <th>5</th>\n",
       "      <td>6</td>\n",
       "      <td>DOE04</td>\n",
       "      <td>JOE04</td>\n",
       "      <td>Tel Aviv</td>\n",
       "      <td>Israel</td>\n",
       "      <td>Male</td>\n",
       "      <td>Graduate</td>\n",
       "      <td>Econ</td>\n",
       "      <td>Israel</td>\n",
       "      <td>25</td>\n",
       "      <td>1786</td>\n",
       "      <td>69.000000</td>\n",
       "      <td>67</td>\n",
       "      <td>5</td>\n",
       "    </tr>\n",
       "    <tr>\n",
       "      <th>22</th>\n",
       "      <td>23</td>\n",
       "      <td>DOE13</td>\n",
       "      <td>JANE13</td>\n",
       "      <td>The X</td>\n",
       "      <td>Massachusetts</td>\n",
       "      <td>Female</td>\n",
       "      <td>Graduate</td>\n",
       "      <td>Politics</td>\n",
       "      <td>US</td>\n",
       "      <td>25</td>\n",
       "      <td>1767</td>\n",
       "      <td>89.000000</td>\n",
       "      <td>68</td>\n",
       "      <td>6</td>\n",
       "    </tr>\n",
       "    <tr>\n",
       "      <th>20</th>\n",
       "      <td>21</td>\n",
       "      <td>DOE12</td>\n",
       "      <td>JANE12</td>\n",
       "      <td>Remote</td>\n",
       "      <td>Oregon</td>\n",
       "      <td>Female</td>\n",
       "      <td>Undergraduate</td>\n",
       "      <td>Econ</td>\n",
       "      <td>US</td>\n",
       "      <td>19</td>\n",
       "      <td>1727</td>\n",
       "      <td>67.000000</td>\n",
       "      <td>62</td>\n",
       "      <td>7</td>\n",
       "    </tr>\n",
       "    <tr>\n",
       "      <th>3</th>\n",
       "      <td>4</td>\n",
       "      <td>DOE02</td>\n",
       "      <td>JOE02</td>\n",
       "      <td>Lackawana</td>\n",
       "      <td>New York</td>\n",
       "      <td>Male</td>\n",
       "      <td>Graduate</td>\n",
       "      <td>Econ</td>\n",
       "      <td>US</td>\n",
       "      <td>33</td>\n",
       "      <td>1716</td>\n",
       "      <td>77.808587</td>\n",
       "      <td>68</td>\n",
       "      <td>3</td>\n",
       "    </tr>\n",
       "    <tr>\n",
       "      <th>4</th>\n",
       "      <td>5</td>\n",
       "      <td>DOE03</td>\n",
       "      <td>JOE03</td>\n",
       "      <td>Defiance</td>\n",
       "      <td>Ohio</td>\n",
       "      <td>Male</td>\n",
       "      <td>Graduate</td>\n",
       "      <td>Econ</td>\n",
       "      <td>US</td>\n",
       "      <td>37</td>\n",
       "      <td>1701</td>\n",
       "      <td>65.000000</td>\n",
       "      <td>71</td>\n",
       "      <td>6</td>\n",
       "    </tr>\n",
       "    <tr>\n",
       "      <th>23</th>\n",
       "      <td>24</td>\n",
       "      <td>DOE14</td>\n",
       "      <td>JANE14</td>\n",
       "      <td>Beijing</td>\n",
       "      <td>China</td>\n",
       "      <td>Female</td>\n",
       "      <td>Undergraduate</td>\n",
       "      <td>Math</td>\n",
       "      <td>China</td>\n",
       "      <td>18</td>\n",
       "      <td>1643</td>\n",
       "      <td>79.000000</td>\n",
       "      <td>65</td>\n",
       "      <td>6</td>\n",
       "    </tr>\n",
       "    <tr>\n",
       "      <th>12</th>\n",
       "      <td>13</td>\n",
       "      <td>DOE07</td>\n",
       "      <td>JOE07</td>\n",
       "      <td>Varna</td>\n",
       "      <td>Bulgaria</td>\n",
       "      <td>Male</td>\n",
       "      <td>Graduate</td>\n",
       "      <td>Politics</td>\n",
       "      <td>Bulgaria</td>\n",
       "      <td>30</td>\n",
       "      <td>1637</td>\n",
       "      <td>79.337239</td>\n",
       "      <td>63</td>\n",
       "      <td>4</td>\n",
       "    </tr>\n",
       "    <tr>\n",
       "      <th>6</th>\n",
       "      <td>7</td>\n",
       "      <td>DOE05</td>\n",
       "      <td>JOE05</td>\n",
       "      <td>Cimax</td>\n",
       "      <td>North Carolina</td>\n",
       "      <td>Male</td>\n",
       "      <td>Graduate</td>\n",
       "      <td>Politics</td>\n",
       "      <td>US</td>\n",
       "      <td>39</td>\n",
       "      <td>1577</td>\n",
       "      <td>95.882515</td>\n",
       "      <td>70</td>\n",
       "      <td>5</td>\n",
       "    </tr>\n",
       "    <tr>\n",
       "      <th>11</th>\n",
       "      <td>12</td>\n",
       "      <td>DOE06</td>\n",
       "      <td>JANE06</td>\n",
       "      <td>Java</td>\n",
       "      <td>Virginia</td>\n",
       "      <td>Female</td>\n",
       "      <td>Graduate</td>\n",
       "      <td>Math</td>\n",
       "      <td>US</td>\n",
       "      <td>38</td>\n",
       "      <td>1513</td>\n",
       "      <td>78.936614</td>\n",
       "      <td>59</td>\n",
       "      <td>5</td>\n",
       "    </tr>\n",
       "    <tr>\n",
       "      <th>13</th>\n",
       "      <td>14</td>\n",
       "      <td>DOE08</td>\n",
       "      <td>JOE08</td>\n",
       "      <td>Moscow</td>\n",
       "      <td>Russia</td>\n",
       "      <td>Male</td>\n",
       "      <td>Graduate</td>\n",
       "      <td>Politics</td>\n",
       "      <td>Russia</td>\n",
       "      <td>30</td>\n",
       "      <td>1512</td>\n",
       "      <td>70.279498</td>\n",
       "      <td>75</td>\n",
       "      <td>6</td>\n",
       "    </tr>\n",
       "    <tr>\n",
       "      <th>16</th>\n",
       "      <td>17</td>\n",
       "      <td>DOE09</td>\n",
       "      <td>JANE09</td>\n",
       "      <td>Amsterdam</td>\n",
       "      <td>Holland</td>\n",
       "      <td>Female</td>\n",
       "      <td>Undergraduate</td>\n",
       "      <td>Math</td>\n",
       "      <td>Holland</td>\n",
       "      <td>19</td>\n",
       "      <td>1494</td>\n",
       "      <td>75.000000</td>\n",
       "      <td>60</td>\n",
       "      <td>3</td>\n",
       "    </tr>\n",
       "    <tr>\n",
       "      <th>25</th>\n",
       "      <td>26</td>\n",
       "      <td>DOE12</td>\n",
       "      <td>JOE12</td>\n",
       "      <td>Embarrass</td>\n",
       "      <td>Minnesota</td>\n",
       "      <td>Male</td>\n",
       "      <td>Graduate</td>\n",
       "      <td>Econ</td>\n",
       "      <td>US</td>\n",
       "      <td>28</td>\n",
       "      <td>1434</td>\n",
       "      <td>95.835542</td>\n",
       "      <td>71</td>\n",
       "      <td>4</td>\n",
       "    </tr>\n",
       "    <tr>\n",
       "      <th>14</th>\n",
       "      <td>15</td>\n",
       "      <td>DOE07</td>\n",
       "      <td>JANE07</td>\n",
       "      <td>Drunkard Creek</td>\n",
       "      <td>New York</td>\n",
       "      <td>Female</td>\n",
       "      <td>Undergraduate</td>\n",
       "      <td>Math</td>\n",
       "      <td>US</td>\n",
       "      <td>21</td>\n",
       "      <td>1338</td>\n",
       "      <td>82.385960</td>\n",
       "      <td>64</td>\n",
       "      <td>5</td>\n",
       "    </tr>\n",
       "  </tbody>\n",
       "</table>\n",
       "</div>"
      ],
      "text/plain": [
       "    ID Last Name First Name            City           State  Gender  \\\n",
       "27  28     DOE15     JANE15            Loco        Oklahoma  Female   \n",
       "28  29     DOE14      JOE14    Buenos Aires       Argentina    Male   \n",
       "0    1     DOE01     JANE01     Los Angeles      California  Female   \n",
       "18  19     DOE11     JANE11         Caracas       Venezuela  Female   \n",
       "17  18     DOE10     JANE10          Mexico          Mexico  Female   \n",
       "2    3     DOE01      JOE01          Elmira        New York    Male   \n",
       "26  27     DOE13      JOE13     Intercourse    Pennsylvania    Male   \n",
       "9   10     DOE05     JANE05        New York        New York  Female   \n",
       "1    2     DOE02     JANE02          Sedona         Arizona  Female   \n",
       "19  20     DOE09      JOE09        San Juan     Puerto Rico    Male   \n",
       "24  25     DOE11      JOE11       Stockholm          Sweden    Male   \n",
       "29  30     DOE15      JOE15            Acme       Louisiana    Male   \n",
       "21  22     DOE10      JOE10        New York        New York    Male   \n",
       "7    8     DOE03     JANE03         Liberal          Kansas  Female   \n",
       "15  16     DOE08     JANE08     Mexican Hat            Utah  Female   \n",
       "8    9     DOE04     JANE04        Montreal          Canada  Female   \n",
       "10  11     DOE06      JOE06       Hot Coffe     Mississippi    Male   \n",
       "5    6     DOE04      JOE04        Tel Aviv          Israel    Male   \n",
       "22  23     DOE13     JANE13           The X  Massachusetts   Female   \n",
       "20  21     DOE12     JANE12          Remote          Oregon  Female   \n",
       "3    4     DOE02      JOE02       Lackawana        New York    Male   \n",
       "4    5     DOE03      JOE03        Defiance            Ohio    Male   \n",
       "23  24     DOE14     JANE14         Beijing           China  Female   \n",
       "12  13     DOE07      JOE07           Varna        Bulgaria    Male   \n",
       "6    7     DOE05      JOE05           Cimax  North Carolina    Male   \n",
       "11  12     DOE06     JANE06            Java        Virginia  Female   \n",
       "13  14     DOE08      JOE08          Moscow          Russia    Male   \n",
       "16  17     DOE09     JANE09       Amsterdam         Holland  Female   \n",
       "25  26     DOE12      JOE12       Embarrass       Minnesota    Male   \n",
       "14  15     DOE07     JANE07  Drunkard Creek        New York  Female   \n",
       "\n",
       "   Student Status     Major    Country  Age  Actual Marks   \\\n",
       "27  Undergraduate      Econ         US   20           2309   \n",
       "28       Graduate  Politics  Argentina   30           2279   \n",
       "0        Graduate  Politics         US   30           2263   \n",
       "18  Undergraduate      Math  Venezuela   18           2252   \n",
       "17       Graduate  Politics     Mexico   31           2248   \n",
       "2        Graduate      Math         US   26           2221   \n",
       "26  Undergraduate      Math         US   20           2119   \n",
       "9        Graduate      Math         US   33           2041   \n",
       "1   Undergraduate      Math         US   19           2006   \n",
       "19       Graduate  Politics         US   33           1923   \n",
       "24  Undergraduate  Politics     Sweden   19           1919   \n",
       "29  Undergraduate      Econ         US   19           1907   \n",
       "21  Undergraduate      Econ         US   21           1872   \n",
       "7   Undergraduate  Politics         US   21           1842   \n",
       "15  Undergraduate      Econ         US   18           1821   \n",
       "8   Undergraduate      Math     Canada   18           1813   \n",
       "10  Undergraduate      Econ         US   18           1787   \n",
       "5        Graduate      Econ     Israel   25           1786   \n",
       "22       Graduate  Politics         US   25           1767   \n",
       "20  Undergraduate      Econ         US   19           1727   \n",
       "3        Graduate      Econ         US   33           1716   \n",
       "4        Graduate      Econ         US   37           1701   \n",
       "23  Undergraduate      Math      China   18           1643   \n",
       "12       Graduate  Politics   Bulgaria   30           1637   \n",
       "6        Graduate  Politics         US   39           1577   \n",
       "11       Graduate      Math         US   38           1513   \n",
       "13       Graduate  Politics     Russia   30           1512   \n",
       "16  Undergraduate      Math    Holland   19           1494   \n",
       "25       Graduate      Econ         US   28           1434   \n",
       "14  Undergraduate      Math         US   21           1338   \n",
       "\n",
       "     scaled score (grade)  Height (in)  Newspaper readership (times/wk)  \n",
       "27              64.000000           68                                6  \n",
       "28              85.000000           72                                3  \n",
       "0               67.000000           61                                5  \n",
       "18              92.000000           68                                5  \n",
       "17              95.423560           59                                4  \n",
       "2               78.113285           73                                6  \n",
       "26              88.000000           71                                5  \n",
       "9               71.000000           66                                5  \n",
       "1               63.000000           64                                7  \n",
       "19              95.000000           63                                7  \n",
       "24              88.000000           64                                4  \n",
       "29              79.499360           74                                3  \n",
       "21              82.000000           73                                4  \n",
       "7               87.000000           62                                5  \n",
       "15              80.000000           63                                3  \n",
       "8               91.000000           62                                6  \n",
       "10              81.525285           67                                3  \n",
       "5               69.000000           67                                5  \n",
       "22              89.000000           68                                6  \n",
       "20              67.000000           62                                7  \n",
       "3               77.808587           68                                3  \n",
       "4               65.000000           71                                6  \n",
       "23              79.000000           65                                6  \n",
       "12              79.337239           63                                4  \n",
       "6               95.882515           70                                5  \n",
       "11              78.936614           59                                5  \n",
       "13              70.279498           75                                6  \n",
       "16              75.000000           60                                3  \n",
       "25              95.835542           71                                4  \n",
       "14              82.385960           64                                5  "
      ]
     },
     "execution_count": 55,
     "metadata": {},
     "output_type": "execute_result"
    }
   ],
   "source": [
    "df.sort_values(by='Actual Marks ',ascending=False)"
   ]
  },
  {
   "cell_type": "code",
   "execution_count": null,
   "id": "d5398479",
   "metadata": {},
   "outputs": [],
   "source": [
    "# 6. Is the average age of students studying politics is more than students studying mathematics?   True\n",
    "# 5.Is the Average NewsPaper Readership is more for females as compared to males in US?  True\n",
    "# 4. What is the Range of Age for all the applicants?  21\n",
    "# 3. What is the median Height for female applicants?  63\n",
    "# 2. What is the average score (grade)? It is the same for graduates and undergraduates? 80,no\n",
    "# 1. What is the mean age of the applicants? 25.2"
   ]
  }
 ],
 "metadata": {
  "kernelspec": {
   "display_name": "Python 3 (ipykernel)",
   "language": "python",
   "name": "python3"
  },
  "language_info": {
   "codemirror_mode": {
    "name": "ipython",
    "version": 3
   },
   "file_extension": ".py",
   "mimetype": "text/x-python",
   "name": "python",
   "nbconvert_exporter": "python",
   "pygments_lexer": "ipython3",
   "version": "3.11.3"
  }
 },
 "nbformat": 4,
 "nbformat_minor": 5
}
