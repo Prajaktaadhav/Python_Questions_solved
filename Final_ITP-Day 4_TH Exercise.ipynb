{
 "cells": [
  {
   "cell_type": "markdown",
   "metadata": {
    "id": "z0L-rvA3RYvF"
   },
   "source": [
    "<table align=\"center\" width=100%>\n",
    "    <tr>\n",
    "        <td width=\"20%\">\n",
    "            <img src=\"homework.png\">\n",
    "        </td>\n",
    "        <td>\n",
    "            <div align=\"center\">\n",
    "                <font color=\"#21618C\" size=8px>\n",
    "                    <b> TakeHome<br>(Day 4)\n",
    "                    </b>\n",
    "                </font>\n",
    "            </div>\n",
    "        </td>\n",
    "        <td width=\"25%\">\n",
    "            <img src=\"NEW_GL_Logo.png\">\n",
    "        </td>\n",
    "    </tr>\n",
    "</table>"
   ]
  },
  {
   "cell_type": "markdown",
   "metadata": {
    "id": "ZVddTaUDRYvI"
   },
   "source": [
    "**Let's begin with some hands-on practice exercises**"
   ]
  },
  {
   "cell_type": "markdown",
   "metadata": {
    "id": "ZUcpaog7RYvP"
   },
   "source": [
    "<table align=\"left\">\n",
    "    <tr>\n",
    "        <td width=\"6%\">\n",
    "            <img src=\"question_icon.png\">\n",
    "        </td>\n",
    "        <td>\n",
    "            <div align=\"left\", style=\"font-size:120%\">\n",
    "                <font color=\"#21618C\">\n",
    "                    <b>1. Use list comprehension to find words whose length is less than 5 from the given multi-dimensional list</b>\n",
    "                    <br>\n",
    "                </font>\n",
    "            </div>\n",
    "        </td>\n",
    "    </tr>\n",
    "</table>"
   ]
  },
  {
   "cell_type": "markdown",
   "metadata": {
    "id": "uQnT-a4IRYvP"
   },
   "source": [
    "**astro = [['sky', 'sun', 'moon'], ['star', 'Jupiter', 'mars'], ['Jupiter', 'Neptune', 'Pluto']] **\n"
   ]
  },
  {
   "cell_type": "code",
   "execution_count": 3,
   "metadata": {
    "id": "DWva_RmCRYvP"
   },
   "outputs": [],
   "source": [
    "astro = [['sky', 'sun', 'moon'], ['star', 'Jupiter', 'mars'], ['Jupiter', 'Neptune', 'Pluto']] \n",
    "words=[j for i in astro for j in i if len(j)<5]\n",
    "words"
   ]
  },
  {
   "cell_type": "markdown",
   "metadata": {
    "id": "_qSBVbOhRYvR"
   },
   "source": [
    "<table align=\"left\">\n",
    "    <tr>\n",
    "        <td width=\"6%\">\n",
    "            <img src=\"question_icon.png\">\n",
    "        </td>\n",
    "        <td>\n",
    "            <div align=\"left\", style=\"font-size:120%\">\n",
    "                <font color=\"#21618C\">\n",
    "                    <b>2. Write a program to transpose a matrix using list comprehension</b>\n",
    "                 </font>\n",
    "            </div>\n",
    "        </td>\n",
    "    </tr>\n",
    "</table>"
   ]
  },
  {
   "cell_type": "markdown",
   "metadata": {
    "id": "7GyApN2RRYvR"
   },
   "source": [
    "**matrix=[[1,2],[3,4],[5,6],[7,8]]**<br>\n",
    "**Output: [[1, 3, 5, 7], [2, 4, 6, 8]]**"
   ]
  },
  {
   "cell_type": "code",
   "execution_count": 23,
   "metadata": {
    "id": "n55IgP80RYvR"
   },
   "outputs": [
    {
     "data": {
      "text/plain": [
       "[[1, 3, 5, 7], [2, 4, 6, 8]]"
      ]
     },
     "execution_count": 23,
     "metadata": {},
     "output_type": "execute_result"
    }
   ],
   "source": [
    "matrix=[[1,2],[3,4],[5,6],[7,8]]\n",
    "output=[[i[j] for i in matrix] for j in range (2)]\n",
    "output"
   ]
  },
  {
   "cell_type": "markdown",
   "metadata": {
    "id": "JHxsAqGKRYvS"
   },
   "source": [
    "<table align=\"left\">\n",
    "    <tr>\n",
    "        <td width=\"6%\">\n",
    "            <img src=\"question_icon.png\">\n",
    "        </td>\n",
    "        <td>\n",
    "            <div align=\"left\", style=\"font-size:120%\">\n",
    "                <font color=\"#21618C\">\n",
    "                    <b>3. Write a program to create a 5x3 matrix with values in each row as 1,2, and 3 (use list comprehension)</b>\n",
    "                    <br>\n",
    "                 </font>\n",
    "            </div>\n",
    "        </td>\n",
    "    </tr>\n",
    "</table>"
   ]
  },
  {
   "cell_type": "code",
   "execution_count": 34,
   "metadata": {
    "id": "UzImYSdMRYvS"
   },
   "outputs": [
    {
     "name": "stdout",
     "output_type": "stream",
     "text": [
      "[1, 2, 3]\n",
      "[1, 2, 3]\n",
      "[1, 2, 3]\n",
      "[1, 2, 3]\n",
      "[1, 2, 3]\n"
     ]
    }
   ],
   "source": [
    "matrix=[[1,2,3] for i in range (5)]\n",
    "for i in matrix:\n",
    "    print(i)"
   ]
  },
  {
   "cell_type": "code",
   "execution_count": 3,
   "metadata": {},
   "outputs": [
    {
     "data": {
      "text/plain": [
       "[[1, 2, 3], [1, 2, 3], [1, 2, 3], [1, 2, 3], [1, 2, 3]]"
      ]
     },
     "execution_count": 3,
     "metadata": {},
     "output_type": "execute_result"
    }
   ],
   "source": [
    "m=[[i for i in range (1,4)]for j in range (5)]\n",
    "m"
   ]
  },
  {
   "cell_type": "markdown",
   "metadata": {
    "id": "YvOtOAIx2AIK"
   },
   "source": [
    "<table align=\"left\">\n",
    "    <tr>\n",
    "        <td width=\"6%\">\n",
    "            <img src=\"question_icon.png\">\n",
    "        </td>\n",
    "        <td>\n",
    "            <div align=\"left\", style=\"font-size:120%\">\n",
    "                <font color=\"#21618C\">\n",
    "                    <b>4. Use list comprehension to create a dictionary such that its keys are numbers from 1 to 10 and values are the corresponding to that key are its cube.</b>\n",
    "                </font>\n",
    "            </div>\n",
    "        </td>\n",
    "    </tr>\n",
    "</table>"
   ]
  },
  {
   "cell_type": "code",
   "execution_count": 39,
   "metadata": {
    "id": "RBmuusYH2AIK"
   },
   "outputs": [
    {
     "data": {
      "text/plain": [
       "{1: 1, 2: 8, 3: 27, 4: 64, 5: 125, 6: 216, 7: 343, 8: 512, 9: 729, 10: 1000}"
      ]
     },
     "execution_count": 39,
     "metadata": {},
     "output_type": "execute_result"
    }
   ],
   "source": [
    "dictionary={k:k**3 for k in range(1,11)}\n",
    "dictionary"
   ]
  },
  {
   "cell_type": "markdown",
   "metadata": {
    "id": "n9o9Tvao2AIK"
   },
   "source": [
    "<tr>\n",
    "        <td width=\"6%\">\n",
    "            <img src=\"question_icon.png\">\n",
    "        </td>\n",
    "        <td>\n",
    "            <div align=\"left\", style=\"font-size:120%\">\n",
    "                <font color=\"#21618C\">\n",
    "                    <b>5. Use list comprehension to obtain the squre root of first 10 natural numbers.</b>\n",
    "                </font>\n",
    "            </div>\n",
    "        </td>\n",
    "    </tr>\n",
    "</table>"
   ]
  },
  {
   "cell_type": "code",
   "execution_count": 43,
   "metadata": {
    "id": "9WPiCErB2AIK"
   },
   "outputs": [
    {
     "data": {
      "text/plain": [
       "[1.0,\n",
       " 1.4142135623730951,\n",
       " 1.7320508075688772,\n",
       " 2.0,\n",
       " 2.23606797749979,\n",
       " 2.449489742783178,\n",
       " 2.6457513110645907,\n",
       " 2.8284271247461903,\n",
       " 3.0,\n",
       " 3.1622776601683795]"
      ]
     },
     "execution_count": 43,
     "metadata": {},
     "output_type": "execute_result"
    }
   ],
   "source": [
    "import math\n",
    "sq_list=[math.sqrt(i) for i in range (1,11)]\n",
    "sq_list"
   ]
  },
  {
   "cell_type": "code",
   "execution_count": 2,
   "metadata": {
    "scrolled": true
   },
   "outputs": [
    {
     "data": {
      "text/plain": [
       "1.4142135623730951"
      ]
     },
     "execution_count": 2,
     "metadata": {},
     "output_type": "execute_result"
    }
   ],
   "source": [
    "2**0.5"
   ]
  },
  {
   "cell_type": "markdown",
   "metadata": {
    "id": "FQX-BX1G2AIK"
   },
   "source": [
    "<table align=\"left\">\n",
    "    <tr>\n",
    "        <td width=\"6%\">\n",
    "            <img src=\"question_icon.png\">\n",
    "        </td>\n",
    "        <td>\n",
    "            <div align=\"left\", style=\"font-size:120%\">\n",
    "                <font color=\"#21618C\">\n",
    "                    <b>6. Use list comprehension to find the used vowels in a given sentence and/or word (take the input from user). </b>\n",
    "                </font>\n",
    "            </div>\n",
    "        </td>\n",
    "    </tr>\n",
    "</table>"
   ]
  },
  {
   "cell_type": "code",
   "execution_count": 3,
   "metadata": {
    "id": "PMHOngVp2AIL",
    "scrolled": true
   },
   "outputs": [
    {
     "name": "stdout",
     "output_type": "stream",
     "text": [
      "Enter the word/Sentence: hi how are you\n"
     ]
    },
    {
     "data": {
      "text/plain": [
       "['i', 'o', 'a', 'e', 'o', 'u']"
      ]
     },
     "execution_count": 3,
     "metadata": {},
     "output_type": "execute_result"
    }
   ],
   "source": [
    "word= input(\"Enter the word/Sentence: \")\n",
    "vowels_used=[i for i in word if i in 'aeiouAEIOU']\n",
    "vowels_used"
   ]
  },
  {
   "cell_type": "markdown",
   "metadata": {
    "id": "3ftShplD2AIL"
   },
   "source": [
    "<table align=\"left\">\n",
    "    <tr>\n",
    "        <td width=\"6%\">\n",
    "            <img src=\"question_icon.png\">\n",
    "        </td>\n",
    "        <td>\n",
    "            <div align=\"left\", style=\"font-size:120%\">\n",
    "                <font color=\"#21618C\">\n",
    "                    <b>7. Use list comprehension to extract numbers from a string </b>\n",
    "                </font>\n",
    "            </div>\n",
    "        </td>\n",
    "    </tr>\n",
    "</table>"
   ]
  },
  {
   "cell_type": "code",
   "execution_count": 66,
   "metadata": {
    "id": "rxrKXd6A2AIL"
   },
   "outputs": [
    {
     "name": "stdout",
     "output_type": "stream",
     "text": [
      "Enter message here: I have Rs. 200 to buy 5 vegetables and 2 fruits.\n",
      "['200', '5', '2']\n"
     ]
    }
   ],
   "source": [
    "string= input(\"Enter message here: \")\n",
    "string.split()\n",
    "numbers=[i for i in  string.split() if i.isdigit()]\n",
    "print(numbers)"
   ]
  }
 ],
 "metadata": {
  "colab": {
   "provenance": []
  },
  "kernelspec": {
   "display_name": "Python 3 (ipykernel)",
   "language": "python",
   "name": "python3"
  },
  "language_info": {
   "codemirror_mode": {
    "name": "ipython",
    "version": 3
   },
   "file_extension": ".py",
   "mimetype": "text/x-python",
   "name": "python",
   "nbconvert_exporter": "python",
   "pygments_lexer": "ipython3",
   "version": "3.11.3"
  }
 },
 "nbformat": 4,
 "nbformat_minor": 1
}
