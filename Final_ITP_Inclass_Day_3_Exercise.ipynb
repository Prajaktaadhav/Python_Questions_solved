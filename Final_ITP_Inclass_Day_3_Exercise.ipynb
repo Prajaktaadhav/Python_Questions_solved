{
 "cells": [
  {
   "cell_type": "markdown",
   "metadata": {
    "id": "eXWCZeS1QB7O"
   },
   "source": [
    "<table align=\"center\" width=100%>\n",
    "    <tr>\n",
    "        <td width=\"20%\">\n",
    "            <img src=\"in_class.png\">\n",
    "        </td>\n",
    "        <td>\n",
    "            <div align=\"center\">\n",
    "                <font color=\"#21618C\" size=8px>\n",
    "                    <b> Inclass-Lab<br>(Day 3)\n",
    "                    </b>\n",
    "                </font>\n",
    "            </div>\n",
    "        </td>\n",
    "        <td width=\"25%\">\n",
    "            <img src=\"NEW_GL_Logo.png\">\n",
    "        </td>\n",
    "    </tr>\n",
    "</table>"
   ]
  },
  {
   "cell_type": "markdown",
   "metadata": {
    "id": "5bmg2LEpQB7R"
   },
   "source": [
    "## Table of Content\n",
    "\n",
    "1. **[Set](#set)**\n",
    "2. **[Conditional Statements](#cond)**\n",
    "3. **[Python Flow Control](#flow_control)**\n",
    "\n",
    "\n"
   ]
  },
  {
   "cell_type": "markdown",
   "metadata": {
    "id": "Rv5-hzWOQB7R"
   },
   "source": [
    "### Let's begin with some hands-on practice exercises"
   ]
  },
  {
   "cell_type": "markdown",
   "metadata": {},
   "source": [
    "<a id=\"set\"> </a>\n",
    "## 1. Set"
   ]
  },
  {
   "cell_type": "markdown",
   "metadata": {},
   "source": [
    "<table align=\"left\">\n",
    "    <tr>\n",
    "        <td width=\"6%\">\n",
    "            <img src=\"question_icon.png\">\n",
    "        </td>\n",
    "        <td>\n",
    "            <div align=\"left\", style=\"font-size:120%\">\n",
    "                <font color=\"#21618C\">\n",
    "                    <b>1. Write the program to perform following manipulations:<br><br>\n",
    "                        a. Add '7' to the given set<br>\n",
    "                        b. Remove '3' from a given set<br>\n",
    "                        c. Clear the set\n",
    "                    </b>\n",
    "                </font>\n",
    "            </div>\n",
    "        </td>\n",
    "    </tr>\n",
    "</table>"
   ]
  },
  {
   "cell_type": "markdown",
   "metadata": {},
   "source": [
    "**Use the below set for manipulation**\n",
    "\n",
    "num_set = {1, 2, 3, 4, 5, 6}"
   ]
  },
  {
   "cell_type": "code",
   "execution_count": 2,
   "metadata": {},
   "outputs": [
    {
     "data": {
      "text/plain": [
       "{1, 2, 3, 4, 5, 6, 7}"
      ]
     },
     "execution_count": 2,
     "metadata": {},
     "output_type": "execute_result"
    }
   ],
   "source": [
    "s1= {1, 2, 3, 4, 5, 6}\n",
    "s1.add(7)\n",
    "s1"
   ]
  },
  {
   "cell_type": "code",
   "execution_count": 3,
   "metadata": {},
   "outputs": [
    {
     "data": {
      "text/plain": [
       "{1, 2, 4, 5, 6, 7}"
      ]
     },
     "execution_count": 3,
     "metadata": {},
     "output_type": "execute_result"
    }
   ],
   "source": [
    "s1.remove(3)\n",
    "s1"
   ]
  },
  {
   "cell_type": "code",
   "execution_count": 4,
   "metadata": {},
   "outputs": [
    {
     "data": {
      "text/plain": [
       "set()"
      ]
     },
     "execution_count": 4,
     "metadata": {},
     "output_type": "execute_result"
    }
   ],
   "source": [
    "s1.clear()\n",
    "s1"
   ]
  },
  {
   "cell_type": "markdown",
   "metadata": {},
   "source": [
    "<table align=\"left\">\n",
    "    <tr>\n",
    "        <td width=\"6%\">\n",
    "            <img src=\"question_icon.png\">\n",
    "        </td>\n",
    "        <td>\n",
    "            <div align=\"left\", style=\"font-size:120%\">\n",
    "                <font color=\"#21618C\">\n",
    "                    <b>2. Create two sets of words from the given sentences and perform the following operations:<br><br>\n",
    "                        a. Find the count of unique words in each of the sentence<br> \n",
    "                        b. Find the common words in both the sentences<br>\n",
    "                        c. Find the unique words in both the sentences\n",
    "                       </b>\n",
    "                </font>\n",
    "            </div>\n",
    "        </td>\n",
    "    </tr>\n",
    "</table>"
   ]
  },
  {
   "cell_type": "markdown",
   "metadata": {},
   "source": [
    "**Use the sentences given below:**\n",
    "    \n",
    "sentence_1 = 'We shall analyse the data using python' \n",
    "\n",
    "sentence_2 = 'Python for data science'"
   ]
  },
  {
   "cell_type": "code",
   "execution_count": 3,
   "metadata": {},
   "outputs": [
    {
     "name": "stdout",
     "output_type": "stream",
     "text": [
      "a. Lenghth of character in sentence_1 is:  7\n",
      "Lenghth of character in sentence_2 is:  4\n"
     ]
    }
   ],
   "source": [
    "sentence_1 = 'We shall analyse the data using python'\n",
    "\n",
    "sentence_2 = 'Python for data science'\n",
    "sen=(sentence_1.split())\n",
    "sen2=(sentence_2.split())\n",
    "print(\"a. Lenghth of character in sentence_1 is: \", len(sen))\n",
    "print(\"Lenghth of character in sentence_2 is: \", len(sen2))"
   ]
  },
  {
   "cell_type": "code",
   "execution_count": 19,
   "metadata": {},
   "outputs": [
    {
     "name": "stdout",
     "output_type": "stream",
     "text": [
      "['We', 'shall', 'analyse', 'the', 'data', 'using', 'python']\n",
      "['Python', 'for', 'data', 'science']\n"
     ]
    },
    {
     "data": {
      "text/plain": [
       "{'data'}"
      ]
     },
     "execution_count": 19,
     "metadata": {},
     "output_type": "execute_result"
    }
   ],
   "source": [
    "sentence_1 = 'We shall analyse the data using python'\n",
    "sentence_2 = 'Python for data science'\n",
    "sen= (sentence_1.split())\n",
    "print(sen)\n",
    "\n",
    "sen2=(sentence_2.split())\n",
    "print(sen2)\n",
    "\n",
    "set(sen)&set(sen2)"
   ]
  },
  {
   "cell_type": "code",
   "execution_count": 9,
   "metadata": {},
   "outputs": [
    {
     "data": {
      "text/plain": [
       "{'We', 'analyse', 'python', 'shall', 'the', 'using'}"
      ]
     },
     "execution_count": 9,
     "metadata": {},
     "output_type": "execute_result"
    }
   ],
   "source": [
    "sen-sen2"
   ]
  },
  {
   "cell_type": "code",
   "execution_count": 10,
   "metadata": {},
   "outputs": [
    {
     "data": {
      "text/plain": [
       "{'Python', 'for', 'science'}"
      ]
     },
     "execution_count": 10,
     "metadata": {},
     "output_type": "execute_result"
    }
   ],
   "source": [
    "sen2-sen"
   ]
  },
  {
   "cell_type": "markdown",
   "metadata": {},
   "source": [
    "<table align=\"left\">\n",
    "    <tr>\n",
    "        <td width=\"6%\">\n",
    "            <img src=\"question_icon.png\">\n",
    "        </td>\n",
    "        <td>\n",
    "            <div align=\"left\", style=\"font-size:120%\">\n",
    "                <font color=\"#21618C\">\n",
    "                    <b>3. Write a program to perform following set operations:<br><br>\n",
    "                        a. Union<br> \n",
    "                        b. Intersection<br>\n",
    "                        c. Set of all the elements of set A that are not in set B<br>\n",
    "                        d. Set of all the elements of set B that are not in set A<br>\n",
    "                        e. Symmetric difference\n",
    "                    </b>\n",
    "                </font>\n",
    "            </div>\n",
    "        </td>\n",
    "    </tr>\n",
    "</table>"
   ]
  },
  {
   "cell_type": "markdown",
   "metadata": {},
   "source": [
    "**Use the below set:**\n",
    "\n",
    "A = {1, 4, 5, 2, 6, 3, 40, 7, 87, 4, 71}\n",
    "\n",
    "B = {3, 42, 51, 6, 7, 8, 54, 5}"
   ]
  },
  {
   "cell_type": "code",
   "execution_count": 8,
   "metadata": {},
   "outputs": [
    {
     "data": {
      "text/plain": [
       "{1, 2, 3, 4, 5, 6, 7, 8, 40, 42, 51, 54, 71, 87}"
      ]
     },
     "execution_count": 8,
     "metadata": {},
     "output_type": "execute_result"
    }
   ],
   "source": [
    "A=set()\n",
    "A={1, 4, 5, 2, 6, 3, 40, 7, 87, 4, 71}\n",
    "B=set()\n",
    "B = {3, 42, 51, 6, 7, 8, 54, 5}\n",
    "A|B"
   ]
  },
  {
   "cell_type": "code",
   "execution_count": 9,
   "metadata": {},
   "outputs": [
    {
     "data": {
      "text/plain": [
       "{3, 5, 6, 7}"
      ]
     },
     "execution_count": 9,
     "metadata": {},
     "output_type": "execute_result"
    }
   ],
   "source": [
    "A&B"
   ]
  },
  {
   "cell_type": "code",
   "execution_count": 10,
   "metadata": {},
   "outputs": [
    {
     "data": {
      "text/plain": [
       "{1, 2, 4, 40, 71, 87}"
      ]
     },
     "execution_count": 10,
     "metadata": {},
     "output_type": "execute_result"
    }
   ],
   "source": [
    "A.difference(B)"
   ]
  },
  {
   "cell_type": "code",
   "execution_count": 11,
   "metadata": {},
   "outputs": [
    {
     "data": {
      "text/plain": [
       "{8, 42, 51, 54}"
      ]
     },
     "execution_count": 11,
     "metadata": {},
     "output_type": "execute_result"
    }
   ],
   "source": [
    "B-A"
   ]
  },
  {
   "cell_type": "code",
   "execution_count": 12,
   "metadata": {},
   "outputs": [
    {
     "data": {
      "text/plain": [
       "{1, 2, 4, 8, 40, 42, 51, 54, 71, 87}"
      ]
     },
     "execution_count": 12,
     "metadata": {},
     "output_type": "execute_result"
    }
   ],
   "source": [
    "A.symmetric_difference(B)"
   ]
  },
  {
   "cell_type": "markdown",
   "metadata": {
    "id": "5dkQCFEqQB7R"
   },
   "source": [
    "<a id=\"cond\"> </a>\n",
    "## 2. Conditional Statements"
   ]
  },
  {
   "cell_type": "markdown",
   "metadata": {
    "id": "TuC6JzLsQB7S"
   },
   "source": [
    "<table align=\"left\">\n",
    "    <tr>\n",
    "        <td width=\"6%\">\n",
    "            <img src=\"question_icon.png\">\n",
    "        </td>\n",
    "        <td>\n",
    "            <div align=\"left\", style=\"font-size:120%\">\n",
    "                <font color=\"#21618C\">\n",
    "                    <b>4. Write a program to check whether a given number is multiple of 7 (use if statement)</b>\n",
    "                </font>\n",
    "            </div>\n",
    "        </td>\n",
    "    </tr>\n",
    "</table>"
   ]
  },
  {
   "cell_type": "code",
   "execution_count": 12,
   "metadata": {},
   "outputs": [
    {
     "name": "stdout",
     "output_type": "stream",
     "text": [
      "Enter the number: 34\n",
      "Number is not multiple of 7.\n"
     ]
    }
   ],
   "source": [
    "num=int(input(\"Enter the number: \"))\n",
    "if num%7==0:\n",
    "    print(\"Number is multiple of 7.\")\n",
    "else:\n",
    "    print(\"Number is not multiple of 7.\")"
   ]
  },
  {
   "cell_type": "markdown",
   "metadata": {
    "id": "XCQtcopIQB7T"
   },
   "source": [
    "<table align=\"left\">\n",
    "    <tr>\n",
    "        <td width=\"6%\">\n",
    "            <img src=\"question_icon.png\">\n",
    "        </td>\n",
    "        <td>\n",
    "            <div align=\"left\", style=\"font-size:120%\">\n",
    "                <font color=\"#21618C\">\n",
    "                    <b>5. Write a code to print the maximum of two numbers (use if-else)</b>\n",
    "                </font>\n",
    "            </div>\n",
    "        </td>\n",
    "    </tr>\n",
    "</table>"
   ]
  },
  {
   "cell_type": "code",
   "execution_count": 14,
   "metadata": {},
   "outputs": [
    {
     "name": "stdout",
     "output_type": "stream",
     "text": [
      "Enter 1st digit: 12\n",
      "Enter 2nd digit: 14\n",
      "num2 is maximum\n"
     ]
    }
   ],
   "source": [
    "num1 =int(input(\"Enter 1st digit: \"))\n",
    "num2 =int(input(\"Enter 2nd digit: \"))\n",
    "if num1==num2:\n",
    "    print(\"Both digits are same\")\n",
    "    print(\"Try again\")\n",
    "elif num1>num2:\n",
    "    print(\"num1 is maximum\")\n",
    "else:\n",
    "    print(\"num2 is maximum\")"
   ]
  },
  {
   "cell_type": "markdown",
   "metadata": {
    "id": "HtMw173QQB7T"
   },
   "source": [
    "<table align=\"left\">\n",
    "    <tr>\n",
    "        <td width=\"6%\">\n",
    "            <img src=\"question_icon.png\">\n",
    "        </td>\n",
    "        <td>\n",
    "            <div align=\"left\", style=\"font-size:120%\">\n",
    "                <font color=\"#21618C\">\n",
    "                    <b>6. Write a program to check whether a number is positive, negative or zero (use if-elif) </b>\n",
    "                </font>\n",
    "            </div>\n",
    "        </td>\n",
    "    </tr>\n",
    "</table>"
   ]
  },
  {
   "cell_type": "code",
   "execution_count": 22,
   "metadata": {},
   "outputs": [
    {
     "name": "stdout",
     "output_type": "stream",
     "text": [
      "Enter the number here: 4.586\n",
      "Number is positive\n"
     ]
    }
   ],
   "source": [
    "number= float(input(\"Enter the number here: \"))\n",
    "if number>0:\n",
    "    print (\"Number is positive\")\n",
    "elif number<0:\n",
    "    print(\"Number is negative\")\n",
    "else:\n",
    "    print(\"Number is zero.\")"
   ]
  },
  {
   "cell_type": "markdown",
   "metadata": {
    "id": "vys6i9wOQB7U"
   },
   "source": [
    "<a id= \"flow_control\"> </a>\n",
    "## 2. Python Flow Control"
   ]
  },
  {
   "cell_type": "markdown",
   "metadata": {
    "id": "pUR_a5a1QB7U"
   },
   "source": [
    "<table align=\"left\">\n",
    "    <tr>\n",
    "        <td width=\"6%\">\n",
    "            <img src=\"question_icon.png\">\n",
    "        </td>\n",
    "        <td>\n",
    "            <div align=\"left\", style=\"font-size:120%\">\n",
    "                <font color=\"#21618C\">\n",
    "                    <b>7. Write a program for generating a fibonacci series starting with 0 and 1 for the next 10 values using a while loop. </b>\n",
    "                </font>\n",
    "            </div>\n",
    "        </td>\n",
    "    </tr>\n",
    "</table>"
   ]
  },
  {
   "cell_type": "code",
   "execution_count": 5,
   "metadata": {},
   "outputs": [
    {
     "name": "stdout",
     "output_type": "stream",
     "text": [
      "0 1 enter size:7\n",
      "1 2 3 5 8 13 21 "
     ]
    }
   ],
   "source": [
    "a=0\n",
    "b=1\n",
    "print(a, b,end=' ')\n",
    "n=int(input('enter size:'))\n",
    "count= 0\n",
    "t=0\n",
    "while count<n:\n",
    "    t=a+b\n",
    "    a=b\n",
    "    b=t\n",
    "    count+=1\n",
    "    print(t, end=' ')"
   ]
  },
  {
   "cell_type": "code",
   "execution_count": 2,
   "metadata": {},
   "outputs": [
    {
     "name": "stdout",
     "output_type": "stream",
     "text": [
      "0 1 1 2 3 5 8 13 21 34 55 89 "
     ]
    }
   ],
   "source": [
    "a = 0\n",
    "b = 1\n",
    "print(a, b, end =' ')\n",
    "count=1\n",
    "while count<=10:\n",
    "    t = a+b\n",
    "    a=b\n",
    "    b=t\n",
    "    print(t, end = ' ')\n",
    "    count+=1"
   ]
  },
  {
   "cell_type": "code",
   "execution_count": 12,
   "metadata": {},
   "outputs": [
    {
     "name": "stdout",
     "output_type": "stream",
     "text": [
      "0 1 1 2 3 5 8 13 21 34 "
     ]
    }
   ],
   "source": [
    "no_1=0\n",
    "no_2=1\n",
    "print (\"0 1\", end = ' ')\n",
    "for i in range (8):\n",
    "    total=no_1+no_2\n",
    "    no_1=no_2\n",
    "    no_2=total\n",
    "    print(total, end = \" \")\n",
    "    "
   ]
  },
  {
   "cell_type": "markdown",
   "metadata": {
    "id": "2sFW5SK2QB7V"
   },
   "source": [
    "<table align=\"left\">\n",
    "    <tr>\n",
    "        <td width=\"6%\">\n",
    "            <img src=\"question_icon.png\">\n",
    "        </td>\n",
    "        <td>\n",
    "            <div align=\"left\", style=\"font-size:120%\">\n",
    "                <font color=\"#21618C\">\n",
    "                    <b>8. Write a code to find factorial of a number (take the input from user). </b>\n",
    "                </font>\n",
    "            </div>\n",
    "        </td>\n",
    "    </tr>\n",
    "</table>"
   ]
  },
  {
   "cell_type": "code",
   "execution_count": 9,
   "metadata": {},
   "outputs": [
    {
     "name": "stdout",
     "output_type": "stream",
     "text": [
      "0\n",
      "1\n"
     ]
    }
   ],
   "source": [
    "n = int(input())\n",
    "fact=1\n",
    "if n==0 or n==1:\n",
    "    fact = fact\n",
    "else:\n",
    "    for i in range(2,n+1):\n",
    "        fact*=i\n",
    "        \n",
    "print(fact)"
   ]
  },
  {
   "cell_type": "code",
   "execution_count": 10,
   "metadata": {},
   "outputs": [],
   "source": [
    "def fact(n):\n",
    "    if n==0 or n==1:\n",
    "        return 1\n",
    "    else:\n",
    "        return n*fact(n-1)"
   ]
  },
  {
   "cell_type": "code",
   "execution_count": 12,
   "metadata": {},
   "outputs": [
    {
     "data": {
      "text/plain": [
       "3628800"
      ]
     },
     "execution_count": 12,
     "metadata": {},
     "output_type": "execute_result"
    }
   ],
   "source": [
    "fact(10)"
   ]
  },
  {
   "cell_type": "code",
   "execution_count": 2,
   "metadata": {},
   "outputs": [
    {
     "name": "stdout",
     "output_type": "stream",
     "text": [
      "Enter the number for factorial: 6\n",
      "Factorial for number 6 is 720\n"
     ]
    }
   ],
   "source": [
    "Factorial=int(input(\"Enter the number for factorial: \"))\n",
    "total = 1\n",
    "for i in range (1,Factorial+1):\n",
    "    total*=i\n",
    "print(\"Factorial for number {} is {}\".format(Factorial,total))"
   ]
  },
  {
   "cell_type": "markdown",
   "metadata": {
    "id": "wzqJtHqPQB7W"
   },
   "source": [
    "<table align=\"left\">\n",
    "    <tr>\n",
    "        <td width=\"6%\">\n",
    "            <img src=\"question_icon.png\">\n",
    "        </td>\n",
    "        <td>\n",
    "            <div align=\"left\", style=\"font-size:120%\">\n",
    "                <font color=\"#21618C\">\n",
    "                    <b>9. Write a program to check whether two numbers are amicable or not (take the input from user).</b>\n",
    "                </font>\n",
    "            </div>\n",
    "        </td>\n",
    "    </tr>\n",
    "</table>"
   ]
  },
  {
   "cell_type": "code",
   "execution_count": 4,
   "metadata": {
    "scrolled": true
   },
   "outputs": [
    {
     "name": "stdout",
     "output_type": "stream",
     "text": [
      "Enter number 1: 220\n",
      "Enter number 2: 284\n",
      "Numbers are amicable\n"
     ]
    }
   ],
   "source": [
    "num1 = int(input('Enter number 1: '))\n",
    "num2 = int(input('Enter number 2: '))\n",
    "list1 = []\n",
    "list2 = []\n",
    "\n",
    "for i in range(1, num1):\n",
    "    if num1 % i == 0:\n",
    "        list1.append(i)\n",
    "\n",
    "for i in range(1, num2):\n",
    "    if num2 % i == 0:\n",
    "        list2.append(i)\n",
    "\n",
    "if sum(list1) == num2 and sum(list2) == num1:\n",
    "    print(\"Numbers are amicable\")\n",
    "else:\n",
    "    print(\"Numbers are not amicable\")\n",
    "\n",
    "    "
   ]
  },
  {
   "cell_type": "code",
   "execution_count": 15,
   "metadata": {
    "scrolled": true
   },
   "outputs": [
    {
     "name": "stdout",
     "output_type": "stream",
     "text": [
      "Enter number 1: 220\n",
      "Enter number 2: 284\n",
      "[1, 2, 4, 5, 10, 11, 20, 22, 44, 55, 110]\n",
      "[1, 2, 4, 71, 142]\n",
      "sum1:  284\n",
      "sum2:  220\n",
      "Numbers are amicable\n"
     ]
    }
   ],
   "source": [
    "num1=int(input('Enter number 1: '))\n",
    "num2=int(input('Enter number 2: '))\n",
    "list1=[]\n",
    "list2=[]\n",
    "for i in range (1,num1):\n",
    "    if num1%i==0:\n",
    "        list1.append(i)  \n",
    "print(list1)\n",
    "\n",
    "for i in range (1,num2):\n",
    "    if num2%i==0:\n",
    "        list2.append(i)  \n",
    "print(list2)\n",
    "print(\"sum1: \", sum(list1))\n",
    "print(\"sum2: \", sum(list2))\n",
    "if sum(list1)==num2 and sum(list2)==num1:\n",
    "    print(\"Numbers are amicable\")\n",
    "else:\n",
    "    print(\"Numbers are not amicable\")"
   ]
  },
  {
   "cell_type": "code",
   "execution_count": 62,
   "metadata": {},
   "outputs": [
    {
     "data": {
      "text/plain": [
       "4"
      ]
     },
     "execution_count": 62,
     "metadata": {},
     "output_type": "execute_result"
    }
   ],
   "source": [
    "sum(list1)"
   ]
  },
  {
   "cell_type": "code",
   "execution_count": 16,
   "metadata": {},
   "outputs": [],
   "source": [
    "def sum_divisor(n):\n",
    "    sum_div = 1\n",
    "    for i in range (2,n):\n",
    "        if n%i==0:\n",
    "            sum_div+=i\n",
    "    return sum_div"
   ]
  },
  {
   "cell_type": "code",
   "execution_count": 20,
   "metadata": {},
   "outputs": [
    {
     "name": "stdout",
     "output_type": "stream",
     "text": [
      "220\n",
      "284\n"
     ]
    },
    {
     "data": {
      "text/plain": [
       "'amicable'"
      ]
     },
     "execution_count": 20,
     "metadata": {},
     "output_type": "execute_result"
    }
   ],
   "source": [
    "def chk_amicable(n1,n2):\n",
    "    if sum_divisor(n1)==n2 and sum_divisor(n2)==n1:\n",
    "        return 'amicable'\n",
    "    else:\n",
    "        return 'not amicable'\n",
    "    \n",
    "n1= int(input())\n",
    "n2= int(input())\n",
    "\n",
    "chk_amicable(n1,n2)"
   ]
  },
  {
   "cell_type": "markdown",
   "metadata": {
    "id": "rDXJ8s4rQB7W"
   },
   "source": [
    "<table align=\"left\">\n",
    "    <tr>\n",
    "        <td width=\"6%\">\n",
    "            <img src=\"question_icon.png\">\n",
    "        </td>\n",
    "        <td>\n",
    "            <div align=\"left\", style=\"font-size:120%\">\n",
    "                <font color=\"#21618C\">\n",
    "                    <b>10. Reverse string using a for loop (take the input from user).</b>\n",
    "                </font>\n",
    "            </div>\n",
    "        </td>\n",
    "    </tr>\n",
    "</table>"
   ]
  },
  {
   "cell_type": "code",
   "execution_count": 21,
   "metadata": {},
   "outputs": [
    {
     "name": "stdout",
     "output_type": "stream",
     "text": [
      "Enter string here: praju\n",
      "ujarp\n"
     ]
    }
   ],
   "source": [
    "string=input('Enter string here: ')\n",
    "rev_string = \"\"\n",
    "for i in string:\n",
    "    rev_string=i+rev_string\n",
    "print(rev_string)"
   ]
  },
  {
   "cell_type": "code",
   "execution_count": 27,
   "metadata": {},
   "outputs": [
    {
     "name": "stdout",
     "output_type": "stream",
     "text": [
      "1234321\n"
     ]
    }
   ],
   "source": [
    "s = 1234321\n",
    "rev = 0\n",
    "while s!=0:\n",
    "    n = s%10\n",
    "    rev = rev*10+n\n",
    "    s = s//10\n",
    "print(rev)"
   ]
  },
  {
   "cell_type": "code",
   "execution_count": 25,
   "metadata": {},
   "outputs": [
    {
     "data": {
      "text/plain": [
       "123432"
      ]
     },
     "execution_count": 25,
     "metadata": {},
     "output_type": "execute_result"
    }
   ],
   "source": [
    "s = 1234321\n",
    "s//10"
   ]
  },
  {
   "cell_type": "markdown",
   "metadata": {
    "id": "TlmyuLWAQB7X"
   },
   "source": [
    "<table align=\"left\">\n",
    "    <tr>\n",
    "        <td width=\"6%\">\n",
    "            <img src=\"question_icon.png\">\n",
    "        </td>\n",
    "        <td>\n",
    "            <div align=\"left\", style=\"font-size:120%\">\n",
    "                <font color=\"#21618C\">\n",
    "                    <b>11. Write a code to find the average of given numbers (take the input from user).</b>\n",
    "                </font>\n",
    "            </div>\n",
    "        </td>\n",
    "    </tr>\n",
    "</table>"
   ]
  },
  {
   "cell_type": "code",
   "execution_count": 46,
   "metadata": {},
   "outputs": [
    {
     "name": "stdout",
     "output_type": "stream",
     "text": [
      "Enter count of numbers: 3\n",
      "Enter number: 2\n",
      "Enter number: 4\n",
      "Enter number: 6\n",
      "4.0\n"
     ]
    }
   ],
   "source": [
    "num = int(input(\"Enter count of numbers: \"))\n",
    "total = 0\n",
    "for i in range (num):\n",
    "    num_total=int(input(\"Enter number: \"))\n",
    "    total+=num_total\n",
    "print(total/num)"
   ]
  }
 ],
 "metadata": {
  "colab": {
   "name": "ITP-Day 3_IC Solution.ipynb",
   "provenance": []
  },
  "kernelspec": {
   "display_name": "Python 3 (ipykernel)",
   "language": "python",
   "name": "python3"
  },
  "language_info": {
   "codemirror_mode": {
    "name": "ipython",
    "version": 3
   },
   "file_extension": ".py",
   "mimetype": "text/x-python",
   "name": "python",
   "nbconvert_exporter": "python",
   "pygments_lexer": "ipython3",
   "version": "3.11.3"
  }
 },
 "nbformat": 4,
 "nbformat_minor": 1
}
