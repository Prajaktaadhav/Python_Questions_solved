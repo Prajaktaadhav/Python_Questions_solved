{
 "cells": [
  {
   "cell_type": "markdown",
   "metadata": {
    "id": "VL2dzL6IQa_M"
   },
   "source": [
    "<table align=\"center\" width=100%>\n",
    "    <tr>\n",
    "        <td width=\"20%\">\n",
    "            <img src=\"homework.png\">\n",
    "        </td>\n",
    "        <td>\n",
    "            <div align=\"center\">\n",
    "                <font color=\"#21618C\" size=8px>\n",
    "                    <b> TakeHome<br>(Day 1)\n",
    "                    </b>\n",
    "                </font>\n",
    "            </div>\n",
    "        </td>\n",
    "        <td width=\"25%\">\n",
    "            <img src=\"NEW_GL_Logo.png\">\n",
    "        </td>\n",
    "    </tr>\n",
    "</table>"
   ]
  },
  {
   "cell_type": "markdown",
   "metadata": {
    "id": "g80jOBmjQa_P"
   },
   "source": [
    "### Let's begin with some hands-on practice exercises"
   ]
  },
  {
   "cell_type": "markdown",
   "metadata": {
    "id": "Ml8MdFqAQa_P"
   },
   "source": [
    "<table align=\"left\">\n",
    "    <tr>\n",
    "        <td width=\"6%\">\n",
    "            <img src=\"question_icon.png\">\n",
    "        </td>\n",
    "        <td>\n",
    "            <div align=\"left\", style=\"font-size:120%\">\n",
    "                <font color=\"#21618C\">\n",
    "                    <b>1. Write a program to convert the value of 'pi' to integer</b>\n",
    "                </font>\n",
    "            </div>\n",
    "        </td>\n",
    "    </tr>\n",
    "</table>\n"
   ]
  },
  {
   "cell_type": "code",
   "execution_count": 3,
   "metadata": {
    "id": "2dtXGOWZQa_Q"
   },
   "outputs": [
    {
     "data": {
      "text/plain": [
       "3"
      ]
     },
     "execution_count": 3,
     "metadata": {},
     "output_type": "execute_result"
    }
   ],
   "source": [
    "pi=3.14159\n",
    "int(pi)"
   ]
  },
  {
   "cell_type": "code",
   "execution_count": 3,
   "metadata": {},
   "outputs": [
    {
     "data": {
      "text/plain": [
       "3"
      ]
     },
     "execution_count": 3,
     "metadata": {},
     "output_type": "execute_result"
    }
   ],
   "source": [
    "import math\n",
    "int(math.pi)"
   ]
  },
  {
   "cell_type": "markdown",
   "metadata": {
    "id": "E3wj1yU6Qa_Q"
   },
   "source": [
    "<table align=\"left\">\n",
    "    <tr>\n",
    "        <td width=\"6%\">\n",
    "            <img src=\"question_icon.png\">\n",
    "        </td>\n",
    "        <td>\n",
    "            <div align=\"left\", style=\"font-size:120%\">\n",
    "                <font color=\"#21618C\">\n",
    "                    <b>2. Find the remainder after dividing 542 by 16</b>\n",
    "                </font>\n",
    "            </div>\n",
    "        </td>\n",
    "    </tr>\n",
    "</table>"
   ]
  },
  {
   "cell_type": "code",
   "execution_count": 1,
   "metadata": {
    "id": "QCHcvLAFQa_R"
   },
   "outputs": [
    {
     "data": {
      "text/plain": [
       "14"
      ]
     },
     "execution_count": 1,
     "metadata": {},
     "output_type": "execute_result"
    }
   ],
   "source": [
    "542%16"
   ]
  },
  {
   "cell_type": "markdown",
   "metadata": {
    "id": "gmLbuu-SQa_R"
   },
   "source": [
    "<table align=\"left\">\n",
    "    <tr>\n",
    "        <td width=\"6%\">\n",
    "            <img src=\"question_icon.png\">\n",
    "        </td>\n",
    "        <td>\n",
    "            <div align=\"left\", style=\"font-size:120%\">\n",
    "                <font color=\"#21618C\">\n",
    "                    <b>3.  Display the following pattern using single print() </b>\n",
    "                </font>\n",
    "            </div>\n",
    "        </td>\n",
    "    </tr>\n",
    "</table>"
   ]
  },
  {
   "cell_type": "markdown",
   "metadata": {
    "id": "DK3tidsyQa_R"
   },
   "source": [
    "                                *\n",
    "                                **\n",
    "                                ***\n",
    "                                ****"
   ]
  },
  {
   "cell_type": "code",
   "execution_count": 2,
   "metadata": {
    "id": "6DGUY8KZQa_R"
   },
   "outputs": [
    {
     "name": "stdout",
     "output_type": "stream",
     "text": [
      "*\n",
      "**\n",
      "***\n",
      "****\n"
     ]
    }
   ],
   "source": [
    "print('*','**','***','****',sep='\\n')"
   ]
  },
  {
   "cell_type": "code",
   "execution_count": 6,
   "metadata": {
    "scrolled": true
   },
   "outputs": [
    {
     "name": "stdout",
     "output_type": "stream",
     "text": [
      "*\n",
      "**\n",
      "***\n",
      "****\n"
     ]
    }
   ],
   "source": [
    "for i in range (1,5):\n",
    "    print(i*'*')"
   ]
  },
  {
   "cell_type": "markdown",
   "metadata": {
    "id": "GMpBUTS4Qa_S"
   },
   "source": [
    "<table align=\"left\">\n",
    "    <tr>\n",
    "        <td width=\"6%\">\n",
    "            <img src=\"question_icon.png\">\n",
    "        </td>\n",
    "        <td>\n",
    "            <div align=\"left\", style=\"font-size:120%\">\n",
    "                <font color=\"#21618C\">\n",
    "                    <b>4. Write a pseudo code to check whether an entered letter is a vowel or not </b>\n",
    "                </font>\n",
    "            </div>\n",
    "        </td>\n",
    "    </tr>\n",
    "</table>"
   ]
  },
  {
   "cell_type": "code",
   "execution_count": null,
   "metadata": {
    "id": "us6-BuxVQa_S"
   },
   "outputs": [],
   "source": [
    "#step 1 : accept a user input for a single letter in lowercase, \n",
    "#convert it to a string and convert to lowercase.\n",
    "#step 2 :check if l is vowel: if l==a or l==e or l==i or l==o or l==u.\n",
    "#step 3 :if vowel \"Print letter is vowel.\" or else \"Print letter is not Vowel.\"p"
   ]
  },
  {
   "cell_type": "code",
   "execution_count": 16,
   "metadata": {},
   "outputs": [
    {
     "name": "stdout",
     "output_type": "stream",
     "text": [
      "enter letter: A\n",
      "Vowel\n"
     ]
    }
   ],
   "source": [
    "n=str(input(\"enter letter: \"))\n",
    "if n.lower() in 'aeiou':\n",
    "    print (\"Vowel\")\n",
    "else:\n",
    "    print(\"not a vowel\")\n"
   ]
  },
  {
   "cell_type": "markdown",
   "metadata": {
    "id": "VEj2s0RsQa_S"
   },
   "source": [
    "<table align=\"left\">\n",
    "    <tr>\n",
    "        <td width=\"6%\">\n",
    "            <img src=\"question_icon.png\">\n",
    "        </td>\n",
    "        <td>\n",
    "            <div align=\"left\", style=\"font-size:120%\">\n",
    "                <font color=\"#21618C\">\n",
    "                    <b>5. Write a program to swap the two integers passed as runtime variables</b>\n",
    "                </font>\n",
    "            </div>\n",
    "        </td>\n",
    "    </tr>\n",
    "</table>\n"
   ]
  },
  {
   "cell_type": "code",
   "execution_count": 8,
   "metadata": {
    "id": "9_ZxE26bQa_S"
   },
   "outputs": [
    {
     "data": {
      "text/plain": [
       "(7, 6)"
      ]
     },
     "execution_count": 8,
     "metadata": {},
     "output_type": "execute_result"
    }
   ],
   "source": [
    "x,y = 6,7\n",
    "x,y = y,x\n",
    "x,y"
   ]
  },
  {
   "cell_type": "code",
   "execution_count": 11,
   "metadata": {},
   "outputs": [
    {
     "data": {
      "text/plain": [
       "(7, 6)"
      ]
     },
     "execution_count": 11,
     "metadata": {},
     "output_type": "execute_result"
    }
   ],
   "source": [
    "x,y = 6,7\n",
    "temp = x\n",
    "x=y\n",
    "y=temp\n",
    "x,y"
   ]
  },
  {
   "cell_type": "code",
   "execution_count": 13,
   "metadata": {},
   "outputs": [
    {
     "data": {
      "text/plain": [
       "(7, 6)"
      ]
     },
     "execution_count": 13,
     "metadata": {},
     "output_type": "execute_result"
    }
   ],
   "source": [
    "x,y=6,7\n",
    "x=x+y\n",
    "y=x-y\n",
    "x=x-y\n",
    "x,y"
   ]
  },
  {
   "cell_type": "markdown",
   "metadata": {
    "id": "nsIi4bbwQa_T"
   },
   "source": [
    "<table align=\"left\">\n",
    "    <tr>\n",
    "        <td width=\"6%\">\n",
    "            <img src=\"question_icon.png\">\n",
    "        </td>\n",
    "        <td>\n",
    "            <div align=\"left\", style=\"font-size:120%\">\n",
    "                <font color=\"#21618C\">\n",
    "                    <b>6. Write a program to print the product of two numbers 'x' and 'y' </b>\n",
    "                    <br><br>\n",
    "                    <b> x = 10 ; y = \"15\"  </b>\n",
    "                </font>\n",
    "            </div>\n",
    "        </td>\n",
    "    </tr>\n",
    "</table>"
   ]
  },
  {
   "cell_type": "code",
   "execution_count": 20,
   "metadata": {
    "id": "YhsbZomrQa_T"
   },
   "outputs": [
    {
     "name": "stdout",
     "output_type": "stream",
     "text": [
      "Product of numbers 10 and 15 is 150.\n"
     ]
    }
   ],
   "source": [
    "x=10\n",
    "y=\"15\"\n",
    "print('Product of numbers {} and {} is {}.'.format(x,int(y),x*int(y)))"
   ]
  },
  {
   "cell_type": "markdown",
   "metadata": {
    "id": "yn2ZFlrjQa_T"
   },
   "source": [
    "<table align=\"left\">\n",
    "    <tr>\n",
    "        <td width=\"6%\">\n",
    "            <img src=\"question_icon.png\">\n",
    "        </td>\n",
    "        <td>\n",
    "            <div align=\"left\", style=\"font-size:120%\">\n",
    "                <font color=\"#21618C\">\n",
    "                    <b> 7. Write a pseudo code to check whether input is even number or odd number (take input from user)</b>\n",
    "                </font>\n",
    "            </div>\n",
    "        </td>\n",
    "    </tr>\n",
    "</table>"
   ]
  },
  {
   "cell_type": "markdown",
   "metadata": {
    "id": "5uTz6pwVQa_T"
   },
   "source": [
    "step 1: accept a user input for a number, convert it to integer and assign variable n.\n",
    "step 2: check if n/2. assign variable a to remainder. (a=n%2)\n",
    "step 3: if a is 0 (print n is even number)\n",
    "step 4: if a is not 0 (print n is odd number)\n"
   ]
  },
  {
   "cell_type": "markdown",
   "metadata": {
    "id": "jCXEk8wkQa_T"
   },
   "source": [
    "<table align=\"left\">\n",
    "    <tr>\n",
    "        <td width=\"6%\">\n",
    "            <img src=\"question_icon.png\">\n",
    "        </td>\n",
    "        <td>\n",
    "            <div align=\"left\", style=\"font-size:120%\">\n",
    "                <font color=\"#21618C\">\n",
    "                    <b>8. Write a pseudo code to print whether a number is divisible by 9 and a multiple of 6 (take input from the user)</b>\n",
    "                </font>\n",
    "            </div>\n",
    "        </td>\n",
    "    </tr>\n",
    "</table>"
   ]
  },
  {
   "cell_type": "markdown",
   "metadata": {
    "id": "0tqTsv6qQa_T"
   },
   "source": [
    "step 1: accept a user input for number.convert to int and assign variable a.\n",
    "step 2: check if a is divisible by 9 and multiple of 6 (a/9= remainder 0 and a/6 remainder 0).\n",
    "step 3:if condition is true, print 'number is divisible by 9 and a multiple of 6'\n",
    "step 4: otherwise print 'number is not divisible by 9 and a multiple of 6'"
   ]
  },
  {
   "cell_type": "markdown",
   "metadata": {
    "id": "CcPDpFLyQa_U"
   },
   "source": [
    "<table align=\"left\">\n",
    "    <tr>\n",
    "        <td width=\"6%\">\n",
    "            <img src=\"question_icon.png\">\n",
    "        </td>\n",
    "        <td>\n",
    "            <div align=\"left\", style=\"font-size:120%\">\n",
    "                <font color=\"#21618C\">\n",
    "                    <b>9. Write a pseudo to take 5 values from user and print their average using while loop (take input from user)</b>\n",
    "                </font>\n",
    "            </div>\n",
    "        </td>\n",
    "    </tr>\n",
    "</table>"
   ]
  },
  {
   "cell_type": "markdown",
   "metadata": {
    "id": "ZrmzyUiJQa_U"
   },
   "source": [
    "Step1 :set variables value_sum=0,count=0\n",
    "Step 2: while count==5\n",
    " accept the user input for a value and convert to float\n",
    "step 3: calculate value_sum +=value for count +=1\n",
    "step 4: calculate average= value_sum/5\n",
    "step 5: print 'average of 5 values is: average'\n",
    " "
   ]
  },
  {
   "cell_type": "markdown",
   "metadata": {
    "id": "LAVfwSMnvJAX"
   },
   "source": [
    "<table align=\"left\">\n",
    "    <tr>\n",
    "        <td width=\"6%\">\n",
    "            <img src=\"question_icon.png\">\n",
    "        </td>\n",
    "        <td>\n",
    "            <div align=\"left\", style=\"font-size:120%\">\n",
    "                <font color=\"#21618C\">\n",
    "                    <b>10. Write a pseudo code to print table of 5 using 'for' loop.</b>\n",
    "                </font>\n",
    "            </div>\n",
    "        </td>\n",
    "    </tr>\n",
    "</table>"
   ]
  },
  {
   "cell_type": "markdown",
   "metadata": {
    "id": "kmX8KFdcvJAX"
   },
   "source": [
    "start\n",
    "using for loop \n",
    "for i in range (1,11):\n",
    "    print (5*i)"
   ]
  },
  {
   "cell_type": "markdown",
   "metadata": {
    "id": "yoAu4pUNvJAX"
   },
   "source": [
    "<table align=\"left\">\n",
    "    <tr>\n",
    "        <td width=\"6%\">\n",
    "            <img src=\"question_icon.png\">\n",
    "        </td>\n",
    "        <td>\n",
    "            <div align=\"left\", style=\"font-size:120%\">\n",
    "                <font color=\"#21618C\">\n",
    "                    <b>11. Write a pseudo code for generating a fibonacci series starting with 0 and 1 for 10 values using while loop. </b>\n",
    "                </font>\n",
    "            </div>\n",
    "        </td>\n",
    "    </tr>\n",
    "</table>"
   ]
  },
  {
   "cell_type": "markdown",
   "metadata": {
    "id": "Wae8C4S5vJAX"
   },
   "source": [
    "step 1: define variables a =0, b=1 and count=0\n",
    "step 2: use while loop: while count<10\n",
    "step 3: print value of (a)\n",
    "step 4: exchange value of a and b by assigning temporary variable temp=a+b\n",
    "        a=b\n",
    "        b=temp\n",
    "step 5: continue loop for count+=1 (10 values)"
   ]
  },
  {
   "cell_type": "code",
   "execution_count": 17,
   "metadata": {},
   "outputs": [
    {
     "name": "stdout",
     "output_type": "stream",
     "text": [
      "0 1 1 2 3 5 8 13 21 34 "
     ]
    }
   ],
   "source": [
    "n=10\n",
    "count =0\n",
    "a = 0\n",
    "b = 1\n",
    "print(a,b,end=' ')\n",
    "while count<n-2:\n",
    "    t = a+b\n",
    "    a=b\n",
    "    b=t\n",
    "    count+=1\n",
    "    print(t, end=' ')"
   ]
  },
  {
   "cell_type": "markdown",
   "metadata": {
    "id": "sL9h2puFvJAX"
   },
   "source": [
    "<table align=\"left\">\n",
    "    <tr>\n",
    "        <td width=\"6%\">\n",
    "            <img src=\"question_icon.png\">\n",
    "        </td>\n",
    "        <td>\n",
    "            <div align=\"left\", style=\"font-size:120%\">\n",
    "                <font color=\"#21618C\">\n",
    "                    <b>12. Write a pseudo code to know whether a number is greater than the other using 'if' statement. </b>\n",
    "                </font>\n",
    "            </div>\n",
    "        </td>\n",
    "    </tr>\n",
    "</table>"
   ]
  },
  {
   "cell_type": "markdown",
   "metadata": {
    "id": "1aNPqYqvvJAY"
   },
   "source": [
    "step1: assign a variable n1 and n2 to the numbers.\n",
    "step 2: check if n1>n2\n",
    "step 3: if true print n1 is greater than n2"
   ]
  },
  {
   "cell_type": "markdown",
   "metadata": {
    "id": "ZC8l863FvJAY"
   },
   "source": [
    "<table align=\"left\">\n",
    "    <tr>\n",
    "        <td width=\"6%\">\n",
    "            <img src=\"question_icon.png\">\n",
    "        </td>\n",
    "        <td>\n",
    "            <div align=\"left\", style=\"font-size:120%\">\n",
    "                <font color=\"#21618C\">\n",
    "                    <b>13. Write a pseudo code to check whether a number is divisible by 7 or not using if else statement. </b>\n",
    "                </font>\n",
    "            </div>\n",
    "        </td>\n",
    "    </tr>\n",
    "</table>"
   ]
  },
  {
   "cell_type": "markdown",
   "metadata": {
    "id": "-r4JPQaUvJAY"
   },
   "source": [
    "start\n",
    "n=read a number From user\n",
    "check if number n is divisible by 7.\n",
    "          print the number is divisible by 7.\n",
    "      else \n",
    "          print the number is not divisible by 7.\n",
    "end.\n",
    "     "
   ]
  },
  {
   "cell_type": "markdown",
   "metadata": {
    "id": "9bzinKe8vJAY"
   },
   "source": [
    "<table align=\"left\">\n",
    "    <tr>\n",
    "        <td width=\"6%\">\n",
    "            <img src=\"question_icon.png\">\n",
    "        </td>\n",
    "        <td>\n",
    "            <div align=\"left\", style=\"font-size:120%\">\n",
    "                <font color=\"#21618C\">\n",
    "                    <b>14. Write a pseudo code to find factorial of a number using nested if-else statement. </b>\n",
    "                </font>\n",
    "            </div>\n",
    "        </td>\n",
    "    </tr>\n",
    "</table>"
   ]
  },
  {
   "cell_type": "markdown",
   "metadata": {
    "id": "YnGkW0_OvJAY"
   },
   "source": [
    "step 1: assign variable n to a number\n",
    "step 2: check if number is <0\n",
    "step 3:print factorial not possible\n",
    "step 4: ifelse check  n==0 print factorial is 1\n",
    "step 5: else calculate factorial using loop while loop"
   ]
  },
  {
   "cell_type": "code",
   "execution_count": 10,
   "metadata": {},
   "outputs": [
    {
     "name": "stdout",
     "output_type": "stream",
     "text": [
      "6\n",
      "Factorial 720\n"
     ]
    }
   ],
   "source": [
    "fact = 1\n",
    "n = int(input())\n",
    "if n<0:\n",
    "    print('Give natural no')\n",
    "elif n==0 or n==1:\n",
    "    print('Factorial',fact)\n",
    "else:\n",
    "    for i in range(2,n+1):\n",
    "        fact*=i\n",
    "    print('Factorial',fact)\n",
    " "
   ]
  },
  {
   "cell_type": "markdown",
   "metadata": {
    "id": "sFSPyOTkvJAY"
   },
   "source": [
    "<table align=\"left\">\n",
    "    <tr>\n",
    "        <td width=\"6%\">\n",
    "            <img src=\"question_icon.png\">\n",
    "        </td>\n",
    "        <td>\n",
    "            <div align=\"left\", style=\"font-size:120%\">\n",
    "                <font color=\"#21618C\">\n",
    "                    <b>15. Write a pseudo to know whether a number is prime or not using for and if else statement.</b>\n",
    "                </font>\n",
    "            </div>\n",
    "        </td>\n",
    "    </tr>\n",
    "</table>"
   ]
  },
  {
   "cell_type": "markdown",
   "metadata": {
    "id": "wq46xW9fvJAY"
   },
   "source": [
    "step 1: assign variable n to a number.\n",
    "step 2: check if n==1 print (num 'is not a prime number')\n",
    "step 3: elif num >1\n",
    "step 4: for i in range (2,n) check \n",
    "        if n%i==0\n",
    "step 5: if yes print (num 'is prime number')\n",
    "        else print (num 'is not a prime number')\n",
    "\n",
    "    "
   ]
  },
  {
   "cell_type": "code",
   "execution_count": 4,
   "metadata": {},
   "outputs": [
    {
     "name": "stdout",
     "output_type": "stream",
     "text": [
      "1\n",
      "prime\n"
     ]
    }
   ],
   "source": [
    "n = int(input())\n",
    "for i in range (2,n):\n",
    "    if n%i ==0:\n",
    "        print('Not prime')\n",
    "        break\n",
    "else:\n",
    "    print('prime')"
   ]
  },
  {
   "cell_type": "markdown",
   "metadata": {
    "id": "xqwVMuQ0vic-"
   },
   "source": [
    "<table align=\"left\">\n",
    "    <tr>\n",
    "        <td width=\"6%\">\n",
    "            <img src=\"question_icon.png\">\n",
    "        </td>\n",
    "        <td>\n",
    "            <div align=\"left\", style=\"font-size:120%\">\n",
    "                <font color=\"#21618C\">\n",
    "                    <b>16. Write a program to find the area of a circle for a given radius (take the input from user).</b>\n",
    "                </font>\n",
    "            </div>\n",
    "        </td>\n",
    "    </tr>\n",
    "</table>"
   ]
  },
  {
   "cell_type": "code",
   "execution_count": 29,
   "metadata": {
    "id": "SypIf2savjUJ"
   },
   "outputs": [
    {
     "name": "stdout",
     "output_type": "stream",
     "text": [
      "Enter the radius of a circle:3\n",
      "area of a circle is: 28.26 cm sq.\n"
     ]
    }
   ],
   "source": [
    "r=float(input('Enter the radius of a circle:'))\n",
    "print('area of a circle is:',3.14*(r**2), 'cm sq.')"
   ]
  },
  {
   "cell_type": "code",
   "execution_count": 30,
   "metadata": {
    "scrolled": true
   },
   "outputs": [
    {
     "name": "stdout",
     "output_type": "stream",
     "text": [
      "Enter the radius of a circle:3\n",
      "area of a circle is: 28.274333882308138 cm sq.\n"
     ]
    }
   ],
   "source": [
    "r=float(input('Enter the radius of a circle:'))\n",
    "print('area of a circle is:',math.pi*(r**2), 'cm sq.')"
   ]
  },
  {
   "cell_type": "markdown",
   "metadata": {
    "id": "7WyRzvq2vj-N"
   },
   "source": [
    "<table align=\"left\">\n",
    "    <tr>\n",
    "        <td width=\"6%\">\n",
    "            <img src=\"question_icon.png\">\n",
    "        </td>\n",
    "        <td>\n",
    "            <div align=\"left\", style=\"font-size:120%\">\n",
    "                <font color=\"#21618C\">\n",
    "                    <b>17. Write a code to find the simple interest (take the input from user).</b>\n",
    "                </font>\n",
    "            </div>\n",
    "        </td>\n",
    "    </tr>\n",
    "</table>"
   ]
  },
  {
   "cell_type": "code",
   "execution_count": 31,
   "metadata": {
    "id": "_eItvYpPvosX"
   },
   "outputs": [
    {
     "name": "stdout",
     "output_type": "stream",
     "text": [
      "Enter Principal amount in INR:10000\n",
      "Enter rate of interest:8\n",
      "Enter time period in years:5\n",
      "4000.0\n"
     ]
    }
   ],
   "source": [
    "##simple_interest=(principal amt*rate of interest*time period/100)\n",
    "principal_amt= float(input('Enter Principal amount in INR:'))\n",
    "rate_of_interest = float(input('Enter rate of interest:'))\n",
    "time_period=float(input('Enter time period in years:'))\n",
    "simple_interest=(principal_amt*rate_of_interest*time_period)/100\n",
    "print (simple_interest)"
   ]
  }
 ],
 "metadata": {
  "colab": {
   "provenance": []
  },
  "kernelspec": {
   "display_name": "Python 3 (ipykernel)",
   "language": "python",
   "name": "python3"
  },
  "language_info": {
   "codemirror_mode": {
    "name": "ipython",
    "version": 3
   },
   "file_extension": ".py",
   "mimetype": "text/x-python",
   "name": "python",
   "nbconvert_exporter": "python",
   "pygments_lexer": "ipython3",
   "version": "3.11.3"
  }
 },
 "nbformat": 4,
 "nbformat_minor": 1
}
