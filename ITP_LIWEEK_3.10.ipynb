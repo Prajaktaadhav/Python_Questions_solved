{
 "cells": [
  {
   "cell_type": "markdown",
   "id": "8a45266b",
   "metadata": {
    "colab_type": "text",
    "id": "ciq7A3v4YQb3"
   },
   "source": [
    "<table align=\"left\">\n",
    "    <tr>\n",
    "        <td width=\"6%\">\n",
    "            <img src=\"question_icon.png\">\n",
    "        </td>\n",
    "        <td>\n",
    "            <div align=\"left\", style=\"font-size:120%\">\n",
    "                <font color=\"#21618C\">\n",
    "                    <b> 1. Write a program to retrieve the second element from the list\n",
    "                       </b>\n",
    "                </font>\n",
    "            </div>\n",
    "        </td>\n",
    "    </tr>\n",
    "</table>"
   ]
  },
  {
   "cell_type": "code",
   "execution_count": 1,
   "id": "eca8f4d8",
   "metadata": {},
   "outputs": [
    {
     "data": {
      "text/plain": [
       "2"
      ]
     },
     "execution_count": 1,
     "metadata": {},
     "output_type": "execute_result"
    }
   ],
   "source": [
    "l=[1,2,3,4,5,6]\n",
    "l[1]"
   ]
  },
  {
   "cell_type": "markdown",
   "id": "33f20a1b",
   "metadata": {
    "colab_type": "text",
    "id": "4D34By4DYQb_"
   },
   "source": [
    "<table align=\"left\">\n",
    "    <tr>\n",
    "        <td width=\"6%\">\n",
    "            <img src=\"question_icon.png\">\n",
    "        </td>\n",
    "        <td>\n",
    "            <div align=\"left\", style=\"font-size:120%\">\n",
    "                <font color=\"#21618C\">\n",
    "                    <b> 2. Write a program to exchange the values of two numbers (take input from user)</b>\n",
    "                </font>\n",
    "            </div>\n",
    "        </td>\n",
    "    </tr>\n",
    "</table>"
   ]
  },
  {
   "cell_type": "code",
   "execution_count": 3,
   "id": "d8447203",
   "metadata": {},
   "outputs": [
    {
     "name": "stdout",
     "output_type": "stream",
     "text": [
      "Enter no.1: 4\n",
      "Enter no.2: 5\n",
      "5,4\n"
     ]
    }
   ],
   "source": [
    "n1=int(input('Enter no.1: '))\n",
    "n2=int(input('Enter no.2: '))\n",
    "n1,n2=n2,n1\n",
    "print(n1,n2, sep =',')"
   ]
  },
  {
   "cell_type": "markdown",
   "id": "eee7cc68",
   "metadata": {
    "colab_type": "text",
    "id": "NoXhGRcZYQcD"
   },
   "source": [
    "<table align=\"left\">\n",
    "    <tr>\n",
    "        <td width=\"6%\">\n",
    "            <img src=\"question_icon.png\">\n",
    "        </td>\n",
    "        <td>\n",
    "            <div align=\"left\", style=\"font-size:120%\">\n",
    "                <font color=\"#21618C\">\n",
    "                    <b>3. A list containing age and name of five candidates is given below. Convert this list into a dictionary such that the name is the key and the age before their name should be the value in the dictionary.</b>\n",
    "                    <br>\n",
    "                </font>\n",
    "            </div>\n",
    "        </td>\n",
    "    </tr>\n",
    "</table>"
   ]
  },
  {
   "cell_type": "code",
   "execution_count": 7,
   "id": "61e4e05c",
   "metadata": {},
   "outputs": [
    {
     "name": "stdout",
     "output_type": "stream",
     "text": [
      "{'Ram': 22, 'Sham': 23, 'Gullu': 34, 'Gola': 23, 'Git': 26}\n"
     ]
    }
   ],
   "source": [
    "age=[22,23,34,23,26]\n",
    "names=['Ram','Sham','Gullu','Gola','Git']\n",
    "dictionary=dict(zip(names,age))\n",
    "print(dictionary)"
   ]
  },
  {
   "cell_type": "code",
   "execution_count": 19,
   "id": "a5b55862",
   "metadata": {},
   "outputs": [
    {
     "name": "stdout",
     "output_type": "stream",
     "text": [
      "22\n",
      "23\n",
      "34\n",
      "23\n",
      "26\n",
      "Ram\n",
      "Sham\n",
      "Gullu\n",
      "Gola\n",
      "Git\n",
      "[]\n"
     ]
    }
   ],
   "source": [
    "l=[22,23,34,23,26,'Ram','Sham','Gullu','Gola','Git']\n",
    "l1=[]\n",
    "l2=[]\n",
    "d1={}\n",
    "for i in l:\n",
    "    print(i)\n",
    "print(l1)"
   ]
  },
  {
   "cell_type": "markdown",
   "id": "ae58c255",
   "metadata": {
    "colab_type": "text",
    "id": "AkH2bi7DYQcT"
   },
   "source": [
    "<table align=\"left\">\n",
    "    <tr>\n",
    "        <td width=\"6%\">\n",
    "            <img src=\"question_icon.png\">\n",
    "        </td>\n",
    "        <td>\n",
    "            <div align=\"left\", style=\"font-size:120%\">\n",
    "                <font color=\"#21618C\">\n",
    "                    <b>4. Define a function to check whether a number is in a range (1000,10000) or not </b>\n",
    "                </font>\n",
    "            </div>\n",
    "        </td>\n",
    "    </tr>\n",
    "</table>"
   ]
  },
  {
   "cell_type": "code",
   "execution_count": 9,
   "id": "95cabbae",
   "metadata": {},
   "outputs": [
    {
     "name": "stdout",
     "output_type": "stream",
     "text": [
      "Enter a number: 8999\n",
      "In range\n"
     ]
    }
   ],
   "source": [
    "n=int(input('Enter a number: '))\n",
    "if n in range (1000,10000):\n",
    "    print('In range')\n",
    "else:\n",
    "    print('Not in Range')"
   ]
  },
  {
   "cell_type": "markdown",
   "id": "f4f440d6",
   "metadata": {
    "colab_type": "text",
    "id": "v_SyVOBRYQcc"
   },
   "source": [
    "<table align=\"left\">\n",
    "    <tr>\n",
    "        <td width=\"6%\">\n",
    "            <img src=\"question_icon.png\">\n",
    "        </td>\n",
    "        <td>\n",
    "            <div align=\"left\", style=\"font-size:120%\">\n",
    "                <font color=\"#21618C\">\n",
    "                    <b> 5. Write a program to get square of first five positive integers (use List Comprehension)  </b>\n",
    "                </font>\n",
    "            </div>\n",
    "        </td>\n",
    "    </tr>\n",
    "</table>"
   ]
  },
  {
   "cell_type": "code",
   "execution_count": 10,
   "id": "82dc7046",
   "metadata": {},
   "outputs": [
    {
     "data": {
      "text/plain": [
       "[1, 4, 9, 16, 25]"
      ]
     },
     "execution_count": 10,
     "metadata": {},
     "output_type": "execute_result"
    }
   ],
   "source": [
    "sq=[i**2 for i in range (1,6)]\n",
    "sq"
   ]
  },
  {
   "cell_type": "markdown",
   "id": "54fee0ef",
   "metadata": {
    "colab_type": "text",
    "id": "v_SyVOBRYQcc"
   },
   "source": [
    "<table align=\"left\">\n",
    "    <tr>\n",
    "        <td width=\"6%\">\n",
    "            <img src=\"question_icon.png\">\n",
    "        </td>\n",
    "        <td>\n",
    "            <div align=\"left\", style=\"font-size:120%\">\n",
    "                <font color=\"#21618C\">\n",
    "                    <b> 6. Write a program to reverse a string without using indexing  </b>\n",
    "                </font>\n",
    "            </div>\n",
    "        </td>\n",
    "    </tr>\n",
    "</table>"
   ]
  },
  {
   "cell_type": "code",
   "execution_count": 14,
   "id": "d977e091",
   "metadata": {},
   "outputs": [
    {
     "name": "stdout",
     "output_type": "stream",
     "text": [
      "hi how are you?\n",
      "?uoy era woh ih\n"
     ]
    }
   ],
   "source": [
    "string=input()\n",
    "rev=''\n",
    "for i in string:\n",
    "    rev=i+rev\n",
    "print(rev)"
   ]
  },
  {
   "cell_type": "markdown",
   "id": "3ad7a61d",
   "metadata": {
    "colab_type": "text",
    "id": "v_SyVOBRYQcc"
   },
   "source": [
    "<table align=\"left\">\n",
    "    <tr>\n",
    "        <td width=\"6%\">\n",
    "            <img src=\"question_icon.png\">\n",
    "        </td>\n",
    "        <td>\n",
    "            <div align=\"left\", style=\"font-size:120%\">\n",
    "                <font color=\"#21618C\">\n",
    "                    <b> 7. Python Program to Create a Dictionary with Key as First Character and Value as Words Starting with that Character  </b>\n",
    "                </font>\n",
    "            </div>\n",
    "        </td>\n",
    "    </tr>\n",
    "</table>"
   ]
  },
  {
   "cell_type": "code",
   "execution_count": 57,
   "id": "f4ba7607",
   "metadata": {},
   "outputs": [
    {
     "data": {
      "text/plain": [
       "{'R': 'Ram', 'S': 'Sham', 'G': 'Gullu'}"
      ]
     },
     "execution_count": 57,
     "metadata": {},
     "output_type": "execute_result"
    }
   ],
   "source": [
    "n=['Ram','Sham','Gullu']\n",
    "d={}\n",
    "for i in n:\n",
    "    d.update({i[0]:i})\n",
    "d"
   ]
  },
  {
   "cell_type": "code",
   "execution_count": 1,
   "id": "0c0412a6",
   "metadata": {},
   "outputs": [
    {
     "data": {
      "text/plain": [
       "{'R': 'Ram', 'S': ['Sakhi', ['Shree', 'Sham']], 'G': 'Gullu'}"
      ]
     },
     "execution_count": 1,
     "metadata": {},
     "output_type": "execute_result"
    }
   ],
   "source": [
    "value=['Ram','Sham','Gullu','Shree','Sakhi']\n",
    "di={}\n",
    "\n",
    "for i in value:\n",
    "    j=i[0]\n",
    "    if j in di:\n",
    "        sub=[]\n",
    "        sub.append(i)\n",
    "        sub.append(di[j])\n",
    "        di[j]=sub\n",
    "    else:\n",
    "        di.update({j:i})\n",
    "    \n",
    "di"
   ]
  },
  {
   "cell_type": "code",
   "execution_count": 3,
   "id": "b6674d4a",
   "metadata": {},
   "outputs": [
    {
     "name": "stdout",
     "output_type": "stream",
     "text": [
      "{'R': ['Ram'], 'S': ['Sham', 'Shree', 'Sakhi'], 'G': ['Gullu']}\n"
     ]
    }
   ],
   "source": [
    "value = ['Ram', 'Sham', 'Gullu', 'Shree', 'Sakhi']\n",
    "result = {}\n",
    "\n",
    "for v in value:\n",
    "    first_letter = v[0]\n",
    "    if first_letter not in result:\n",
    "        result[first_letter] = []\n",
    "    result[first_letter].append(v)\n",
    "\n",
    "print(result)"
   ]
  },
  {
   "cell_type": "code",
   "execution_count": 6,
   "id": "2dcc64a8",
   "metadata": {},
   "outputs": [
    {
     "data": {
      "text/plain": [
       "{'R': ['Ram'], 'S': ['Sham', 'Shree', 'Sakhi'], 'G': ['Gullu']}"
      ]
     },
     "execution_count": 6,
     "metadata": {},
     "output_type": "execute_result"
    }
   ],
   "source": [
    "d={}\n",
    "for i in value:\n",
    "    key=i[0]\n",
    "    if key not in d:\n",
    "        d[key]=[]\n",
    "    d[key].append(i)\n",
    "d   "
   ]
  },
  {
   "cell_type": "code",
   "execution_count": 58,
   "id": "f9642024",
   "metadata": {},
   "outputs": [
    {
     "data": {
      "text/plain": [
       "{'R': 'Ram', 'S': 'Sham', 'G': 'Gullu'}"
      ]
     },
     "execution_count": 58,
     "metadata": {},
     "output_type": "execute_result"
    }
   ],
   "source": [
    "d={i[0]:i for i in n}\n",
    "d"
   ]
  },
  {
   "cell_type": "markdown",
   "id": "c9da6cbe",
   "metadata": {
    "colab_type": "text",
    "id": "v_SyVOBRYQcc"
   },
   "source": [
    "<table align=\"left\">\n",
    "    <tr>\n",
    "        <td width=\"6%\">\n",
    "            <img src=\"question_icon.png\">\n",
    "        </td>\n",
    "        <td>\n",
    "            <div align=\"left\", style=\"font-size:120%\">\n",
    "                <font color=\"#21618C\">\n",
    "                    <b> 8. Python Program to find the sum of nested list  </b>\n",
    "                </font>\n",
    "            </div>\n",
    "        </td>\n",
    "    </tr>\n",
    "</table>"
   ]
  },
  {
   "cell_type": "code",
   "execution_count": 52,
   "id": "711d26b9",
   "metadata": {},
   "outputs": [
    {
     "name": "stdout",
     "output_type": "stream",
     "text": [
      "45\n"
     ]
    }
   ],
   "source": [
    "l=[[1,2,3],[4,5,6],[7,8,9]]\n",
    "total=0\n",
    "for i in l:\n",
    "    for j in i:\n",
    "        total+=j\n",
    "print(total)"
   ]
  },
  {
   "cell_type": "code",
   "execution_count": 56,
   "id": "891e1d60",
   "metadata": {},
   "outputs": [
    {
     "data": {
      "text/plain": [
       "45"
      ]
     },
     "execution_count": 56,
     "metadata": {},
     "output_type": "execute_result"
    }
   ],
   "source": [
    "from functools import reduce\n",
    "l=[[1,2,3],[4,5,6],[7,8,9]]\n",
    "add=sum([j for i in l for j in i])\n",
    "add"
   ]
  },
  {
   "cell_type": "code",
   "execution_count": 1,
   "id": "9e2fbbfa",
   "metadata": {},
   "outputs": [
    {
     "data": {
      "text/plain": [
       "24"
      ]
     },
     "execution_count": 1,
     "metadata": {},
     "output_type": "execute_result"
    }
   ],
   "source": [
    "a=[1,2,[1,2,3],[4,5,6]]\n",
    "sum1=0\n",
    "\n",
    "for i in a:\n",
    "    if type(i)==int:\n",
    "        sum1+=i\n",
    "    else:\n",
    "        for j in i:\n",
    "            sum1+=j\n",
    "    \n",
    "sum1   "
   ]
  },
  {
   "cell_type": "markdown",
   "id": "377f8eae",
   "metadata": {},
   "source": [
    "<table align=\"left\">\n",
    "    <tr>\n",
    "        <td width=\"6%\">\n",
    "            <img src=\"question_icon.png\">\n",
    "        </td>\n",
    "        <td>\n",
    "            <div align=\"left\", style=\"font-size:120%\">\n",
    "                <font color=\"#21618C\">\n",
    "                    <b> 9. Write a Python program to calculate a dog's age in dog's years. \n",
    "Note: For the first two years, a dog year is equal to 10.5 human years. After that, each dog year equals 4 human years.  </b>\n",
    "                </font>\n",
    "            </div>\n",
    "        </td>\n",
    "    </tr>\n",
    "</table>"
   ]
  },
  {
   "cell_type": "code",
   "execution_count": 73,
   "id": "bb8277f8",
   "metadata": {},
   "outputs": [
    {
     "name": "stdout",
     "output_type": "stream",
     "text": [
      "1\n"
     ]
    },
    {
     "data": {
      "text/plain": [
       "10.5"
      ]
     },
     "execution_count": 73,
     "metadata": {},
     "output_type": "execute_result"
    }
   ],
   "source": [
    "humanage=float(input())\n",
    "def dogage(humanage):\n",
    "    if humanage <= 2:\n",
    "        dogage=humanage*10.5\n",
    "        return dogage\n",
    "    elif humanage>2:\n",
    "        dogage=21+((humanage-2)*4)\n",
    "        return dogage\n",
    "        \n",
    "dogage(humanage)   "
   ]
  },
  {
   "cell_type": "markdown",
   "id": "cbca5c60",
   "metadata": {},
   "source": [
    "<table align=\"left\">\n",
    "    <tr>\n",
    "        <td width=\"6%\">\n",
    "            <img src=\"question_icon.png\">\n",
    "        </td>\n",
    "        <td>\n",
    "            <div align=\"left\", style=\"font-size:120%\">\n",
    "                <font color=\"#21618C\">\n",
    "                    <b> 10.\tGiven a list find all the pairs of num that sums up to a target value.\n",
    "Example – \n",
    " list1 – [3,2,6,1,5,4]\n",
    "target = 7\n",
    "find_pair(list,target)\n",
    "[(1, 6), (2, 5), (3, 4), (4, 3), (5, 2), (6, 1)]  </b>\n",
    "                </font>\n",
    "            </div>\n",
    "        </td>\n",
    "    </tr>\n",
    "</table>"
   ]
  },
  {
   "cell_type": "code",
   "execution_count": 104,
   "id": "5a29f090",
   "metadata": {},
   "outputs": [
    {
     "name": "stdout",
     "output_type": "stream",
     "text": [
      "7\n"
     ]
    },
    {
     "data": {
      "text/plain": [
       "[(3, 4), (2, 5), (6, 1), (1, 6), (5, 2), (4, 3)]"
      ]
     },
     "execution_count": 104,
     "metadata": {},
     "output_type": "execute_result"
    }
   ],
   "source": [
    "list1=[3,2,6,1,5,4]\n",
    "total=0\n",
    "target=int(input())\n",
    "l1=[]\n",
    "\n",
    "def find_pair(list1,target):\n",
    "    for i in range (len(list1)):\n",
    "        for j in range(len(list1)):\n",
    "            if list1[i]+list1[j]==target:\n",
    "                l1.append((list1[i],list1[j]))\n",
    "    return l1\n",
    "       \n",
    "    \n",
    "find_pair(list1,target)    "
   ]
  },
  {
   "cell_type": "code",
   "execution_count": 136,
   "id": "8ce9d425",
   "metadata": {},
   "outputs": [
    {
     "name": "stdout",
     "output_type": "stream",
     "text": [
      "[(3, 4), (2, 5), (6, 1), (1, 6), (5, 2), (4, 3)]\n"
     ]
    }
   ],
   "source": [
    "l=[3,2,6,1,5,4]\n",
    "l2=[]\n",
    "for i in l:\n",
    "    for j in l:\n",
    "        if i+j==7:\n",
    "            l2.append((i,j))\n",
    "            \n",
    "print(l2)"
   ]
  },
  {
   "cell_type": "markdown",
   "id": "b09873b3",
   "metadata": {},
   "source": [
    "<table align=\"left\">\n",
    "    <tr>\n",
    "        <td width=\"6%\">\n",
    "            <img src=\"question_icon.png\">\n",
    "        </td>\n",
    "        <td>\n",
    "            <div align=\"left\", style=\"font-size:120%\">\n",
    "                <font color=\"#21618C\">\n",
    "                    <b> 11.Write a python program to remove a specific digit from a number\n",
    "Input: list=[1234,242,441,44,48,123] k=4\n",
    "Output: [123,22,1,8,123]  </b>\n",
    "                </font>\n",
    "            </div>\n",
    "        </td>\n",
    "    </tr>\n",
    "</table>"
   ]
  },
  {
   "cell_type": "code",
   "execution_count": 16,
   "id": "ab4bf75b",
   "metadata": {},
   "outputs": [
    {
     "name": "stdout",
     "output_type": "stream",
     "text": [
      "['123', '22', '1', '', '8', '123']\n",
      "[123, 22, 1, 8, 123]\n"
     ]
    }
   ],
   "source": [
    "list1=[1234,242,441,44,48,123]\n",
    "l2=[]\n",
    "l3=[]\n",
    "k=4\n",
    "for i in list1:\n",
    "    n= str(i).replace('4','')\n",
    "    l2.append(n)\n",
    "print(l2)\n",
    "for i in l2:\n",
    "    if i.isdigit():\n",
    "        l3.append(int(i))\n",
    "print(l3)"
   ]
  },
  {
   "cell_type": "markdown",
   "id": "a6820963",
   "metadata": {},
   "source": [
    "<table align=\"left\">\n",
    "    <tr>\n",
    "        <td width=\"6%\">\n",
    "            <img src=\"question_icon.png\">\n",
    "        </td>\n",
    "        <td>\n",
    "            <div align=\"left\", style=\"font-size:120%\">\n",
    "                <font color=\"#21618C\">\n",
    "                    <b> 12.Rock Paper Scissor\n",
    "rock vs paper->paper wins \n",
    "rock vs scissors->rock wins \n",
    "paper vs scissors->scissors wins\n",
    "For the first output take a user defined function\n",
    "For the second output let the computer choose it.\n",
    "If the user does not  input Rock,Paper and Scissor in the same format ask the user to provide the input again\n",
    "  </b>\n",
    "                </font>\n",
    "            </div>\n",
    "        </td>\n",
    "    </tr>\n",
    "</table>"
   ]
  },
  {
   "cell_type": "code",
   "execution_count": 19,
   "id": "6a7d04ef",
   "metadata": {},
   "outputs": [
    {
     "name": "stdout",
     "output_type": "stream",
     "text": [
      "Enter your choice (Rock, Paper, Scissors): Rock\n",
      "You chose: rock\n",
      "Computer chose: scissors\n",
      "You win!\n",
      "Do you want to play again? (yes/no): yes\n",
      "Enter your choice (Rock, Paper, Scissors): Rock\n",
      "You chose: rock\n",
      "Computer chose: scissors\n",
      "You win!\n",
      "Do you want to play again? (yes/no): no\n"
     ]
    }
   ],
   "source": [
    "import random\n",
    "\n",
    "def user_choice():\n",
    "    while True:\n",
    "        user_input = input(\"Enter your choice (Rock, Paper, Scissors): \").strip().lower()\n",
    "        if user_input in ['rock', 'paper', 'scissors']:\n",
    "            return user_input\n",
    "        else:\n",
    "            print(\"Invalid input. Please enter 'Rock', 'Paper', or 'Scissors'.\")\n",
    "\n",
    "def computer_choice():\n",
    "    return random.choice(['rock', 'paper', 'scissors'])\n",
    "\n",
    "def determine_winner(user, computer):\n",
    "    if user == computer:\n",
    "        return \"It's a tie!\"\n",
    "    elif (user == 'rock' and computer == 'scissors') or \\\n",
    "         (user == 'scissors' and computer == 'paper') or \\\n",
    "         (user == 'paper' and computer == 'rock'):\n",
    "        return \"You win!\"\n",
    "    else:\n",
    "        return \"Computer wins!\"\n",
    "\n",
    "def play_game():\n",
    "    while True:\n",
    "        user = user_choice()\n",
    "        computer = computer_choice()\n",
    "        print(f\"You chose: {user}\")\n",
    "        print(f\"Computer chose: {computer}\")\n",
    "        print(determine_winner(user, computer))\n",
    "        play_again = input(\"Do you want to play again? (yes/no): \").strip().lower()\n",
    "        if play_again != 'yes':\n",
    "            break\n",
    "\n",
    "play_game()"
   ]
  },
  {
   "cell_type": "markdown",
   "id": "36b17d30",
   "metadata": {},
   "source": [
    "#0-->L\n",
    "#1-->R\n",
    "\n",
    "   N\n",
    "W      E\n",
    "   S"
   ]
  },
  {
   "cell_type": "code",
   "execution_count": null,
   "id": "8b9cb9cb",
   "metadata": {},
   "outputs": [],
   "source": [
    "d = input('Enetr direction: ')\n",
    "s=str(10110)\n",
    "for i in s:\n",
    "    if d=='n':\n",
    "        if i=='0':\n",
    "            d='w'\n",
    "        else:\n",
    "            d='e'\n",
    "    elif d=='s':\n",
    "        if i=='0':\n",
    "            d='e'\n",
    "        else:\n",
    "            d='w'\n",
    "    elif d=='w':\n",
    "        if i=='0':\n",
    "            d=''"
   ]
  }
 ],
 "metadata": {
  "kernelspec": {
   "display_name": "Python 3 (ipykernel)",
   "language": "python",
   "name": "python3"
  },
  "language_info": {
   "codemirror_mode": {
    "name": "ipython",
    "version": 3
   },
   "file_extension": ".py",
   "mimetype": "text/x-python",
   "name": "python",
   "nbconvert_exporter": "python",
   "pygments_lexer": "ipython3",
   "version": "3.11.3"
  }
 },
 "nbformat": 4,
 "nbformat_minor": 5
}
