{
 "cells": [
  {
   "cell_type": "code",
   "execution_count": 1,
   "id": "e1ca95d5",
   "metadata": {},
   "outputs": [],
   "source": [
    "#armstrong no"
   ]
  },
  {
   "cell_type": "code",
   "execution_count": 2,
   "id": "ef9756bb",
   "metadata": {},
   "outputs": [],
   "source": [
    "def is_armstrong(n):\n",
    "    power = len(str(n))\n",
    "    sm = 0\n",
    "    for i in str(n):\n",
    "        sm+= int(i)**power\n",
    "    if sm == n:\n",
    "        return True\n",
    "    else:\n",
    "        return False   "
   ]
  },
  {
   "cell_type": "code",
   "execution_count": 3,
   "id": "a37bf5f1",
   "metadata": {},
   "outputs": [
    {
     "data": {
      "text/plain": [
       "True"
      ]
     },
     "execution_count": 3,
     "metadata": {},
     "output_type": "execute_result"
    }
   ],
   "source": [
    "is_armstrong(153)"
   ]
  },
  {
   "cell_type": "code",
   "execution_count": 4,
   "id": "bdf9b019",
   "metadata": {},
   "outputs": [
    {
     "data": {
      "text/plain": [
       "False"
      ]
     },
     "execution_count": 4,
     "metadata": {},
     "output_type": "execute_result"
    }
   ],
   "source": [
    "is_armstrong(166)"
   ]
  },
  {
   "cell_type": "code",
   "execution_count": null,
   "id": "e27e1e81",
   "metadata": {
    "scrolled": true
   },
   "outputs": [],
   "source": [
    "import seaborn as sns\n",
    "import pandas as pd\n",
    "import numpy as np\n",
    "\n",
    "df = sns.load_dataset('titanic')\n",
    "df.head()"
   ]
  },
  {
   "cell_type": "code",
   "execution_count": null,
   "id": "8dc497a8",
   "metadata": {},
   "outputs": [],
   "source": [
    "df[df['sex']=='female']['fare'].mean()"
   ]
  },
  {
   "cell_type": "code",
   "execution_count": null,
   "id": "81ce9480",
   "metadata": {},
   "outputs": [],
   "source": [
    "df[(df['sex']=='female') & (df['age']>40)]['fare'].mean()"
   ]
  },
  {
   "cell_type": "code",
   "execution_count": null,
   "id": "f333aba4",
   "metadata": {},
   "outputs": [],
   "source": [
    "df['survived'].value_counts().plot(kind='pie',autopct='%1.2f%%')"
   ]
  },
  {
   "cell_type": "code",
   "execution_count": null,
   "id": "f8ce4e74",
   "metadata": {},
   "outputs": [],
   "source": [
    "sns.scatterplot(x='age',y='fare',data=df)"
   ]
  },
  {
   "cell_type": "code",
   "execution_count": null,
   "id": "cb8df541",
   "metadata": {},
   "outputs": [],
   "source": [
    "add = 0\n",
    "count = 0\n",
    "while count<5:\n",
    "    num = int(input('Enter number:'))\n",
    "    add+=num\n",
    "    count+=1\n",
    "    avg = add/count\n",
    "print(avg) "
   ]
  },
  {
   "cell_type": "code",
   "execution_count": null,
   "id": "45e19436",
   "metadata": {},
   "outputs": [],
   "source": [
    "l = {1,2,3,4,5}\n",
    "max(l)"
   ]
  },
  {
   "cell_type": "code",
   "execution_count": null,
   "id": "b8f64c1c",
   "metadata": {},
   "outputs": [],
   "source": [
    "s1 = 'listen'\n",
    "s2 = 'silent'\n",
    "if set(s1)==set(s2):\n",
    "    print('anagrams')\n",
    "else:\n",
    "    print('Not anagrams')"
   ]
  },
  {
   "cell_type": "code",
   "execution_count": null,
   "id": "74dbc2a2",
   "metadata": {},
   "outputs": [],
   "source": [
    "li = [1, 2, 2, 3, 4, 4, 5, 5, 6, 7, 8, 9, 9]\n",
    "t=tuple(set(list))\n",
    "print(t)\n",
    "print('min:', min(t))\n",
    "print('max:', max(t))"
   ]
  },
  {
   "cell_type": "code",
   "execution_count": null,
   "id": "9f97002e",
   "metadata": {},
   "outputs": [],
   "source": [
    "s = 'Hello world'\n",
    "\n",
    "# Write your code below\n",
    "d={}\n",
    "for i in s:\n",
    "    d[i]=s.count(i)\n",
    "print(d)\n"
   ]
  },
  {
   "cell_type": "code",
   "execution_count": null,
   "id": "c3846b33",
   "metadata": {},
   "outputs": [],
   "source": [
    "s = input()\n",
    "set1 = eval(s)\n",
    "\n",
    "# Write your code below\n",
    "print(set1)\n",
    "print(len(set1))\n",
    "print(3 in set1)"
   ]
  },
  {
   "cell_type": "code",
   "execution_count": null,
   "id": "a1dec867",
   "metadata": {},
   "outputs": [],
   "source": [
    "s= 'Hello123World456'\n",
    "s1=''\n",
    "for i in s:\n",
    "    if i.isdigit():\n",
    "        s1+=i\n",
    "print(s1.split())"
   ]
  },
  {
   "cell_type": "code",
   "execution_count": 2,
   "id": "06d17728",
   "metadata": {},
   "outputs": [
    {
     "name": "stdout",
     "output_type": "stream",
     "text": [
      "0 1 1 2 3 5 8 13 21 34 "
     ]
    }
   ],
   "source": [
    "n=10\n",
    "a=0\n",
    "b=1\n",
    "print(a,b, end =' ')\n",
    "for i in range (n-2):\n",
    "    t = a+b\n",
    "    a=b\n",
    "    b=t\n",
    "    print(t, end=' ')\n",
    "    "
   ]
  },
  {
   "cell_type": "code",
   "execution_count": null,
   "id": "d44703cb",
   "metadata": {},
   "outputs": [],
   "source": [
    "# Sample input string\n",
    "s = \"Hello123World456\"\n",
    "\n",
    "num = \"\"\n",
    "\n",
    "# Iterate through each character in the input string\n",
    "for i in s:\n",
    "    if i.isdigit():\n",
    "        num += i\n",
    "    elif num:\n",
    "        print(num)\n",
    "        num = \"\"\n",
    "if num:\n",
    "    print(num)\n"
   ]
  },
  {
   "cell_type": "code",
   "execution_count": null,
   "id": "98fb06f5",
   "metadata": {},
   "outputs": [],
   "source": [
    "l = ['apple', 'banana', 'cherry', 'date']\n",
    "l1=[]\n",
    "for i in range (len(l)):\n",
    "    if i%2!=0:\n",
    "        l[i]=l[i][::-1]\n",
    "    else:\n",
    "        l[i]\n",
    "print(l)"
   ]
  },
  {
   "cell_type": "code",
   "execution_count": null,
   "id": "cabc977b",
   "metadata": {},
   "outputs": [],
   "source": [
    "[l[i][::-1] if i%2!=0 else l[i] for i in range (len(l))]"
   ]
  },
  {
   "cell_type": "code",
   "execution_count": null,
   "id": "c3aa9b5a",
   "metadata": {},
   "outputs": [],
   "source": [
    "n=6\n",
    "a=65\n",
    "for i in range (1,n+1):\n",
    "    for j in range (1,i+1):\n",
    "        print(chr(a), end=' ')\n",
    "        a+=1\n",
    "    print()"
   ]
  },
  {
   "cell_type": "code",
   "execution_count": null,
   "id": "c4de37da",
   "metadata": {},
   "outputs": [],
   "source": [
    "for i in range (1,11):\n",
    "    print('2 *', i, '=', 2 * i)"
   ]
  },
  {
   "cell_type": "code",
   "execution_count": 9,
   "id": "72859887",
   "metadata": {},
   "outputs": [
    {
     "data": {
      "text/plain": [
       "(5.0, 5.0, 6.0, 5.0, 5.0)"
      ]
     },
     "execution_count": 9,
     "metadata": {},
     "output_type": "execute_result"
    }
   ],
   "source": [
    "a=(10, 20, 30, 40, 50)\n",
    "b=(2, 4, 5, 8, 10)\n",
    "tuple(map(lambda x,y: x/y, a,b))"
   ]
  },
  {
   "cell_type": "code",
   "execution_count": null,
   "id": "35dbc825",
   "metadata": {},
   "outputs": [],
   "source": [
    "words= [['Hello', 'World'], ['Python', 'is', 'fun'], ['I', 'love', 'coding']]\n",
    "l = [j for i in words for j in i if len(j)<5]\n",
    "print(l)\n"
   ]
  },
  {
   "cell_type": "code",
   "execution_count": null,
   "id": "c6f33e41",
   "metadata": {},
   "outputs": [],
   "source": [
    "a=('a', 'b', 'c')\n",
    "b={'d': 1, 'e': 2}\n",
    "a+=(b,)\n",
    "print(a)\n",
    "print(type(b,))\n"
   ]
  },
  {
   "cell_type": "code",
   "execution_count": null,
   "id": "7555be7f",
   "metadata": {
    "scrolled": true
   },
   "outputs": [],
   "source": [
    "d = {'Hello World': 1, 'Python is fun': 2}\n",
    "d1={}\n",
    "for k,v in d.items():\n",
    "    nk=k.replace(' ','')\n",
    "    d1[nk]=v\n",
    "print(d1)"
   ]
  },
  {
   "cell_type": "code",
   "execution_count": null,
   "id": "a6c0f873",
   "metadata": {},
   "outputs": [],
   "source": [
    "{k.replace(' ',''):v for k,v in d.items()}"
   ]
  },
  {
   "cell_type": "code",
   "execution_count": null,
   "id": "ba3ee802",
   "metadata": {},
   "outputs": [],
   "source": [
    "matrix=[[1, 2, 3], [4, 5, 6], [7, 8, 9]]\n",
    "\n",
    "[[i[j] for i in matrix]for j in range (3)]"
   ]
  },
  {
   "cell_type": "code",
   "execution_count": null,
   "id": "eb5403a2",
   "metadata": {},
   "outputs": [],
   "source": [
    "n =5\n",
    "cnt = 1\n",
    "cube=0\n",
    "while cnt <=5:\n",
    "    cube = cube+(cnt**3)\n",
    "    cnt+=1\n",
    "print(cube)"
   ]
  },
  {
   "cell_type": "code",
   "execution_count": null,
   "id": "8fae5d0b",
   "metadata": {
    "scrolled": true
   },
   "outputs": [],
   "source": [
    "[[i for i in range (1,4)]for j in range (5)]"
   ]
  },
  {
   "cell_type": "code",
   "execution_count": null,
   "id": "cc7461fe",
   "metadata": {},
   "outputs": [],
   "source": [
    "l =[2,3,3,2,4,5,3]\n",
    "l.sort(reverse=True)\n",
    "l"
   ]
  },
  {
   "cell_type": "code",
   "execution_count": 10,
   "id": "6498ed20",
   "metadata": {},
   "outputs": [
    {
     "data": {
      "text/plain": [
       "['d', 'l', 'r', 'o', 'w', ' ', 'o', 'l', 'l', 'e', 'h']"
      ]
     },
     "execution_count": 10,
     "metadata": {},
     "output_type": "execute_result"
    }
   ],
   "source": [
    "s='hello world'\n",
    "reversed_string = [s[i] for i in range(len(s)-1, -1, -1)]\n",
    "(reversed_string)"
   ]
  },
  {
   "cell_type": "code",
   "execution_count": 14,
   "id": "8a0aa205",
   "metadata": {},
   "outputs": [
    {
     "data": {
      "text/plain": [
       "['d', 'l', 'r', 'o', 'w', ' ', 'o', 'l', 'l', 'e', 'h']"
      ]
     },
     "execution_count": 14,
     "metadata": {},
     "output_type": "execute_result"
    }
   ],
   "source": [
    "[s[i] for i in range (len(s)-1,-1,-1)]"
   ]
  },
  {
   "cell_type": "code",
   "execution_count": 11,
   "id": "74ccf88d",
   "metadata": {},
   "outputs": [
    {
     "data": {
      "text/plain": [
       "['HELLO', 'WORLD']"
      ]
     },
     "execution_count": 11,
     "metadata": {},
     "output_type": "execute_result"
    }
   ],
   "source": [
    "words=['hello', 'world']\n",
    "list(map(lambda x: x.upper(),words))"
   ]
  },
  {
   "cell_type": "code",
   "execution_count": 14,
   "id": "cf35c947",
   "metadata": {},
   "outputs": [
    {
     "name": "stdout",
     "output_type": "stream",
     "text": [
      "1 2 3 4 5\n",
      "Found\n"
     ]
    }
   ],
   "source": [
    "numbers = input()\n",
    "\n",
    "# Write your code below\n",
    "numbers = list(map(int, numbers.split()))\n",
    "if 5 in numbers:\n",
    "    print('Found')\n",
    "else:\n",
    "    print('Not Found')"
   ]
  },
  {
   "cell_type": "code",
   "execution_count": 21,
   "id": "e38863e1",
   "metadata": {},
   "outputs": [
    {
     "name": "stdout",
     "output_type": "stream",
     "text": [
      "{3, 4}\n"
     ]
    }
   ],
   "source": [
    "from functools import reduce\n",
    "l=[[1, 2, 3, 4], [2, 3, 4, 5], [3, 4, 5, 6]]\n",
    "sets = [set(lst) for lst in l]\n",
    "intersection = reduce(lambda a, b: a & b, sets)\n",
    "print(intersection)"
   ]
  },
  {
   "cell_type": "code",
   "execution_count": 62,
   "id": "f3ac7c7b",
   "metadata": {},
   "outputs": [
    {
     "name": "stdout",
     "output_type": "stream",
     "text": [
      "17\n"
     ]
    }
   ],
   "source": [
    "n =10\n",
    "p_sum =0\n",
    "for i in range (2,n+1):\n",
    "    is_prime = True\n",
    "    for j in range (2,i):\n",
    "        if i%j==0:\n",
    "            is_prime = False\n",
    "            break\n",
    "    else:\n",
    "        if is_prime:\n",
    "            p_sum+=i\n",
    "print(p_sum)"
   ]
  },
  {
   "cell_type": "code",
   "execution_count": 68,
   "id": "c6e9dabc",
   "metadata": {},
   "outputs": [
    {
     "data": {
      "text/plain": [
       "4"
      ]
     },
     "execution_count": 68,
     "metadata": {},
     "output_type": "execute_result"
    }
   ],
   "source": [
    "int(9**0.5)+1"
   ]
  }
 ],
 "metadata": {
  "kernelspec": {
   "display_name": "Python 3 (ipykernel)",
   "language": "python",
   "name": "python3"
  },
  "language_info": {
   "codemirror_mode": {
    "name": "ipython",
    "version": 3
   },
   "file_extension": ".py",
   "mimetype": "text/x-python",
   "name": "python",
   "nbconvert_exporter": "python",
   "pygments_lexer": "ipython3",
   "version": "3.11.3"
  }
 },
 "nbformat": 4,
 "nbformat_minor": 5
}
