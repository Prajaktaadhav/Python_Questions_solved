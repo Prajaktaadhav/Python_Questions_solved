{
 "cells": [
  {
   "cell_type": "code",
   "execution_count": 1,
   "id": "d080bd71",
   "metadata": {},
   "outputs": [],
   "source": [
    "x = 'abc'\n",
    "y= '10.5'"
   ]
  },
  {
   "cell_type": "code",
   "execution_count": 2,
   "id": "5145cadb",
   "metadata": {},
   "outputs": [
    {
     "ename": "ValueError",
     "evalue": "invalid literal for int() with base 10: '10.5'",
     "output_type": "error",
     "traceback": [
      "\u001b[1;31m---------------------------------------------------------------------------\u001b[0m",
      "\u001b[1;31mValueError\u001b[0m                                Traceback (most recent call last)",
      "\u001b[1;32mC:\\Users\\DEEPAL~1\\AppData\\Local\\Temp/ipykernel_13920/3927908206.py\u001b[0m in \u001b[0;36m<module>\u001b[1;34m\u001b[0m\n\u001b[1;32m----> 1\u001b[1;33m \u001b[0mint\u001b[0m\u001b[1;33m(\u001b[0m\u001b[0my\u001b[0m\u001b[1;33m)\u001b[0m\u001b[1;33m\u001b[0m\u001b[1;33m\u001b[0m\u001b[0m\n\u001b[0m",
      "\u001b[1;31mValueError\u001b[0m: invalid literal for int() with base 10: '10.5'"
     ]
    }
   ],
   "source": [
    "int(y)"
   ]
  },
  {
   "cell_type": "code",
   "execution_count": 3,
   "id": "79df5a18",
   "metadata": {},
   "outputs": [
    {
     "data": {
      "text/plain": [
       "1010"
      ]
     },
     "execution_count": 3,
     "metadata": {},
     "output_type": "execute_result"
    }
   ],
   "source": [
    "z = 1010\n",
    "int(z)"
   ]
  },
  {
   "cell_type": "code",
   "execution_count": 4,
   "id": "811f48b8",
   "metadata": {},
   "outputs": [
    {
     "data": {
      "text/plain": [
       "'0b10'"
      ]
     },
     "execution_count": 4,
     "metadata": {},
     "output_type": "execute_result"
    }
   ],
   "source": [
    "bin(2)"
   ]
  },
  {
   "cell_type": "code",
   "execution_count": 5,
   "id": "91e83c77",
   "metadata": {},
   "outputs": [
    {
     "data": {
      "text/plain": [
       "'0o12'"
      ]
     },
     "execution_count": 5,
     "metadata": {},
     "output_type": "execute_result"
    }
   ],
   "source": [
    "oct(10)"
   ]
  },
  {
   "cell_type": "code",
   "execution_count": 6,
   "id": "d1be1beb",
   "metadata": {},
   "outputs": [
    {
     "data": {
      "text/plain": [
       "'0xf'"
      ]
     },
     "execution_count": 6,
     "metadata": {},
     "output_type": "execute_result"
    }
   ],
   "source": [
    "hex(15)"
   ]
  },
  {
   "cell_type": "code",
   "execution_count": 7,
   "id": "9e0ac7bd",
   "metadata": {},
   "outputs": [
    {
     "data": {
      "text/plain": [
       "False"
      ]
     },
     "execution_count": 7,
     "metadata": {},
     "output_type": "execute_result"
    }
   ],
   "source": [
    "x<y"
   ]
  },
  {
   "cell_type": "code",
   "execution_count": 8,
   "id": "3b5d3e9d",
   "metadata": {},
   "outputs": [
    {
     "data": {
      "text/plain": [
       "\"'a'\""
      ]
     },
     "execution_count": 8,
     "metadata": {},
     "output_type": "execute_result"
    }
   ],
   "source": [
    "ascii('a')"
   ]
  },
  {
   "cell_type": "code",
   "execution_count": 9,
   "id": "d6e653a9",
   "metadata": {},
   "outputs": [
    {
     "data": {
      "text/plain": [
       "97"
      ]
     },
     "execution_count": 9,
     "metadata": {},
     "output_type": "execute_result"
    }
   ],
   "source": [
    "ord('a')"
   ]
  },
  {
   "cell_type": "code",
   "execution_count": 10,
   "id": "23be6669",
   "metadata": {},
   "outputs": [
    {
     "data": {
      "text/plain": [
       "49"
      ]
     },
     "execution_count": 10,
     "metadata": {},
     "output_type": "execute_result"
    }
   ],
   "source": [
    "ord('1')"
   ]
  },
  {
   "cell_type": "code",
   "execution_count": 11,
   "id": "b9cb660e",
   "metadata": {},
   "outputs": [
    {
     "ename": "TypeError",
     "evalue": "'<' not supported between instances of 'str' and 'int'",
     "output_type": "error",
     "traceback": [
      "\u001b[1;31m---------------------------------------------------------------------------\u001b[0m",
      "\u001b[1;31mTypeError\u001b[0m                                 Traceback (most recent call last)",
      "\u001b[1;32mC:\\Users\\DEEPAL~1\\AppData\\Local\\Temp/ipykernel_13920/3661198730.py\u001b[0m in \u001b[0;36m<module>\u001b[1;34m\u001b[0m\n\u001b[1;32m----> 1\u001b[1;33m \u001b[1;34m'abc'\u001b[0m\u001b[1;33m<\u001b[0m\u001b[1;36m10\u001b[0m\u001b[1;33m\u001b[0m\u001b[1;33m\u001b[0m\u001b[0m\n\u001b[0m",
      "\u001b[1;31mTypeError\u001b[0m: '<' not supported between instances of 'str' and 'int'"
     ]
    }
   ],
   "source": [
    "'abc'<10"
   ]
  },
  {
   "cell_type": "code",
   "execution_count": 12,
   "id": "8748153f",
   "metadata": {},
   "outputs": [
    {
     "ename": "TypeError",
     "evalue": "'<' not supported between instances of 'int' and 'str'",
     "output_type": "error",
     "traceback": [
      "\u001b[1;31m---------------------------------------------------------------------------\u001b[0m",
      "\u001b[1;31mTypeError\u001b[0m                                 Traceback (most recent call last)",
      "\u001b[1;32mC:\\Users\\DEEPAL~1\\AppData\\Local\\Temp/ipykernel_13920/3196701976.py\u001b[0m in \u001b[0;36m<module>\u001b[1;34m\u001b[0m\n\u001b[1;32m----> 1\u001b[1;33m \u001b[1;36m10\u001b[0m\u001b[1;33m<\u001b[0m\u001b[1;34m'abc'\u001b[0m\u001b[1;33m\u001b[0m\u001b[1;33m\u001b[0m\u001b[0m\n\u001b[0m",
      "\u001b[1;31mTypeError\u001b[0m: '<' not supported between instances of 'int' and 'str'"
     ]
    }
   ],
   "source": [
    "10<'abc'"
   ]
  },
  {
   "cell_type": "code",
   "execution_count": 13,
   "id": "cd8916aa",
   "metadata": {},
   "outputs": [
    {
     "data": {
      "text/plain": [
       "False"
      ]
     },
     "execution_count": 13,
     "metadata": {},
     "output_type": "execute_result"
    }
   ],
   "source": [
    "True < False"
   ]
  },
  {
   "cell_type": "code",
   "execution_count": 15,
   "id": "8754bd6b",
   "metadata": {},
   "outputs": [
    {
     "name": "stdout",
     "output_type": "stream",
     "text": [
      "palidrome\n"
     ]
    }
   ],
   "source": [
    "# Palindrome\n",
    "s = \"madam\"\n",
    "if s == s[::-1]:\n",
    "    print(\"palidrome\")\n",
    "else:\n",
    "    print(\"Not palindrome\")"
   ]
  },
  {
   "cell_type": "code",
   "execution_count": 18,
   "id": "e0893d7f",
   "metadata": {},
   "outputs": [
    {
     "name": "stdout",
     "output_type": "stream",
     "text": [
      "Invalid\n"
     ]
    }
   ],
   "source": [
    "# Validation of the strings\n",
    "# Validations for name of a person - 1. No number 2. No special char\n",
    "name = 'Deepali@'\n",
    "if name.isalpha():\n",
    "    print(\"Valid\")\n",
    "else:\n",
    "    print(\"Invalid\")"
   ]
  },
  {
   "cell_type": "code",
   "execution_count": null,
   "id": "0631a6d0",
   "metadata": {},
   "outputs": [],
   "source": [
    "# Validations of Credit card number - all digits, 16 digits"
   ]
  },
  {
   "cell_type": "code",
   "execution_count": 8,
   "id": "83fcd4c7",
   "metadata": {},
   "outputs": [
    {
     "name": "stdout",
     "output_type": "stream",
     "text": [
      "invalid\n"
     ]
    }
   ],
   "source": [
    "d = 1234567898765\n",
    "if len(str(d))== 16:\n",
    "    if (str(d)).isdigit():\n",
    "        print('Valid')\n",
    "else:\n",
    "    print('invalid')"
   ]
  },
  {
   "cell_type": "code",
   "execution_count": 19,
   "id": "4ee48e4c",
   "metadata": {},
   "outputs": [
    {
     "data": {
      "text/plain": [
       "'World'"
      ]
     },
     "execution_count": 19,
     "metadata": {},
     "output_type": "execute_result"
    }
   ],
   "source": [
    "# \"Hello World\"\n",
    "# Read \"World\"\n",
    "s = \"Hello World\"\n",
    "s[6:]"
   ]
  },
  {
   "cell_type": "code",
   "execution_count": 20,
   "id": "43424af3",
   "metadata": {},
   "outputs": [
    {
     "data": {
      "text/plain": [
       "'World'"
      ]
     },
     "execution_count": 20,
     "metadata": {},
     "output_type": "execute_result"
    }
   ],
   "source": [
    "s.split()[1]"
   ]
  },
  {
   "cell_type": "code",
   "execution_count": 21,
   "id": "3bc1de41",
   "metadata": {},
   "outputs": [
    {
     "data": {
      "text/plain": [
       "'World'"
      ]
     },
     "execution_count": 21,
     "metadata": {},
     "output_type": "execute_result"
    }
   ],
   "source": [
    "s[-5:]"
   ]
  },
  {
   "cell_type": "code",
   "execution_count": 24,
   "id": "7889fd8a",
   "metadata": {},
   "outputs": [],
   "source": [
    "date = '04/03/2024'\n",
    "l = date.split('/')\n",
    "day,month,year = l[0],l[1],l[2]"
   ]
  },
  {
   "cell_type": "code",
   "execution_count": null,
   "id": "b4656ef0",
   "metadata": {},
   "outputs": [],
   "source": []
  },
  {
   "cell_type": "code",
   "execution_count": 25,
   "id": "b843aab1",
   "metadata": {},
   "outputs": [
    {
     "data": {
      "text/plain": [
       "('04', '03', '2024')"
      ]
     },
     "execution_count": 25,
     "metadata": {},
     "output_type": "execute_result"
    }
   ],
   "source": [
    "day,month,year"
   ]
  },
  {
   "cell_type": "code",
   "execution_count": 28,
   "id": "492b5c0b",
   "metadata": {},
   "outputs": [
    {
     "data": {
      "text/plain": [
       "('04', '03', '2024')"
      ]
     },
     "execution_count": 28,
     "metadata": {},
     "output_type": "execute_result"
    }
   ],
   "source": [
    "day,month,year = date[:2], date[3:5],date[6:]\n",
    "day,month,year"
   ]
  },
  {
   "cell_type": "code",
   "execution_count": 9,
   "id": "515bc949",
   "metadata": {},
   "outputs": [
    {
     "name": "stdout",
     "output_type": "stream",
     "text": [
      "Palidrome\n"
     ]
    }
   ],
   "source": [
    "s = 'madam'\n",
    "for i in range(len(s)):\n",
    "    if s[i] != s[len(s)-1-i]: # in the first iteration 0--> last index ; 1 --> second last index\n",
    "        print(\"Not palindrome\")\n",
    "        break\n",
    "else:\n",
    "    print(\"Palidrome\")"
   ]
  },
  {
   "cell_type": "code",
   "execution_count": 11,
   "id": "dba203a2",
   "metadata": {},
   "outputs": [
    {
     "name": "stdout",
     "output_type": "stream",
     "text": [
      "0\n",
      "1\n",
      "2\n",
      "3\n",
      "4\n"
     ]
    }
   ],
   "source": [
    "for i in range (len(s)):\n",
    "    print(i)"
   ]
  },
  {
   "cell_type": "code",
   "execution_count": 16,
   "id": "be4dce0c",
   "metadata": {},
   "outputs": [
    {
     "name": "stdout",
     "output_type": "stream",
     "text": [
      "Not prime\n"
     ]
    }
   ],
   "source": [
    "n = 4\n",
    "for i in range (2,n):\n",
    "    if n%i == 0:\n",
    "        print('Not prime')\n",
    "        break\n",
    "else:\n",
    "    print('prime')"
   ]
  },
  {
   "cell_type": "code",
   "execution_count": 40,
   "id": "e04df822",
   "metadata": {},
   "outputs": [
    {
     "data": {
      "text/plain": [
       "'Hello World'"
      ]
     },
     "execution_count": 40,
     "metadata": {},
     "output_type": "execute_result"
    }
   ],
   "source": [
    "s = \" Hello World \"\n",
    "s.strip()"
   ]
  },
  {
   "cell_type": "code",
   "execution_count": 42,
   "id": "76de121a",
   "metadata": {},
   "outputs": [
    {
     "data": {
      "text/plain": [
       "' Hello World'"
      ]
     },
     "execution_count": 42,
     "metadata": {},
     "output_type": "execute_result"
    }
   ],
   "source": [
    "s.rstrip()"
   ]
  },
  {
   "cell_type": "code",
   "execution_count": 43,
   "id": "b313d222",
   "metadata": {},
   "outputs": [],
   "source": [
    "l = ['C','C++','Python','SQL']\n",
    "l.sort()"
   ]
  },
  {
   "cell_type": "code",
   "execution_count": 44,
   "id": "47318fb5",
   "metadata": {},
   "outputs": [
    {
     "data": {
      "text/plain": [
       "['C', 'C++', 'Python', 'SQL']"
      ]
     },
     "execution_count": 44,
     "metadata": {},
     "output_type": "execute_result"
    }
   ],
   "source": [
    "l"
   ]
  },
  {
   "cell_type": "code",
   "execution_count": 46,
   "id": "b28243c2",
   "metadata": {},
   "outputs": [
    {
     "data": {
      "text/plain": [
       "['SQL', 'Python', 'C++', 'C']"
      ]
     },
     "execution_count": 46,
     "metadata": {},
     "output_type": "execute_result"
    }
   ],
   "source": [
    "sorted(l,reverse=True)"
   ]
  },
  {
   "cell_type": "code",
   "execution_count": 47,
   "id": "25af0bbe",
   "metadata": {},
   "outputs": [
    {
     "data": {
      "text/plain": [
       "['C', 'C++', 'Python', 'SQL']"
      ]
     },
     "execution_count": 47,
     "metadata": {},
     "output_type": "execute_result"
    }
   ],
   "source": [
    "l"
   ]
  },
  {
   "cell_type": "code",
   "execution_count": 48,
   "id": "b686b1ef",
   "metadata": {},
   "outputs": [],
   "source": [
    "l.sort(key=len)"
   ]
  },
  {
   "cell_type": "code",
   "execution_count": 49,
   "id": "34e61e25",
   "metadata": {},
   "outputs": [
    {
     "data": {
      "text/plain": [
       "['C', 'C++', 'SQL', 'Python']"
      ]
     },
     "execution_count": 49,
     "metadata": {},
     "output_type": "execute_result"
    }
   ],
   "source": [
    "l"
   ]
  },
  {
   "cell_type": "code",
   "execution_count": 50,
   "id": "39806029",
   "metadata": {},
   "outputs": [],
   "source": [
    "def m(no):\n",
    "    return no%3"
   ]
  },
  {
   "cell_type": "code",
   "execution_count": 51,
   "id": "4a3b16d4",
   "metadata": {},
   "outputs": [],
   "source": [
    "l1 = [10,20,40,30,55]\n",
    "l1.sort(key =m)"
   ]
  },
  {
   "cell_type": "code",
   "execution_count": 52,
   "id": "ebca6c2f",
   "metadata": {},
   "outputs": [
    {
     "data": {
      "text/plain": [
       "[30, 10, 40, 55, 20]"
      ]
     },
     "execution_count": 52,
     "metadata": {},
     "output_type": "execute_result"
    }
   ],
   "source": [
    "l1"
   ]
  },
  {
   "cell_type": "code",
   "execution_count": 53,
   "id": "9b7e16aa",
   "metadata": {},
   "outputs": [
    {
     "data": {
      "text/plain": [
       "[30, 10, 40, 55, 20, 35, 45]"
      ]
     },
     "execution_count": 53,
     "metadata": {},
     "output_type": "execute_result"
    }
   ],
   "source": [
    "# insert, append and extend\n",
    "l1.extend((35,45))\n",
    "l1"
   ]
  },
  {
   "cell_type": "code",
   "execution_count": 1,
   "id": "8aed8858",
   "metadata": {},
   "outputs": [
    {
     "name": "stdout",
     "output_type": "stream",
     "text": [
      "1 5\n",
      "3 4\n",
      "5 3\n",
      "[2, 4]\n"
     ]
    }
   ],
   "source": [
    "L=[1,2,3,4,5]\n",
    "for i in L:\n",
    "    print(i,len(L))\n",
    "    L.remove(i) #[2,3,4,5] [2,4,5]\n",
    "print(L)"
   ]
  },
  {
   "cell_type": "code",
   "execution_count": 58,
   "id": "4e472439",
   "metadata": {},
   "outputs": [
    {
     "ename": "IndexError",
     "evalue": "pop index out of range",
     "output_type": "error",
     "traceback": [
      "\u001b[1;31m---------------------------------------------------------------------------\u001b[0m",
      "\u001b[1;31mIndexError\u001b[0m                                Traceback (most recent call last)",
      "\u001b[1;32mC:\\Users\\DEEPAL~1\\AppData\\Local\\Temp/ipykernel_13920/3224806273.py\u001b[0m in \u001b[0;36m<module>\u001b[1;34m\u001b[0m\n\u001b[0;32m      1\u001b[0m \u001b[1;31m# remove and pop\u001b[0m\u001b[1;33m\u001b[0m\u001b[1;33m\u001b[0m\u001b[0m\n\u001b[1;32m----> 2\u001b[1;33m \u001b[0ml\u001b[0m\u001b[1;33m.\u001b[0m\u001b[0mpop\u001b[0m\u001b[1;33m(\u001b[0m\u001b[1;36m10\u001b[0m\u001b[1;33m)\u001b[0m\u001b[1;33m\u001b[0m\u001b[1;33m\u001b[0m\u001b[0m\n\u001b[0m",
      "\u001b[1;31mIndexError\u001b[0m: pop index out of range"
     ]
    }
   ],
   "source": [
    "# remove and pop\n",
    "l.pop(10) # 10 is index"
   ]
  },
  {
   "cell_type": "code",
   "execution_count": 59,
   "id": "52ef3c9b",
   "metadata": {},
   "outputs": [
    {
     "data": {
      "text/plain": [
       "'Python'"
      ]
     },
     "execution_count": 59,
     "metadata": {},
     "output_type": "execute_result"
    }
   ],
   "source": [
    "l.pop()"
   ]
  },
  {
   "cell_type": "code",
   "execution_count": 60,
   "id": "d82e8b5f",
   "metadata": {},
   "outputs": [
    {
     "name": "stdout",
     "output_type": "stream",
     "text": [
      "4321\n"
     ]
    }
   ],
   "source": [
    "# Given a 4 digit number, reverse number without type casting\n",
    "num = 1234\n",
    "reverse= 0\n",
    "while num != 0:\n",
    "        rem = num % 10 # 4 ; 3 ; 2 ;1\n",
    "        reverse = reverse * 10 + rem # 4 ; 43 ;432 ; 4321\n",
    "        num = num // 10 # 123 ; 12 ; 1 ;0\n",
    "print(reverse)\n"
   ]
  },
  {
   "cell_type": "code",
   "execution_count": 17,
   "id": "850d17ff",
   "metadata": {},
   "outputs": [
    {
     "data": {
      "text/plain": [
       "4321"
      ]
     },
     "execution_count": 17,
     "metadata": {},
     "output_type": "execute_result"
    }
   ],
   "source": [
    "num = 1234\n",
    "rev = int(str(num)[::-1])\n",
    "rev"
   ]
  },
  {
   "cell_type": "code",
   "execution_count": 62,
   "id": "d1847250",
   "metadata": {},
   "outputs": [
    {
     "name": "stdout",
     "output_type": "stream",
     "text": [
      "2\n"
     ]
    },
    {
     "data": {
      "text/plain": [
       "[1, 3, 4, 5, 3, 7]"
      ]
     },
     "execution_count": 62,
     "metadata": {},
     "output_type": "execute_result"
    }
   ],
   "source": [
    "l = [1,2,3,4,5,2,3,7]\n",
    "# Remove all 2\n",
    "print(l.count(2))\n",
    "for i in range(l.count(2)):\n",
    "    l.remove(2)\n",
    "l"
   ]
  },
  {
   "cell_type": "code",
   "execution_count": 65,
   "id": "15cced66",
   "metadata": {},
   "outputs": [
    {
     "data": {
      "text/plain": [
       "[1, 2, 3]"
      ]
     },
     "execution_count": 65,
     "metadata": {},
     "output_type": "execute_result"
    }
   ],
   "source": [
    "l = [1,2,3,4,5,2,3,7,1,8,3]\n",
    "# Show all duplicates\n",
    "dup = []\n",
    "for i in set(l):\n",
    "    if l.count(i)>1:\n",
    "        dup.append(i)\n",
    "dup"
   ]
  },
  {
   "cell_type": "code",
   "execution_count": 66,
   "id": "2200c8c1",
   "metadata": {},
   "outputs": [
    {
     "data": {
      "text/plain": [
       "[1, 2, 3, 4, 5, 7, 8]"
      ]
     },
     "execution_count": 66,
     "metadata": {},
     "output_type": "execute_result"
    }
   ],
   "source": [
    "s = set(l)\n",
    "list(s)"
   ]
  },
  {
   "cell_type": "raw",
   "id": "fd0908f2",
   "metadata": {},
   "source": [
    "Generate a list of even numbers between 1 to 20\n",
    "Generate a list of ascii values for the given string\n",
    "Give a list of strings whose length is more than 4 #Use any list of strings as input\n",
    "Generate a list with the squares  of even number in the input list\n",
    "Generate a nested list [[1,2,3],[4,5,6]]\n"
   ]
  },
  {
   "cell_type": "code",
   "execution_count": 67,
   "id": "20cf3206",
   "metadata": {},
   "outputs": [
    {
     "data": {
      "text/plain": [
       "[68, 101, 101, 112, 97, 108, 105]"
      ]
     },
     "execution_count": 67,
     "metadata": {},
     "output_type": "execute_result"
    }
   ],
   "source": [
    "asci = [ord(i) for i in 'Deepali']\n",
    "asci"
   ]
  },
  {
   "cell_type": "code",
   "execution_count": 68,
   "id": "0d234880",
   "metadata": {},
   "outputs": [
    {
     "data": {
      "text/plain": [
       "['assdfs', 'sdfsd']"
      ]
     },
     "execution_count": 68,
     "metadata": {},
     "output_type": "execute_result"
    }
   ],
   "source": [
    "large = [i for i in ['a','xyz','assdfs','sdfsd','er','tt'] if len(i)>4]\n",
    "large"
   ]
  },
  {
   "cell_type": "code",
   "execution_count": 3,
   "id": "258f2489",
   "metadata": {},
   "outputs": [
    {
     "data": {
      "text/plain": [
       "[24, 68, 8, 108, 108]"
      ]
     },
     "execution_count": 3,
     "metadata": {},
     "output_type": "execute_result"
    }
   ],
   "source": [
    "list1 = [12,23,34,4,54,54]\n",
    "sq = [i*2 for i in list1 if i%2==0]\n",
    "sq"
   ]
  },
  {
   "cell_type": "code",
   "execution_count": 6,
   "id": "0994d260",
   "metadata": {},
   "outputs": [
    {
     "data": {
      "text/plain": [
       "[24, 46, 68, 8, 108, 108]"
      ]
     },
     "execution_count": 6,
     "metadata": {},
     "output_type": "execute_result"
    }
   ],
   "source": [
    "[i*2 for i in list1]"
   ]
  },
  {
   "cell_type": "code",
   "execution_count": 72,
   "id": "03f3e258",
   "metadata": {},
   "outputs": [
    {
     "data": {
      "text/plain": [
       "[[1, 2, 3], [4, 5, 6]]"
      ]
     },
     "execution_count": 72,
     "metadata": {},
     "output_type": "execute_result"
    }
   ],
   "source": [
    "nest_list = [[i+j for i in range(3)] for j in range(1,6,3)]\n",
    "nest_list"
   ]
  },
  {
   "cell_type": "code",
   "execution_count": 23,
   "id": "ef678858",
   "metadata": {},
   "outputs": [
    {
     "name": "stdout",
     "output_type": "stream",
     "text": [
      "1\n",
      "4\n"
     ]
    }
   ],
   "source": [
    "for j in (range(1,6,3)):\n",
    "    print(j)"
   ]
  },
  {
   "cell_type": "code",
   "execution_count": 24,
   "id": "5aecd603",
   "metadata": {
    "scrolled": false
   },
   "outputs": [
    {
     "name": "stdout",
     "output_type": "stream",
     "text": [
      "0\n",
      "1\n",
      "2\n"
     ]
    }
   ],
   "source": [
    "for i in (range(3)):\n",
    "    print(i)"
   ]
  },
  {
   "cell_type": "code",
   "execution_count": 26,
   "id": "7f85877d",
   "metadata": {},
   "outputs": [
    {
     "data": {
      "text/plain": [
       "[[0, 1, 2], [0, 1, 2]]"
      ]
     },
     "execution_count": 26,
     "metadata": {},
     "output_type": "execute_result"
    }
   ],
   "source": [
    "nest_list = [[i for i in range(3)] for j in range(2)]\n",
    "nest_list"
   ]
  },
  {
   "cell_type": "raw",
   "id": "5c28ba1b",
   "metadata": {},
   "source": [
    "• Common values present in two lists. \n",
    "• Values in a list if the index are divisible by given integer. \n",
    "• Consonants in a given string / missing vowels in a given string. \n",
    "• Find null values from dataset \n",
    "• Give summary of the data set \n",
    "• Filter the data (whose gender is female, above 30yrs and doesn't have a child) \n",
    "• Python program to swap to numbers in a list \n",
    "• What libraries you know in Python? \n",
    "• Python code to write Fibonacci series \n",
    "• Write a python program to find the missing element in a list \n",
    "• Write a program to print factorial number \n",
    "• Sort a given array \n",
    "• Difference between list and tuples \n",
    "• Coding question: \n",
    "• \"For a given string-- \n",
    "• return vowels --> as upper case \n",
    "• consonant will be shifted to 3rd right \n",
    "• Example: zap ---> dAs\"\n"
   ]
  },
  {
   "cell_type": "code",
   "execution_count": 31,
   "id": "893bcea8",
   "metadata": {},
   "outputs": [
    {
     "data": {
      "text/plain": [
       "{4, 12, 23}"
      ]
     },
     "execution_count": 31,
     "metadata": {},
     "output_type": "execute_result"
    }
   ],
   "source": [
    "# Common values present in two lists. \n",
    "list1 = [12,23,34,4,54,54,4]\n",
    "list2 = [12,23,7,8,9,4,12]\n",
    "s = set()\n",
    "\n",
    "for i in list1:\n",
    "    if i in list2:\n",
    "        s.add(i)\n",
    "s"
   ]
  },
  {
   "cell_type": "code",
   "execution_count": 33,
   "id": "cfefd53d",
   "metadata": {},
   "outputs": [
    {
     "data": {
      "text/plain": [
       "[12, 4, 23]"
      ]
     },
     "execution_count": 33,
     "metadata": {},
     "output_type": "execute_result"
    }
   ],
   "source": [
    "l = [i for i in list1 if i in list2]\n",
    "list(set(l))"
   ]
  },
  {
   "cell_type": "code",
   "execution_count": 49,
   "id": "9e021fd0",
   "metadata": {},
   "outputs": [
    {
     "name": "stdout",
     "output_type": "stream",
     "text": [
      "[34, 54, 4]\n"
     ]
    }
   ],
   "source": [
    "# Values in a list if the index are divisible by given integer. \n",
    "list1 = [12, 23, 34, 4, 54, 54, 4]\n",
    "n = 2\n",
    "l = [list1[i] for i in range(1,len(list1)) if i % n == 0]\n",
    "print(l)"
   ]
  },
  {
   "cell_type": "code",
   "execution_count": 53,
   "id": "85cf45b4",
   "metadata": {},
   "outputs": [
    {
     "data": {
      "text/plain": [
       "['b', 'c', 'd', 'f', 'g', 'h']"
      ]
     },
     "execution_count": 53,
     "metadata": {},
     "output_type": "execute_result"
    }
   ],
   "source": [
    "# • Consonants in a given string  \n",
    "a='abcdEfghi123'\n",
    "l = [i for i in a if i.isalpha() and i.lower() not in 'aeiou']\n",
    "l"
   ]
  },
  {
   "cell_type": "code",
   "execution_count": 59,
   "id": "4803713e",
   "metadata": {},
   "outputs": [
    {
     "name": "stdout",
     "output_type": "stream",
     "text": [
      "{'a', 'i', 'e'}\n",
      "['u', 'o']\n"
     ]
    }
   ],
   "source": [
    "# missing vowels in a given string.\n",
    "a='abcdEfghi123'\n",
    "vow = set('aeiou')\n",
    "l = {i.lower() for i in a if i.lower() in 'aeiou'}\n",
    "print(l)\n",
    "print(list(vow - l))"
   ]
  },
  {
   "cell_type": "code",
   "execution_count": 60,
   "id": "91a9c7fa",
   "metadata": {},
   "outputs": [],
   "source": [
    "import seaborn as sns\n",
    "import numpy as np\n",
    "import pandas as pd"
   ]
  },
  {
   "cell_type": "code",
   "execution_count": 61,
   "id": "242c8762",
   "metadata": {},
   "outputs": [
    {
     "data": {
      "text/html": [
       "<div>\n",
       "<style scoped>\n",
       "    .dataframe tbody tr th:only-of-type {\n",
       "        vertical-align: middle;\n",
       "    }\n",
       "\n",
       "    .dataframe tbody tr th {\n",
       "        vertical-align: top;\n",
       "    }\n",
       "\n",
       "    .dataframe thead th {\n",
       "        text-align: right;\n",
       "    }\n",
       "</style>\n",
       "<table border=\"1\" class=\"dataframe\">\n",
       "  <thead>\n",
       "    <tr style=\"text-align: right;\">\n",
       "      <th></th>\n",
       "      <th>survived</th>\n",
       "      <th>pclass</th>\n",
       "      <th>sex</th>\n",
       "      <th>age</th>\n",
       "      <th>sibsp</th>\n",
       "      <th>parch</th>\n",
       "      <th>fare</th>\n",
       "      <th>embarked</th>\n",
       "      <th>class</th>\n",
       "      <th>who</th>\n",
       "      <th>adult_male</th>\n",
       "      <th>deck</th>\n",
       "      <th>embark_town</th>\n",
       "      <th>alive</th>\n",
       "      <th>alone</th>\n",
       "    </tr>\n",
       "  </thead>\n",
       "  <tbody>\n",
       "    <tr>\n",
       "      <th>0</th>\n",
       "      <td>0</td>\n",
       "      <td>3</td>\n",
       "      <td>male</td>\n",
       "      <td>22.0</td>\n",
       "      <td>1</td>\n",
       "      <td>0</td>\n",
       "      <td>7.2500</td>\n",
       "      <td>S</td>\n",
       "      <td>Third</td>\n",
       "      <td>man</td>\n",
       "      <td>True</td>\n",
       "      <td>NaN</td>\n",
       "      <td>Southampton</td>\n",
       "      <td>no</td>\n",
       "      <td>False</td>\n",
       "    </tr>\n",
       "    <tr>\n",
       "      <th>1</th>\n",
       "      <td>1</td>\n",
       "      <td>1</td>\n",
       "      <td>female</td>\n",
       "      <td>38.0</td>\n",
       "      <td>1</td>\n",
       "      <td>0</td>\n",
       "      <td>71.2833</td>\n",
       "      <td>C</td>\n",
       "      <td>First</td>\n",
       "      <td>woman</td>\n",
       "      <td>False</td>\n",
       "      <td>C</td>\n",
       "      <td>Cherbourg</td>\n",
       "      <td>yes</td>\n",
       "      <td>False</td>\n",
       "    </tr>\n",
       "    <tr>\n",
       "      <th>2</th>\n",
       "      <td>1</td>\n",
       "      <td>3</td>\n",
       "      <td>female</td>\n",
       "      <td>26.0</td>\n",
       "      <td>0</td>\n",
       "      <td>0</td>\n",
       "      <td>7.9250</td>\n",
       "      <td>S</td>\n",
       "      <td>Third</td>\n",
       "      <td>woman</td>\n",
       "      <td>False</td>\n",
       "      <td>NaN</td>\n",
       "      <td>Southampton</td>\n",
       "      <td>yes</td>\n",
       "      <td>True</td>\n",
       "    </tr>\n",
       "    <tr>\n",
       "      <th>3</th>\n",
       "      <td>1</td>\n",
       "      <td>1</td>\n",
       "      <td>female</td>\n",
       "      <td>35.0</td>\n",
       "      <td>1</td>\n",
       "      <td>0</td>\n",
       "      <td>53.1000</td>\n",
       "      <td>S</td>\n",
       "      <td>First</td>\n",
       "      <td>woman</td>\n",
       "      <td>False</td>\n",
       "      <td>C</td>\n",
       "      <td>Southampton</td>\n",
       "      <td>yes</td>\n",
       "      <td>False</td>\n",
       "    </tr>\n",
       "    <tr>\n",
       "      <th>4</th>\n",
       "      <td>0</td>\n",
       "      <td>3</td>\n",
       "      <td>male</td>\n",
       "      <td>35.0</td>\n",
       "      <td>0</td>\n",
       "      <td>0</td>\n",
       "      <td>8.0500</td>\n",
       "      <td>S</td>\n",
       "      <td>Third</td>\n",
       "      <td>man</td>\n",
       "      <td>True</td>\n",
       "      <td>NaN</td>\n",
       "      <td>Southampton</td>\n",
       "      <td>no</td>\n",
       "      <td>True</td>\n",
       "    </tr>\n",
       "  </tbody>\n",
       "</table>\n",
       "</div>"
      ],
      "text/plain": [
       "   survived  pclass     sex   age  sibsp  parch     fare embarked  class  \\\n",
       "0         0       3    male  22.0      1      0   7.2500        S  Third   \n",
       "1         1       1  female  38.0      1      0  71.2833        C  First   \n",
       "2         1       3  female  26.0      0      0   7.9250        S  Third   \n",
       "3         1       1  female  35.0      1      0  53.1000        S  First   \n",
       "4         0       3    male  35.0      0      0   8.0500        S  Third   \n",
       "\n",
       "     who  adult_male deck  embark_town alive  alone  \n",
       "0    man        True  NaN  Southampton    no  False  \n",
       "1  woman       False    C    Cherbourg   yes  False  \n",
       "2  woman       False  NaN  Southampton   yes   True  \n",
       "3  woman       False    C  Southampton   yes  False  \n",
       "4    man        True  NaN  Southampton    no   True  "
      ]
     },
     "execution_count": 61,
     "metadata": {},
     "output_type": "execute_result"
    }
   ],
   "source": [
    "# • Find null values from dataset \n",
    "df = sns.load_dataset('titanic')\n",
    "df.head()"
   ]
  },
  {
   "cell_type": "code",
   "execution_count": 62,
   "id": "b2589561",
   "metadata": {},
   "outputs": [
    {
     "data": {
      "text/plain": [
       "survived         0\n",
       "pclass           0\n",
       "sex              0\n",
       "age            177\n",
       "sibsp            0\n",
       "parch            0\n",
       "fare             0\n",
       "embarked         2\n",
       "class            0\n",
       "who              0\n",
       "adult_male       0\n",
       "deck           688\n",
       "embark_town      2\n",
       "alive            0\n",
       "alone            0\n",
       "dtype: int64"
      ]
     },
     "execution_count": 62,
     "metadata": {},
     "output_type": "execute_result"
    }
   ],
   "source": [
    "df.isnull().sum()"
   ]
  },
  {
   "cell_type": "code",
   "execution_count": 67,
   "id": "8f9c6204",
   "metadata": {},
   "outputs": [
    {
     "data": {
      "text/plain": [
       "0      1\n",
       "1      0\n",
       "2      1\n",
       "3      0\n",
       "4      1\n",
       "      ..\n",
       "886    1\n",
       "887    0\n",
       "888    2\n",
       "889    0\n",
       "890    1\n",
       "Length: 891, dtype: int64"
      ]
     },
     "execution_count": 67,
     "metadata": {},
     "output_type": "execute_result"
    }
   ],
   "source": [
    "df.isnull().sum(axis=1)"
   ]
  },
  {
   "cell_type": "code",
   "execution_count": 72,
   "id": "38675cb3",
   "metadata": {},
   "outputs": [
    {
     "data": {
      "text/html": [
       "<div>\n",
       "<style scoped>\n",
       "    .dataframe tbody tr th:only-of-type {\n",
       "        vertical-align: middle;\n",
       "    }\n",
       "\n",
       "    .dataframe tbody tr th {\n",
       "        vertical-align: top;\n",
       "    }\n",
       "\n",
       "    .dataframe thead th {\n",
       "        text-align: right;\n",
       "    }\n",
       "</style>\n",
       "<table border=\"1\" class=\"dataframe\">\n",
       "  <thead>\n",
       "    <tr style=\"text-align: right;\">\n",
       "      <th></th>\n",
       "      <th>survived</th>\n",
       "      <th>pclass</th>\n",
       "      <th>sex</th>\n",
       "      <th>age</th>\n",
       "      <th>sibsp</th>\n",
       "      <th>parch</th>\n",
       "      <th>fare</th>\n",
       "      <th>embarked</th>\n",
       "      <th>class</th>\n",
       "      <th>who</th>\n",
       "      <th>adult_male</th>\n",
       "      <th>deck</th>\n",
       "      <th>embark_town</th>\n",
       "      <th>alive</th>\n",
       "      <th>alone</th>\n",
       "    </tr>\n",
       "  </thead>\n",
       "  <tbody>\n",
       "    <tr>\n",
       "      <th>1</th>\n",
       "      <td>1</td>\n",
       "      <td>1</td>\n",
       "      <td>female</td>\n",
       "      <td>38.0</td>\n",
       "      <td>1</td>\n",
       "      <td>0</td>\n",
       "      <td>71.2833</td>\n",
       "      <td>C</td>\n",
       "      <td>First</td>\n",
       "      <td>woman</td>\n",
       "      <td>False</td>\n",
       "      <td>C</td>\n",
       "      <td>Cherbourg</td>\n",
       "      <td>yes</td>\n",
       "      <td>False</td>\n",
       "    </tr>\n",
       "    <tr>\n",
       "      <th>3</th>\n",
       "      <td>1</td>\n",
       "      <td>1</td>\n",
       "      <td>female</td>\n",
       "      <td>35.0</td>\n",
       "      <td>1</td>\n",
       "      <td>0</td>\n",
       "      <td>53.1000</td>\n",
       "      <td>S</td>\n",
       "      <td>First</td>\n",
       "      <td>woman</td>\n",
       "      <td>False</td>\n",
       "      <td>C</td>\n",
       "      <td>Southampton</td>\n",
       "      <td>yes</td>\n",
       "      <td>False</td>\n",
       "    </tr>\n",
       "  </tbody>\n",
       "</table>\n",
       "</div>"
      ],
      "text/plain": [
       "   survived  pclass     sex   age  sibsp  parch     fare embarked  class  \\\n",
       "1         1       1  female  38.0      1      0  71.2833        C  First   \n",
       "3         1       1  female  35.0      1      0  53.1000        S  First   \n",
       "\n",
       "     who  adult_male deck  embark_town alive  alone  \n",
       "1  woman       False    C    Cherbourg   yes  False  \n",
       "3  woman       False    C  Southampton   yes  False  "
      ]
     },
     "execution_count": 72,
     "metadata": {},
     "output_type": "execute_result"
    }
   ],
   "source": [
    "# Filter the data (whose gender is female, above 30yrs and doesn't have a child)\n",
    "df[(df['sex']=='female') & (df['age']>30) & (df['parch'] == 0)].head(2)"
   ]
  },
  {
   "cell_type": "code",
   "execution_count": 73,
   "id": "a5111862",
   "metadata": {},
   "outputs": [],
   "source": [
    "# Python program to swap to numbers in a list \n",
    "def swap(l1,l2):\n",
    "    l1,l2 = l2,l1\n",
    "    return l1,l2"
   ]
  },
  {
   "cell_type": "code",
   "execution_count": 75,
   "id": "b73097e7",
   "metadata": {},
   "outputs": [],
   "source": [
    "def swap_no(l,ind1,ind2):\n",
    "    if 0<ind1<len(l) and 0<ind2<len(l):\n",
    "        l[ind1],l[ind2] = l[ind2],l[ind1]\n",
    "        return l\n",
    "    else:\n",
    "        print('Invalid index range')"
   ]
  },
  {
   "cell_type": "code",
   "execution_count": 78,
   "id": "c2f59da9",
   "metadata": {},
   "outputs": [
    {
     "data": {
      "text/plain": [
       "[1, 2, 4, 3, 5]"
      ]
     },
     "execution_count": 78,
     "metadata": {},
     "output_type": "execute_result"
    }
   ],
   "source": [
    "list1 = [1,2,3,4,5]\n",
    "swap_no(list1,2,3)"
   ]
  },
  {
   "cell_type": "code",
   "execution_count": 85,
   "id": "000720ba",
   "metadata": {},
   "outputs": [
    {
     "name": "stdout",
     "output_type": "stream",
     "text": [
      "0 1 1 2 3 5 8 "
     ]
    }
   ],
   "source": [
    "# Python code to write Fibonacci series -- 7\n",
    "a = 0\n",
    "b = 1\n",
    "\n",
    "print(a,b,end=' ') \n",
    "for i in range (2,7):\n",
    "    temp = a + b\n",
    "    a = b\n",
    "    b = temp\n",
    "    print(temp,end=' ')\n",
    "    "
   ]
  },
  {
   "cell_type": "code",
   "execution_count": 86,
   "id": "d74beee4",
   "metadata": {},
   "outputs": [],
   "source": [
    "# Write a program to print factorial number\n",
    "\n",
    "def fact(n):\n",
    "    if n==0:\n",
    "        return 1\n",
    "    else:\n",
    "        return n*fact(n-1)"
   ]
  },
  {
   "cell_type": "code",
   "execution_count": 8,
   "id": "c3db7683",
   "metadata": {},
   "outputs": [
    {
     "name": "stdout",
     "output_type": "stream",
     "text": [
      "Enter a number: 5\n",
      "Factorial = 120\n"
     ]
    }
   ],
   "source": [
    "no = int(input(\"Enter a number: \"))\n",
    "fact = 1\n",
    "\n",
    "if no < 0:\n",
    "    print(\"Factorial is not defined for negative numbers.\")\n",
    "elif no == 0:\n",
    "    print(\"Factorial of 0 is 1.\")\n",
    "else:\n",
    "    for i in range(1, no + 1):\n",
    "        fact *= i\n",
    "\n",
    "    print('Factorial =', fact)"
   ]
  },
  {
   "cell_type": "code",
   "execution_count": 111,
   "id": "7b6ebd3b",
   "metadata": {},
   "outputs": [
    {
     "data": {
      "text/plain": [
       "array([[ 1,  2,  3,  4],\n",
       "       [ 5,  6,  7,  8],\n",
       "       [ 9, 10, 11, 12]])"
      ]
     },
     "execution_count": 111,
     "metadata": {},
     "output_type": "execute_result"
    }
   ],
   "source": [
    "# • Sort a given array \n",
    "a = np.arange(1,13).reshape(3,4)\n",
    "a"
   ]
  },
  {
   "cell_type": "code",
   "execution_count": 126,
   "id": "2ed2b2ca",
   "metadata": {},
   "outputs": [
    {
     "data": {
      "text/plain": [
       "array([[10, 16, 29, 65],\n",
       "       [ 9, 30, 90, 94],\n",
       "       [ 1, 37, 41, 74]])"
      ]
     },
     "execution_count": 126,
     "metadata": {},
     "output_type": "execute_result"
    }
   ],
   "source": [
    "np.random.seed(10)\n",
    "a=np.random.randint(1,100,12).reshape(3,4)\n",
    "a.sort(axis=1)\n",
    "a"
   ]
  },
  {
   "cell_type": "code",
   "execution_count": 127,
   "id": "dcf24b92",
   "metadata": {
    "scrolled": true
   },
   "outputs": [
    {
     "data": {
      "text/plain": [
       "array([[ 1, 37, 41, 74],\n",
       "       [ 9, 30, 90, 94],\n",
       "       [10, 16, 29, 65]])"
      ]
     },
     "execution_count": 127,
     "metadata": {},
     "output_type": "execute_result"
    }
   ],
   "source": [
    "a[::-1]"
   ]
  },
  {
   "cell_type": "code",
   "execution_count": 130,
   "id": "8367f444",
   "metadata": {},
   "outputs": [
    {
     "data": {
      "text/plain": [
       "array([[74, 41, 37,  1],\n",
       "       [94, 90, 30,  9],\n",
       "       [65, 29, 16, 10]])"
      ]
     },
     "execution_count": 130,
     "metadata": {},
     "output_type": "execute_result"
    }
   ],
   "source": [
    "b=a[::-1,::-1]\n",
    "b"
   ]
  },
  {
   "cell_type": "code",
   "execution_count": null,
   "id": "e5fc9041",
   "metadata": {},
   "outputs": [],
   "source": [
    "# • consonant will be shifted to 3rd right \n",
    "# • Example: zap ---> dAs\""
   ]
  },
  {
   "cell_type": "code",
   "execution_count": 134,
   "id": "9f6dcc1e",
   "metadata": {},
   "outputs": [
    {
     "data": {
      "text/plain": [
       "[2, 4, 6, 8, 10, 12, 14, 16, 18, 20]"
      ]
     },
     "execution_count": 134,
     "metadata": {},
     "output_type": "execute_result"
    }
   ],
   "source": [
    "# Even no\n",
    "eva = list(filter(lambda x: x%2==0, range(1,21)))\n",
    "eva"
   ]
  },
  {
   "cell_type": "code",
   "execution_count": 135,
   "id": "dbd47518",
   "metadata": {},
   "outputs": [
    {
     "data": {
      "text/plain": [
       "[112, 114, 97, 106, 97, 107, 116, 97]"
      ]
     },
     "execution_count": 135,
     "metadata": {},
     "output_type": "execute_result"
    }
   ],
   "source": [
    "# ascii val\n",
    "asc = list(map(lambda x: ord(x), 'prajakta'))\n",
    "asc"
   ]
  },
  {
   "cell_type": "code",
   "execution_count": 137,
   "id": "0cf57f31",
   "metadata": {},
   "outputs": [
    {
     "data": {
      "text/plain": [
       "[112, 114, 97, 106, 97, 107, 116, 97]"
      ]
     },
     "execution_count": 137,
     "metadata": {},
     "output_type": "execute_result"
    }
   ],
   "source": [
    "as1 = list(map(ord, 'prajakta'))\n",
    "as1"
   ]
  },
  {
   "cell_type": "code",
   "execution_count": 143,
   "id": "4dec06e0",
   "metadata": {},
   "outputs": [
    {
     "data": {
      "text/plain": [
       "['dkfhfun', 'djfjek']"
      ]
     },
     "execution_count": 143,
     "metadata": {},
     "output_type": "execute_result"
    }
   ],
   "source": [
    "# string length > 4\n",
    "l = ['abcd', 'sb', 'dkfhfun','djfjek']\n",
    "a = list(filter(lambda x: len(str(x)) > 4, l))\n",
    "a"
   ]
  },
  {
   "cell_type": "code",
   "execution_count": 149,
   "id": "c2d1cfe3",
   "metadata": {},
   "outputs": [
    {
     "data": {
      "text/plain": [
       "(4, 16, 36, 400)"
      ]
     },
     "execution_count": 149,
     "metadata": {},
     "output_type": "execute_result"
    }
   ],
   "source": [
    "# sq of ev no in list\n",
    "l = [2,4,5,7,6,20]\n",
    "a = tuple(map(lambda x: x**2, (filter(lambda x: x%2==0,l))))\n",
    "a"
   ]
  },
  {
   "cell_type": "code",
   "execution_count": 150,
   "id": "c2a5b9a5",
   "metadata": {},
   "outputs": [],
   "source": [
    "def chk(x):\n",
    "    if len(x)>4:\n",
    "        return True\n",
    "    else:\n",
    "        return False"
   ]
  },
  {
   "cell_type": "code",
   "execution_count": 151,
   "id": "1d5eb007",
   "metadata": {},
   "outputs": [
    {
     "data": {
      "text/plain": [
       "[False, False, True, True]"
      ]
     },
     "execution_count": 151,
     "metadata": {},
     "output_type": "execute_result"
    }
   ],
   "source": [
    "l = ['abcd', 'sb', 'dkfhfun','djfjek']\n",
    "a = list(map(chk, l))\n",
    "a"
   ]
  },
  {
   "cell_type": "code",
   "execution_count": 152,
   "id": "68ab75b1",
   "metadata": {},
   "outputs": [
    {
     "data": {
      "text/plain": [
       "'d'"
      ]
     },
     "execution_count": 152,
     "metadata": {},
     "output_type": "execute_result"
    }
   ],
   "source": [
    "chr(ord('a')+3)"
   ]
  },
  {
   "cell_type": "code",
   "execution_count": 153,
   "id": "4bd09974",
   "metadata": {},
   "outputs": [
    {
     "data": {
      "text/plain": [
       "120"
      ]
     },
     "execution_count": 153,
     "metadata": {},
     "output_type": "execute_result"
    }
   ],
   "source": [
    "ord('x')  # make it 97, y-b, z-c"
   ]
  },
  {
   "cell_type": "code",
   "execution_count": 159,
   "id": "6c3773eb",
   "metadata": {},
   "outputs": [
    {
     "data": {
      "text/plain": [
       "23"
      ]
     },
     "execution_count": 159,
     "metadata": {},
     "output_type": "execute_result"
    }
   ],
   "source": [
    "120-97"
   ]
  },
  {
   "cell_type": "code",
   "execution_count": 161,
   "id": "8f497c5d",
   "metadata": {},
   "outputs": [
    {
     "name": "stdout",
     "output_type": "stream",
     "text": [
      "k\n",
      "h\n",
      "o\n",
      "o\n",
      "\u0017\n"
     ]
    }
   ],
   "source": [
    "# return vowels --> as upper case ,consonant will be shifted to 3rd right ,Example: zap ---> dAs\"\n",
    "inp = 'hellz'\n",
    "for i in inp:\n",
    "    if ord(i)==120:\n",
    "        i = chr(ord(i)-97)\n",
    "    elif ord(i)==121:\n",
    "        i = chr(ord(i)-98)\n",
    "    elif ord(i)==122:\n",
    "        i = chr(ord(i)-99)\n",
    "    else:\n",
    "        i= chr(ord(i)+3)\n",
    "    print(i)"
   ]
  },
  {
   "cell_type": "code",
   "execution_count": 174,
   "id": "166236d6",
   "metadata": {},
   "outputs": [
    {
     "name": "stdout",
     "output_type": "stream",
     "text": [
      "kEoobc\n"
     ]
    }
   ],
   "source": [
    "string = 'hellyz'\n",
    "new = ''\n",
    "for letter in string:\n",
    "    if letter in ('aeiou'):\n",
    "        new+=letter.upper()\n",
    "    elif ord(letter)>=97 and ord(letter)<120:\n",
    "        new+=chr(ord(letter)+3)\n",
    "    elif letter=='x':\n",
    "        new+='a'\n",
    "    elif letter=='y':\n",
    "        new+='b'\n",
    "    else:\n",
    "        new+='c'\n",
    "print(new)"
   ]
  },
  {
   "cell_type": "code",
   "execution_count": 183,
   "id": "481f69d2",
   "metadata": {},
   "outputs": [
    {
     "data": {
      "text/plain": [
       "[[1, 2, 3, 4, 5, 1, 2, 3, 4, 5], [2, 3, 4, 5, 2, 3, 4, 5], [7, 8, 9, 7, 8, 9]]"
      ]
     },
     "execution_count": 183,
     "metadata": {},
     "output_type": "execute_result"
    }
   ],
   "source": [
    "l1 = [1,2,3,4,5]\n",
    "l2 = [2,3,4,5]\n",
    "l3=[7,8,9]\n",
    "\n",
    "lnew = list(map(lambda x:x*2, (l1,l2,l3)))\n",
    "lnew"
   ]
  },
  {
   "cell_type": "code",
   "execution_count": 185,
   "id": "d0a3d9fb",
   "metadata": {},
   "outputs": [
    {
     "data": {
      "text/plain": [
       "[2, 6, 12, 20, 30]"
      ]
     },
     "execution_count": 185,
     "metadata": {},
     "output_type": "execute_result"
    }
   ],
   "source": [
    "l1 = [1,2,3,4,5]\n",
    "l2 = [2,3,4,5,6]\n",
    "\n",
    "lnew = list(map(lambda x,y:x*y, l1,l2)) # map can hv multiple iterable input but filter can hv only 1 iterable input \n",
    "lnew"
   ]
  },
  {
   "cell_type": "code",
   "execution_count": 189,
   "id": "8ea57b58",
   "metadata": {},
   "outputs": [
    {
     "name": "stdout",
     "output_type": "stream",
     "text": [
      "[12, 2, 1, 13, 6, 5, 8, 19, 13, 3]\n",
      "[12, 14, 15, 28, 34, 39, 47, 66, 79, 82]\n"
     ]
    }
   ],
   "source": [
    "from itertools import accumulate\n",
    "l = np.random.randint(1,20,10)\n",
    "l =list(l)\n",
    "print(l)\n",
    "l2=list(accumulate(l, lambda x,y: x+y))\n",
    "print(l2)"
   ]
  }
 ],
 "metadata": {
  "kernelspec": {
   "display_name": "Python 3 (ipykernel)",
   "language": "python",
   "name": "python3"
  },
  "language_info": {
   "codemirror_mode": {
    "name": "ipython",
    "version": 3
   },
   "file_extension": ".py",
   "mimetype": "text/x-python",
   "name": "python",
   "nbconvert_exporter": "python",
   "pygments_lexer": "ipython3",
   "version": "3.11.3"
  }
 },
 "nbformat": 4,
 "nbformat_minor": 5
}
